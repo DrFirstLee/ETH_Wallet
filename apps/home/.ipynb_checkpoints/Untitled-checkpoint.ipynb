{
 "cells": [
  {
   "cell_type": "code",
   "execution_count": 3,
   "id": "fcff6c62",
   "metadata": {},
   "outputs": [],
   "source": [
    "import sqlite3\n",
    "import pandas as pd\n",
    "\n",
    "conn = sqlite3.connect(\"/home/site/flask-volt-dashboard/apps/db.sqlite3\")\n",
    "cur = conn.cursor()"
   ]
  },
  {
   "cell_type": "code",
   "execution_count": 14,
   "id": "b425469f",
   "metadata": {},
   "outputs": [],
   "source": [
    "from web3 import Web3\n",
    "BLOCKCHAIN_ADR = \"http://175.45.201.73:8505\"\n",
    "w3 = Web3(Web3.HTTPProvider(BLOCKCHAIN_ADR))"
   ]
  },
  {
   "cell_type": "code",
   "execution_count": 8,
   "id": "d6c6cffb",
   "metadata": {},
   "outputs": [],
   "source": [
    "user_data = pd.read_sql('SELECT * FROM Users', conn)"
   ]
  },
  {
   "cell_type": "code",
   "execution_count": 9,
   "id": "8cfd7c19",
   "metadata": {},
   "outputs": [
    {
     "data": {
      "text/html": [
       "<div>\n",
       "<style scoped>\n",
       "    .dataframe tbody tr th:only-of-type {\n",
       "        vertical-align: middle;\n",
       "    }\n",
       "\n",
       "    .dataframe tbody tr th {\n",
       "        vertical-align: top;\n",
       "    }\n",
       "\n",
       "    .dataframe thead th {\n",
       "        text-align: right;\n",
       "    }\n",
       "</style>\n",
       "<table border=\"1\" class=\"dataframe\">\n",
       "  <thead>\n",
       "    <tr style=\"text-align: right;\">\n",
       "      <th></th>\n",
       "      <th>id</th>\n",
       "      <th>username</th>\n",
       "      <th>email</th>\n",
       "      <th>password</th>\n",
       "      <th>wallet</th>\n",
       "      <th>first_name</th>\n",
       "      <th>last_name</th>\n",
       "      <th>birthday</th>\n",
       "      <th>gender</th>\n",
       "      <th>phone</th>\n",
       "    </tr>\n",
       "  </thead>\n",
       "  <tbody>\n",
       "    <tr>\n",
       "      <th>0</th>\n",
       "      <td>1</td>\n",
       "      <td>dokylee</td>\n",
       "      <td>dokylee54@gmail.com</td>\n",
       "      <td>b'beeb178448759383444b0b205780bf1c9c3d2a5fa8f1...</td>\n",
       "      <td>0xbe52007ee56Ed5AB7633e4852a2502Ad70dF1762</td>\n",
       "      <td>doky</td>\n",
       "      <td>last-user1</td>\n",
       "      <td>20220922</td>\n",
       "      <td>M</td>\n",
       "      <td>01035222227</td>\n",
       "    </tr>\n",
       "    <tr>\n",
       "      <th>1</th>\n",
       "      <td>2</td>\n",
       "      <td>user1</td>\n",
       "      <td>user1@gmail.com</td>\n",
       "      <td>b'63c43725f7c50be5279ca5e69fc7d0a61ef9ea776a6a...</td>\n",
       "      <td>0x247caD7e349f9896c646f85Ae64eEDA109cb5bb4</td>\n",
       "      <td>None</td>\n",
       "      <td>None</td>\n",
       "      <td>None</td>\n",
       "      <td>None</td>\n",
       "      <td>None</td>\n",
       "    </tr>\n",
       "    <tr>\n",
       "      <th>2</th>\n",
       "      <td>3</td>\n",
       "      <td>user2</td>\n",
       "      <td>user2@gmail.com</td>\n",
       "      <td>b'd67169ebe6caad42bef718beeefa266a244d5238ea53...</td>\n",
       "      <td>0x918D33b661602c8E5B19eDcc25A0e77D5E4e7C8e</td>\n",
       "      <td>None</td>\n",
       "      <td>None</td>\n",
       "      <td>None</td>\n",
       "      <td>None</td>\n",
       "      <td>None</td>\n",
       "    </tr>\n",
       "    <tr>\n",
       "      <th>3</th>\n",
       "      <td>4</td>\n",
       "      <td>user3</td>\n",
       "      <td>user3@gmail.com</td>\n",
       "      <td>b'85d0360ba02e2144ca7dd4b05a16abf99d2490178c84...</td>\n",
       "      <td>0x5bFDD9eBFec41Ee9934fd57c414fF67356954aE3</td>\n",
       "      <td>None</td>\n",
       "      <td>None</td>\n",
       "      <td>None</td>\n",
       "      <td>None</td>\n",
       "      <td>None</td>\n",
       "    </tr>\n",
       "    <tr>\n",
       "      <th>4</th>\n",
       "      <td>5</td>\n",
       "      <td>lsi8505</td>\n",
       "      <td>lsi8505@hanmail.net</td>\n",
       "      <td>b'0fd4e7f1720f622143c40f830fbf2aaeb064a486fdea...</td>\n",
       "      <td>0x052e6C3ee43219CB134714AeA16cC44BA9b760E1</td>\n",
       "      <td>None</td>\n",
       "      <td>None</td>\n",
       "      <td>None</td>\n",
       "      <td>None</td>\n",
       "      <td>None</td>\n",
       "    </tr>\n",
       "    <tr>\n",
       "      <th>5</th>\n",
       "      <td>6</td>\n",
       "      <td>lsi429</td>\n",
       "      <td>lsi429@naver.com</td>\n",
       "      <td>b'54fca8337365ac82a4ffa2d12258b4579e4452895763...</td>\n",
       "      <td>0xD56a953478DeF80377e5717e6a4bf1C70174A7dA</td>\n",
       "      <td>None</td>\n",
       "      <td>None</td>\n",
       "      <td>None</td>\n",
       "      <td>None</td>\n",
       "      <td>None</td>\n",
       "    </tr>\n",
       "  </tbody>\n",
       "</table>\n",
       "</div>"
      ],
      "text/plain": [
       "   id username                email  \\\n",
       "0   1  dokylee  dokylee54@gmail.com   \n",
       "1   2    user1      user1@gmail.com   \n",
       "2   3    user2      user2@gmail.com   \n",
       "3   4    user3      user3@gmail.com   \n",
       "4   5  lsi8505  lsi8505@hanmail.net   \n",
       "5   6   lsi429     lsi429@naver.com   \n",
       "\n",
       "                                            password  \\\n",
       "0  b'beeb178448759383444b0b205780bf1c9c3d2a5fa8f1...   \n",
       "1  b'63c43725f7c50be5279ca5e69fc7d0a61ef9ea776a6a...   \n",
       "2  b'd67169ebe6caad42bef718beeefa266a244d5238ea53...   \n",
       "3  b'85d0360ba02e2144ca7dd4b05a16abf99d2490178c84...   \n",
       "4  b'0fd4e7f1720f622143c40f830fbf2aaeb064a486fdea...   \n",
       "5  b'54fca8337365ac82a4ffa2d12258b4579e4452895763...   \n",
       "\n",
       "                                       wallet first_name   last_name  \\\n",
       "0  0xbe52007ee56Ed5AB7633e4852a2502Ad70dF1762       doky  last-user1   \n",
       "1  0x247caD7e349f9896c646f85Ae64eEDA109cb5bb4       None        None   \n",
       "2  0x918D33b661602c8E5B19eDcc25A0e77D5E4e7C8e       None        None   \n",
       "3  0x5bFDD9eBFec41Ee9934fd57c414fF67356954aE3       None        None   \n",
       "4  0x052e6C3ee43219CB134714AeA16cC44BA9b760E1       None        None   \n",
       "5  0xD56a953478DeF80377e5717e6a4bf1C70174A7dA       None        None   \n",
       "\n",
       "   birthday gender        phone  \n",
       "0  20220922      M  01035222227  \n",
       "1      None   None         None  \n",
       "2      None   None         None  \n",
       "3      None   None         None  \n",
       "4      None   None         None  \n",
       "5      None   None         None  "
      ]
     },
     "execution_count": 9,
     "metadata": {},
     "output_type": "execute_result"
    }
   ],
   "source": [
    "user_data"
   ]
  },
  {
   "cell_type": "code",
   "execution_count": 19,
   "id": "3fb056d0",
   "metadata": {},
   "outputs": [
    {
     "data": {
      "text/plain": [
       "b'54fca8337365ac82a4ffa2d12258b4579e4452895763ca9e589995cdf8aac636b5374ed74049247b4b054bedd44c1aee9f0e6a1a855cce3ada8ddd5edf39736043125784563353c1360d2defb191bbf28b47b66e41437171a392a106e600b8d3'"
      ]
     },
     "execution_count": 19,
     "metadata": {},
     "output_type": "execute_result"
    }
   ],
   "source": [
    "user_data.iloc[-1,3]"
   ]
  },
  {
   "cell_type": "code",
   "execution_count": 13,
   "id": "17fb3008",
   "metadata": {},
   "outputs": [],
   "source": [
    "def get_points(wallet):\n",
    "    my_points =  Web3.fromWei(w3.eth.getBalance(wallet), 'ether')\n",
    "    return my_points\n",
    "\n",
    "user_data['points'] = user_data['wallet'].apply(get_points)"
   ]
  },
  {
   "cell_type": "code",
   "execution_count": 14,
   "id": "882fdb45",
   "metadata": {},
   "outputs": [
    {
     "data": {
      "text/html": [
       "<div>\n",
       "<style scoped>\n",
       "    .dataframe tbody tr th:only-of-type {\n",
       "        vertical-align: middle;\n",
       "    }\n",
       "\n",
       "    .dataframe tbody tr th {\n",
       "        vertical-align: top;\n",
       "    }\n",
       "\n",
       "    .dataframe thead th {\n",
       "        text-align: right;\n",
       "    }\n",
       "</style>\n",
       "<table border=\"1\" class=\"dataframe\">\n",
       "  <thead>\n",
       "    <tr style=\"text-align: right;\">\n",
       "      <th></th>\n",
       "      <th>id</th>\n",
       "      <th>username</th>\n",
       "      <th>email</th>\n",
       "      <th>password</th>\n",
       "      <th>wallet</th>\n",
       "      <th>first_name</th>\n",
       "      <th>last_name</th>\n",
       "      <th>birthday</th>\n",
       "      <th>gender</th>\n",
       "      <th>phone</th>\n",
       "      <th>points</th>\n",
       "    </tr>\n",
       "  </thead>\n",
       "  <tbody>\n",
       "    <tr>\n",
       "      <th>0</th>\n",
       "      <td>1</td>\n",
       "      <td>user1</td>\n",
       "      <td>user1@gmail.com</td>\n",
       "      <td>b'7f43610d8ea6de628eae62b6e894d2ccdce83e68e0a7...</td>\n",
       "      <td>0x4d7d0907D71789A5f5D9FA7C474154D99629392b</td>\n",
       "      <td>None</td>\n",
       "      <td>None</td>\n",
       "      <td>None</td>\n",
       "      <td>None</td>\n",
       "      <td>None</td>\n",
       "      <td>0</td>\n",
       "    </tr>\n",
       "    <tr>\n",
       "      <th>1</th>\n",
       "      <td>2</td>\n",
       "      <td>user2</td>\n",
       "      <td>user2@gmail.com</td>\n",
       "      <td>b'973967d8827fe6eadde5a04a098786a1de00c6712188...</td>\n",
       "      <td>0xF90cDB41C378303A592BcaC56060B0c56c3C2C68</td>\n",
       "      <td>None</td>\n",
       "      <td>None</td>\n",
       "      <td>None</td>\n",
       "      <td>None</td>\n",
       "      <td>None</td>\n",
       "      <td>0</td>\n",
       "    </tr>\n",
       "  </tbody>\n",
       "</table>\n",
       "</div>"
      ],
      "text/plain": [
       "   id username            email  \\\n",
       "0   1    user1  user1@gmail.com   \n",
       "1   2    user2  user2@gmail.com   \n",
       "\n",
       "                                            password  \\\n",
       "0  b'7f43610d8ea6de628eae62b6e894d2ccdce83e68e0a7...   \n",
       "1  b'973967d8827fe6eadde5a04a098786a1de00c6712188...   \n",
       "\n",
       "                                       wallet first_name last_name birthday  \\\n",
       "0  0x4d7d0907D71789A5f5D9FA7C474154D99629392b       None      None     None   \n",
       "1  0xF90cDB41C378303A592BcaC56060B0c56c3C2C68       None      None     None   \n",
       "\n",
       "  gender phone  points  \n",
       "0   None  None       0  \n",
       "1   None  None       0  "
      ]
     },
     "execution_count": 14,
     "metadata": {},
     "output_type": "execute_result"
    }
   ],
   "source": [
    "user_data"
   ]
  },
  {
   "cell_type": "code",
   "execution_count": null,
   "id": "de6ef615",
   "metadata": {},
   "outputs": [],
   "source": []
  },
  {
   "cell_type": "code",
   "execution_count": 11,
   "id": "c16bbb39",
   "metadata": {},
   "outputs": [],
   "source": [
    "import os"
   ]
  },
  {
   "cell_type": "code",
   "execution_count": 12,
   "id": "35d489b2",
   "metadata": {},
   "outputs": [
    {
     "data": {
      "text/plain": [
       "'/home/site/flask-volt-dashboard/apps/home'"
      ]
     },
     "execution_count": 12,
     "metadata": {},
     "output_type": "execute_result"
    }
   ],
   "source": [
    "os.getcwd()"
   ]
  },
  {
   "cell_type": "code",
   "execution_count": 17,
   "id": "054e0efa",
   "metadata": {},
   "outputs": [
    {
     "data": {
      "text/plain": [
       "'{\"address\":\"d56a953478def80377e5717e6a4bf1c70174a7da\",\"crypto\":{\"cipher\":\"aes-128-ctr\",\"ciphertext\":\"3471b170d20ba3b2c248d1eac44dc55491fbd3091d5748f0078ed24a3ac9a0ce\",\"cipherparams\":{\"iv\":\"ceabf798971fe9e1ec254b470f20aa43\"},\"kdf\":\"scrypt\",\"kdfparams\":{\"dklen\":32,\"n\":262144,\"p\":1,\"r\":8,\"salt\":\"f23bedb191d780f1c981ea1c1d43e8a240db936ccbc52aae9384dd3b084547eb\"},\"mac\":\"3832a46dd2b3e7b7942b1dc6408cb0af76a43c22d2dc3f4ecea1879514e8275c\"},\"id\":\"bd7227c8-2213-466c-9acd-275e20ea12cc\",\"version\":3}'"
      ]
     },
     "execution_count": 17,
     "metadata": {},
     "output_type": "execute_result"
    }
   ],
   "source": [
    "encrypted_key"
   ]
  },
  {
   "cell_type": "code",
   "execution_count": 22,
   "id": "f9ace470",
   "metadata": {},
   "outputs": [
    {
     "data": {
      "text/plain": [
       "HexBytes('0x8832956a997ef12b727466774f306ca2f25df4f169823ab25e1602a3a35b8b0d')"
      ]
     },
     "execution_count": 22,
     "metadata": {},
     "output_type": "execute_result"
    }
   ],
   "source": [
    "with open('/home/private-geth/data/keystore/UTC--2022-09-22T09-54-53.930040175Z--d56a953478def80377e5717e6a4bf1c70174a7da') as keyfile:\n",
    "    encrypted_key = keyfile.read()\n",
    "    private_key = w3.eth.account.decrypt(encrypted_key, 'lsi429')\n",
    "private_key"
   ]
  }
 ],
 "metadata": {
  "kernelspec": {
   "display_name": "Python 3",
   "language": "python",
   "name": "python3"
  },
  "language_info": {
   "codemirror_mode": {
    "name": "ipython",
    "version": 3
   },
   "file_extension": ".py",
   "mimetype": "text/x-python",
   "name": "python",
   "nbconvert_exporter": "python",
   "pygments_lexer": "ipython3",
   "version": "3.8.10"
  }
 },
 "nbformat": 4,
 "nbformat_minor": 5
}
