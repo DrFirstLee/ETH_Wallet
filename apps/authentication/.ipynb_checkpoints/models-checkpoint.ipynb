{
 "cells": [
  {
   "cell_type": "code",
   "execution_count": 5,
   "metadata": {
    "scrolled": true
   },
   "outputs": [
    {
     "name": "stdout",
     "output_type": "stream",
     "text": [
      "Collecting flask_sqlalchemy\n",
      "  Using cached Flask_SQLAlchemy-2.5.1-py2.py3-none-any.whl (17 kB)\n",
      "Requirement already satisfied: Flask>=0.10 in /usr/local/lib/python3.8/dist-packages (from flask_sqlalchemy) (2.2.2)\n",
      "Collecting SQLAlchemy>=0.8.0\n",
      "  Downloading SQLAlchemy-1.4.40-cp38-cp38-manylinux_2_5_x86_64.manylinux1_x86_64.manylinux_2_17_x86_64.manylinux2014_x86_64.whl (1.6 MB)\n",
      "\u001b[K     |████████████████████████████████| 1.6 MB 27.4 MB/s eta 0:00:01\n",
      "\u001b[?25hRequirement already satisfied: click>=8.0 in /usr/local/lib/python3.8/dist-packages (from Flask>=0.10->flask_sqlalchemy) (8.1.3)\n",
      "Requirement already satisfied: Jinja2>=3.0 in /usr/local/lib/python3.8/dist-packages (from Flask>=0.10->flask_sqlalchemy) (3.1.2)\n",
      "Requirement already satisfied: importlib-metadata>=3.6.0; python_version < \"3.10\" in /usr/local/lib/python3.8/dist-packages (from Flask>=0.10->flask_sqlalchemy) (4.12.0)\n",
      "Requirement already satisfied: Werkzeug>=2.2.2 in /usr/local/lib/python3.8/dist-packages (from Flask>=0.10->flask_sqlalchemy) (2.2.2)\n",
      "Requirement already satisfied: itsdangerous>=2.0 in /usr/local/lib/python3.8/dist-packages (from Flask>=0.10->flask_sqlalchemy) (2.1.2)\n",
      "Collecting greenlet!=0.4.17; python_version >= \"3\" and (platform_machine == \"aarch64\" or (platform_machine == \"ppc64le\" or (platform_machine == \"x86_64\" or (platform_machine == \"amd64\" or (platform_machine == \"AMD64\" or (platform_machine == \"win32\" or platform_machine == \"WIN32\"))))))\n",
      "  Using cached greenlet-1.1.2-cp38-cp38-manylinux_2_17_x86_64.manylinux2014_x86_64.whl (156 kB)\n",
      "Requirement already satisfied: MarkupSafe>=2.0 in /usr/local/lib/python3.8/dist-packages (from Jinja2>=3.0->Flask>=0.10->flask_sqlalchemy) (2.1.1)\n",
      "Requirement already satisfied: zipp>=0.5 in /usr/lib/python3/dist-packages (from importlib-metadata>=3.6.0; python_version < \"3.10\"->Flask>=0.10->flask_sqlalchemy) (1.0.0)\n",
      "Installing collected packages: greenlet, SQLAlchemy, flask-sqlalchemy\n",
      "Successfully installed SQLAlchemy-1.4.40 flask-sqlalchemy-2.5.1 greenlet-1.1.2\n"
     ]
    }
   ],
   "source": [
    "!pip install flask_sqlalchemy"
   ]
  },
  {
   "cell_type": "code",
   "execution_count": 7,
   "metadata": {},
   "outputs": [],
   "source": [
    "\n",
    "from flask_login import UserMixin\n",
    "\n",
    "# from apps import db, login_manager\n",
    "from flask import Flask\n",
    "from flask_login import LoginManager\n",
    "from flask_sqlalchemy import SQLAlchemy\n",
    "from importlib import import_module\n",
    "\n",
    "\n",
    "# from apps import db, login_manager\n",
    "db = SQLAlchemy()\n",
    "login_manager = LoginManager()\n",
    "\n",
    "# from apps.authentication.util import hash_pass\n",
    "def hash_pass(password):\n",
    "    \"\"\"Hash a password for storing.\"\"\"\n",
    "\n",
    "    salt = hashlib.sha256(os.urandom(60)).hexdigest().encode('ascii')\n",
    "    pwdhash = hashlib.pbkdf2_hmac('sha512', password.encode('utf-8'),\n",
    "                                  salt, 100000)\n",
    "    pwdhash = binascii.hexlify(pwdhash)\n",
    "    return (salt + pwdhash)  # return bytes\n"
   ]
  },
  {
   "cell_type": "code",
   "execution_count": null,
   "metadata": {},
   "outputs": [],
   "source": []
  }
 ],
 "metadata": {
  "kernelspec": {
   "display_name": "Python 3",
   "language": "python",
   "name": "python3"
  },
  "language_info": {
   "codemirror_mode": {
    "name": "ipython",
    "version": 3
   },
   "file_extension": ".py",
   "mimetype": "text/x-python",
   "name": "python",
   "nbconvert_exporter": "python",
   "pygments_lexer": "ipython3",
   "version": "3.8.10"
  }
 },
 "nbformat": 4,
 "nbformat_minor": 4
}
