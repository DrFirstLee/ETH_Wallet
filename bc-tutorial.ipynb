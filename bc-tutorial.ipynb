{
 "cells": [
  {
   "cell_type": "markdown",
   "id": "5eaee655",
   "metadata": {},
   "source": [
    "## Web3 Sample"
   ]
  },
  {
   "cell_type": "markdown",
   "id": "10a5bf19",
   "metadata": {},
   "source": [
    "### CHECK WALLET LIST"
   ]
  },
  {
   "cell_type": "code",
   "execution_count": 7,
   "id": "72cf6810",
   "metadata": {},
   "outputs": [],
   "source": [
    "import requests\n",
    "import json\n",
    "import time"
   ]
  },
  {
   "cell_type": "code",
   "execution_count": 8,
   "id": "5c113922",
   "metadata": {},
   "outputs": [],
   "source": [
    "BLOCKCHAIN_ADR = \"http://175.45.201.73:8505\"\n",
    "# BLOCKCHAIN_ADR = \"HTTP://127.0.0.1:8545\"\n",
    "## 요기를 가나슈 어드레스로!!  : \"http://127.0.0.1:8545\""
   ]
  },
  {
   "cell_type": "code",
   "execution_count": 9,
   "id": "4ca71a86",
   "metadata": {},
   "outputs": [],
   "source": [
    "### 기존 계정조회하기\n",
    "eth_account_all = requests.post(BLOCKCHAIN_ADR, headers = {\"Content-Type\":\"application/json\"}, data = '{\"jsonrpc\":\"2.0\",\"method\":\"eth_accounts\",\"params\":[],\"id\":1}')"
   ]
  },
  {
   "cell_type": "code",
   "execution_count": 10,
   "id": "3a42c09f",
   "metadata": {},
   "outputs": [
    {
     "name": "stdout",
     "output_type": "stream",
     "text": [
      "{\"jsonrpc\":\"2.0\",\"id\":1,\"result\":[\"0xbe52007ee56ed5ab7633e4852a2502ad70df1762\",\"0x247cad7e349f9896c646f85ae64eeda109cb5bb4\",\"0x918d33b661602c8e5b19edcc25a0e77d5e4e7c8e\",\"0x5bfdd9ebfec41ee9934fd57c414ff67356954ae3\",\"0x052e6c3ee43219cb134714aea16cc44ba9b760e1\",\"0xd56a953478def80377e5717e6a4bf1c70174a7da\",\"0x23999d5366dea0e21d2f879a45605ee4aa8bd635\"]}\n",
      "\n"
     ]
    }
   ],
   "source": [
    "print(eth_account_all.text)"
   ]
  },
  {
   "cell_type": "code",
   "execution_count": 11,
   "id": "b95b4a99",
   "metadata": {},
   "outputs": [
    {
     "data": {
      "text/plain": [
       "{'jsonrpc': '2.0',\n",
       " 'id': 1,\n",
       " 'result': ['0xbe52007ee56ed5ab7633e4852a2502ad70df1762',\n",
       "  '0x247cad7e349f9896c646f85ae64eeda109cb5bb4',\n",
       "  '0x918d33b661602c8e5b19edcc25a0e77d5e4e7c8e',\n",
       "  '0x5bfdd9ebfec41ee9934fd57c414ff67356954ae3',\n",
       "  '0x052e6c3ee43219cb134714aea16cc44ba9b760e1',\n",
       "  '0xd56a953478def80377e5717e6a4bf1c70174a7da',\n",
       "  '0x23999d5366dea0e21d2f879a45605ee4aa8bd635']}"
      ]
     },
     "execution_count": 11,
     "metadata": {},
     "output_type": "execute_result"
    }
   ],
   "source": [
    "json.loads(eth_account_all.text)"
   ]
  },
  {
   "cell_type": "code",
   "execution_count": 13,
   "id": "cf09bd43",
   "metadata": {},
   "outputs": [],
   "source": [
    "from web3 import Web3"
   ]
  },
  {
   "cell_type": "code",
   "execution_count": 14,
   "id": "b6472ead",
   "metadata": {},
   "outputs": [
    {
     "data": {
      "text/plain": [
       "['0xbe52007ee56Ed5AB7633e4852a2502Ad70dF1762',\n",
       " '0x247caD7e349f9896c646f85Ae64eEDA109cb5bb4',\n",
       " '0x918D33b661602c8E5B19eDcc25A0e77D5E4e7C8e',\n",
       " '0x5bFDD9eBFec41Ee9934fd57c414fF67356954aE3',\n",
       " '0x052e6C3ee43219CB134714AeA16cC44BA9b760E1',\n",
       " '0xD56a953478DeF80377e5717e6a4bf1C70174A7dA',\n",
       " '0x23999D5366dEA0e21d2f879A45605ee4AA8Bd635']"
      ]
     },
     "execution_count": 14,
     "metadata": {},
     "output_type": "execute_result"
    }
   ],
   "source": [
    "### 기존 계정조회하기 USING Web3\n",
    "w3 = Web3(Web3.HTTPProvider(BLOCKCHAIN_ADR))\n",
    "w3.eth.accounts"
   ]
  },
  {
   "cell_type": "markdown",
   "id": "2edeab1d",
   "metadata": {},
   "source": [
    "### MAKE NEW WALLET"
   ]
  },
  {
   "cell_type": "code",
   "execution_count": 16,
   "id": "221f3107",
   "metadata": {},
   "outputs": [
    {
     "data": {
      "text/plain": [
       "'0x3b66F1836b3D24258271ea8Ee8A3189ae4BBb1a7'"
      ]
     },
     "execution_count": 16,
     "metadata": {},
     "output_type": "execute_result"
    }
   ],
   "source": [
    "### create account\n",
    "w3.parity.personal.new_account(\"user1\")"
   ]
  },
  {
   "cell_type": "code",
   "execution_count": 17,
   "id": "6be3d70b",
   "metadata": {},
   "outputs": [
    {
     "data": {
      "text/plain": [
       "['0xa921C0978B2FA8596aB0Ed40268CC33421aA1C75',\n",
       " '0x3b66F1836b3D24258271ea8Ee8A3189ae4BBb1a7']"
      ]
     },
     "execution_count": 17,
     "metadata": {},
     "output_type": "execute_result"
    }
   ],
   "source": [
    "### 기존 계정조회하기 USING Web3\n",
    "w3 = Web3(Web3.HTTPProvider(BLOCKCHAIN_ADR))\n",
    "w3.eth.accounts"
   ]
  },
  {
   "cell_type": "markdown",
   "id": "47fc5380",
   "metadata": {},
   "source": [
    "### set coinbase "
   ]
  },
  {
   "cell_type": "code",
   "execution_count": 15,
   "id": "66052438",
   "metadata": {},
   "outputs": [
    {
     "data": {
      "text/plain": [
       "True"
      ]
     },
     "execution_count": 15,
     "metadata": {},
     "output_type": "execute_result"
    }
   ],
   "source": [
    "w3.geth.miner.setEtherbase('0xbe52007ee56Ed5AB7633e4852a2502Ad70dF1762')"
   ]
  },
  {
   "cell_type": "code",
   "execution_count": 16,
   "id": "9e03cd7f",
   "metadata": {},
   "outputs": [
    {
     "data": {
      "text/plain": [
       "'0xbe52007ee56Ed5AB7633e4852a2502Ad70dF1762'"
      ]
     },
     "execution_count": 16,
     "metadata": {},
     "output_type": "execute_result"
    }
   ],
   "source": [
    "w3.eth.coinbase"
   ]
  },
  {
   "cell_type": "markdown",
   "id": "09832802",
   "metadata": {},
   "source": [
    "### mining"
   ]
  },
  {
   "cell_type": "code",
   "execution_count": 17,
   "id": "0527bd39",
   "metadata": {},
   "outputs": [],
   "source": [
    "w3.geth.miner.start()"
   ]
  },
  {
   "cell_type": "code",
   "execution_count": 51,
   "id": "8ea3b6f4",
   "metadata": {},
   "outputs": [],
   "source": [
    "w3.geth.miner.stop()"
   ]
  },
  {
   "cell_type": "markdown",
   "id": "2ec00e61",
   "metadata": {},
   "source": [
    "### CHECK BALANCE"
   ]
  },
  {
   "cell_type": "code",
   "execution_count": 12,
   "id": "fb2db5d3",
   "metadata": {},
   "outputs": [
    {
     "data": {
      "text/plain": [
       "['0x2e1a27cfe2b7CbbC31eD72d1F6623bE66eDC60e9',\n",
       " '0x0F67463cCD017808ad987fb9Ee9A1aa3bD9eFBeb',\n",
       " '0x52c9bB237C40C864350B1a5669369e70fADA3339',\n",
       " '0xbD621C907d1FAf6211BC236065492ac08A2359f6',\n",
       " '0x53C56C4D689796A5F04C15F42bf61dDe61a86557',\n",
       " '0x63F617A725c8c890f3be3563753A01349561396A',\n",
       " '0xcF880b1340f3a127C3188B82f73aeC111DaC9835',\n",
       " '0x49432F826751F205a7aaFe385a82EcaAdB7B923a',\n",
       " '0xebA21E290513A8f61f7350d83773877E9aDD7946']"
      ]
     },
     "execution_count": 12,
     "metadata": {},
     "output_type": "execute_result"
    }
   ],
   "source": [
    "w3.eth.accounts"
   ]
  },
  {
   "cell_type": "code",
   "execution_count": 21,
   "id": "054914e0",
   "metadata": {},
   "outputs": [
    {
     "data": {
      "text/plain": [
       "518.0"
      ]
     },
     "execution_count": 21,
     "metadata": {},
     "output_type": "execute_result"
    }
   ],
   "source": [
    "# get all ethers\n",
    "float(sum([Web3.fromWei(w3.eth.getBalance(i), 'ether') for i in w3.eth.accounts]))"
   ]
  },
  {
   "cell_type": "code",
   "execution_count": 18,
   "id": "fe44e5a8",
   "metadata": {},
   "outputs": [
    {
     "data": {
      "text/plain": [
       "97011002319955000000000"
      ]
     },
     "execution_count": 18,
     "metadata": {},
     "output_type": "execute_result"
    }
   ],
   "source": [
    "w3.eth.getBalance(w3.eth.accounts[0])"
   ]
  },
  {
   "cell_type": "code",
   "execution_count": 23,
   "id": "0e6cc083",
   "metadata": {},
   "outputs": [
    {
     "data": {
      "text/plain": [
       "0"
      ]
     },
     "execution_count": 23,
     "metadata": {},
     "output_type": "execute_result"
    }
   ],
   "source": [
    "w3.eth.getBalance(w3.eth.accounts[1])"
   ]
  },
  {
   "cell_type": "code",
   "execution_count": 18,
   "id": "93105bfd",
   "metadata": {},
   "outputs": [
    {
     "data": {
      "text/plain": [
       "518000000000000000000"
      ]
     },
     "execution_count": 18,
     "metadata": {},
     "output_type": "execute_result"
    }
   ],
   "source": [
    "w3.eth.getBalance(w3.eth.accounts[0])"
   ]
  },
  {
   "cell_type": "code",
   "execution_count": 19,
   "id": "320edcab",
   "metadata": {},
   "outputs": [
    {
     "data": {
      "text/plain": [
       "Decimal('97011.002319955')"
      ]
     },
     "execution_count": 19,
     "metadata": {},
     "output_type": "execute_result"
    }
   ],
   "source": [
    "Web3.fromWei(w3.eth.getBalance(w3.eth.accounts[0]), 'ether')"
   ]
  },
  {
   "cell_type": "code",
   "execution_count": 20,
   "id": "bbc08174",
   "metadata": {},
   "outputs": [
    {
     "data": {
      "text/plain": [
       "518000000000000000000"
      ]
     },
     "execution_count": 20,
     "metadata": {},
     "output_type": "execute_result"
    }
   ],
   "source": [
    "Web3.toWei(518, 'ether')"
   ]
  },
  {
   "cell_type": "markdown",
   "id": "bbabe00e",
   "metadata": {},
   "source": [
    "### SEND ETH"
   ]
  },
  {
   "cell_type": "code",
   "execution_count": 21,
   "id": "1f447f54",
   "metadata": {},
   "outputs": [
    {
     "ename": "AttributeError",
     "evalue": "'Web3' object has no attribute 'personal'",
     "output_type": "error",
     "traceback": [
      "\u001b[0;31m---------------------------------------------------------------------------\u001b[0m",
      "\u001b[0;31mAttributeError\u001b[0m                            Traceback (most recent call last)",
      "\u001b[0;32m<ipython-input-21-811938ce7869>\u001b[0m in \u001b[0;36m<module>\u001b[0;34m\u001b[0m\n\u001b[0;32m----> 1\u001b[0;31m \u001b[0mw3\u001b[0m\u001b[0;34m.\u001b[0m\u001b[0mpersonal\u001b[0m\u001b[0;34m.\u001b[0m\u001b[0munlockAccount\u001b[0m\u001b[0;34m(\u001b[0m\u001b[0mw3\u001b[0m\u001b[0;34m.\u001b[0m\u001b[0meth\u001b[0m\u001b[0;34m.\u001b[0m\u001b[0maccounts\u001b[0m\u001b[0;34m[\u001b[0m\u001b[0;36m0\u001b[0m\u001b[0;34m]\u001b[0m\u001b[0;34m,\u001b[0m \u001b[0;34m\"dokylee\"\u001b[0m\u001b[0;34m)\u001b[0m\u001b[0;34m\u001b[0m\u001b[0;34m\u001b[0m\u001b[0m\n\u001b[0m",
      "\u001b[0;31mAttributeError\u001b[0m: 'Web3' object has no attribute 'personal'"
     ]
    }
   ],
   "source": [
    "w3.personal.unlockAccount(w3.eth.accounts[0], \"dokylee\")"
   ]
  },
  {
   "cell_type": "code",
   "execution_count": 36,
   "id": "e7237873",
   "metadata": {},
   "outputs": [
    {
     "data": {
      "text/plain": [
       "Decimal('96975.002319955')"
      ]
     },
     "execution_count": 36,
     "metadata": {},
     "output_type": "execute_result"
    }
   ],
   "source": [
    "Web3.fromWei(w3.eth.getBalance(w3.eth.accounts[0]), 'ether')"
   ]
  },
  {
   "cell_type": "code",
   "execution_count": 42,
   "id": "f0ff3da4",
   "metadata": {},
   "outputs": [
    {
     "data": {
      "text/plain": [
       "Decimal('488')"
      ]
     },
     "execution_count": 42,
     "metadata": {},
     "output_type": "execute_result"
    }
   ],
   "source": [
    "Web3.fromWei(w3.eth.getBalance('0xD80247159cc9482492cbef778d1Ef17b8F030691'), 'ether')"
   ]
  },
  {
   "cell_type": "code",
   "execution_count": 37,
   "id": "166fae82",
   "metadata": {},
   "outputs": [
    {
     "data": {
      "text/plain": [
       "True"
      ]
     },
     "execution_count": 37,
     "metadata": {},
     "output_type": "execute_result"
    }
   ],
   "source": [
    "w3.geth.personal.unlockAccount(w3.eth.accounts[0], \"dokylee\")"
   ]
  },
  {
   "cell_type": "code",
   "execution_count": 38,
   "id": "8b33db58",
   "metadata": {},
   "outputs": [],
   "source": [
    "params = {}\n",
    "params['to'] = '0xD80247159cc9482492cbef778d1Ef17b8F030691'\n",
    "params['from'] = w3.eth.accounts[0] \n",
    "params['value'] = Web3.toWei(100, \"ether\")\n",
    "tx_hash = w3.eth.sendTransaction(params)"
   ]
  },
  {
   "cell_type": "code",
   "execution_count": 39,
   "id": "0389590a",
   "metadata": {},
   "outputs": [
    {
     "data": {
      "text/plain": [
       "HexBytes('0x56ae490371ca3627427980c9ffff4b4d62c08e378c705a6ea38ce0e980fbe3b6')"
      ]
     },
     "execution_count": 39,
     "metadata": {},
     "output_type": "execute_result"
    }
   ],
   "source": [
    "tx_hash"
   ]
  },
  {
   "cell_type": "code",
   "execution_count": 41,
   "id": "7ee4b0b4",
   "metadata": {},
   "outputs": [
    {
     "data": {
      "text/plain": [
       "Decimal('96881.002319955')"
      ]
     },
     "execution_count": 41,
     "metadata": {},
     "output_type": "execute_result"
    }
   ],
   "source": [
    "Web3.fromWei(w3.eth.getBalance(w3.eth.accounts[0]), 'ether')"
   ]
  },
  {
   "cell_type": "code",
   "execution_count": 25,
   "id": "bb1ad636",
   "metadata": {},
   "outputs": [
    {
     "data": {
      "text/plain": [
       "True"
      ]
     },
     "execution_count": 25,
     "metadata": {},
     "output_type": "execute_result"
    }
   ],
   "source": [
    "w3.geth.personal.unlock_account(w3.eth.accounts[0], \"dokylee\", duration=None)"
   ]
  },
  {
   "cell_type": "code",
   "execution_count": 26,
   "id": "c2ed1dc2",
   "metadata": {},
   "outputs": [
    {
     "data": {
      "text/plain": [
       "['0xbe52007ee56Ed5AB7633e4852a2502Ad70dF1762',\n",
       " '0x247caD7e349f9896c646f85Ae64eEDA109cb5bb4']"
      ]
     },
     "execution_count": 26,
     "metadata": {},
     "output_type": "execute_result"
    }
   ],
   "source": [
    "w3.eth.accounts"
   ]
  },
  {
   "cell_type": "code",
   "execution_count": 49,
   "id": "7ac81adb",
   "metadata": {},
   "outputs": [
    {
     "data": {
      "text/plain": [
       "451000000000000000000"
      ]
     },
     "execution_count": 49,
     "metadata": {},
     "output_type": "execute_result"
    }
   ],
   "source": [
    "w3.eth.getBalance(w3.eth.accounts[0])"
   ]
  },
  {
   "cell_type": "code",
   "execution_count": 50,
   "id": "1cf1e1e8",
   "metadata": {},
   "outputs": [
    {
     "data": {
      "text/plain": [
       "71000000000000000000"
      ]
     },
     "execution_count": 50,
     "metadata": {},
     "output_type": "execute_result"
    }
   ],
   "source": [
    "w3.eth.getBalance(w3.eth.accounts[1])"
   ]
  },
  {
   "cell_type": "code",
   "execution_count": 32,
   "id": "69facc77",
   "metadata": {},
   "outputs": [
    {
     "data": {
      "text/plain": [
       "HexBytes('0xc6e8ebc9a59e933ceec43426a82314328302bf19df32f0ff19f0299442db8e73')"
      ]
     },
     "execution_count": 32,
     "metadata": {},
     "output_type": "execute_result"
    }
   ],
   "source": [
    "w3.eth.send_transaction({\n",
    "  'to': w3.eth.accounts[1],\n",
    "  'from': w3.eth.accounts[0],\n",
    "  'value': 1000000000000000000\n",
    "})"
   ]
  },
  {
   "cell_type": "code",
   "execution_count": 34,
   "id": "83abcf5e",
   "metadata": {},
   "outputs": [
    {
     "data": {
      "text/plain": [
       "0"
      ]
     },
     "execution_count": 34,
     "metadata": {},
     "output_type": "execute_result"
    }
   ],
   "source": [
    "w3.eth.getTransactionCount(w3.eth.accounts[0])"
   ]
  },
  {
   "cell_type": "code",
   "execution_count": 143,
   "id": "c3f048d3",
   "metadata": {},
   "outputs": [],
   "source": [
    "w3.geth.miner.start()\n",
    "time.sleep(5)\n",
    "w3.geth.miner.stop()"
   ]
  },
  {
   "cell_type": "code",
   "execution_count": 144,
   "id": "87cc1d43",
   "metadata": {},
   "outputs": [
    {
     "data": {
      "text/plain": [
       "5"
      ]
     },
     "execution_count": 144,
     "metadata": {},
     "output_type": "execute_result"
    }
   ],
   "source": [
    "w3.eth.getTransactionCount(w3.eth.accounts[1])"
   ]
  },
  {
   "cell_type": "code",
   "execution_count": 145,
   "id": "427ed145",
   "metadata": {},
   "outputs": [
    {
     "data": {
      "text/plain": [
       "1234623451234512345"
      ]
     },
     "execution_count": 145,
     "metadata": {},
     "output_type": "execute_result"
    }
   ],
   "source": [
    "w3.eth.getBalance(w3.eth.accounts[-1])"
   ]
  },
  {
   "cell_type": "code",
   "execution_count": 146,
   "id": "45c9437a",
   "metadata": {},
   "outputs": [
    {
     "data": {
      "text/plain": [
       "113765271548765487655"
      ]
     },
     "execution_count": 146,
     "metadata": {},
     "output_type": "execute_result"
    }
   ],
   "source": [
    "w3.eth.getBalance(w3.eth.accounts[1])"
   ]
  },
  {
   "cell_type": "code",
   "execution_count": 148,
   "id": "3f7ffe53",
   "metadata": {},
   "outputs": [
    {
     "data": {
      "text/plain": [
       "Decimal('1.234623451234512345')"
      ]
     },
     "execution_count": 148,
     "metadata": {},
     "output_type": "execute_result"
    }
   ],
   "source": [
    "Web3.fromWei(w3.eth.getBalance(w3.eth.accounts[-1]), 'ether')"
   ]
  },
  {
   "cell_type": "markdown",
   "id": "b997aadf",
   "metadata": {},
   "source": [
    "## Smart Contract Sample!!"
   ]
  },
  {
   "cell_type": "code",
   "execution_count": 11,
   "id": "10289558",
   "metadata": {},
   "outputs": [],
   "source": [
    "# !pip install web3\n",
    "# ! pip install py-solc-x"
   ]
  },
  {
   "cell_type": "code",
   "execution_count": 6,
   "id": "eea1512c",
   "metadata": {},
   "outputs": [],
   "source": [
    "from solcx import compile_standard, install_solc\n",
    "import json"
   ]
  },
  {
   "cell_type": "code",
   "execution_count": null,
   "id": "f4ea5f95",
   "metadata": {},
   "outputs": [],
   "source": [
    "# https://coinsbench.com/how-to-deploy-and-interact-with-solidity-contracts-with-python-and-ganache-be63334323e6"
   ]
  },
  {
   "cell_type": "code",
   "execution_count": 27,
   "id": "fb4d4b3e",
   "metadata": {},
   "outputs": [
    {
     "data": {
      "text/plain": [
       "'// SPDX-License-Identifier: MIT\\npragma solidity 0.8.0;\\ncontract ContactList {\\n    // uint phoneNumber;\\n    uint256 phoneNumber;\\n    struct Contact {\\n        // assosiate name with phone number\\n        string name;\\n        string phoneNumber;\\n    \\n    }\\n    Contact[] public contact; //array for list of contacts\\n    mapping(string => string) public nameToPhoneNumber; //used to map name to phone number, so you can get phone number using name\\n     \\n    function retrieve() public view returns (Contact[] memory){\\n        return contact; //retrieve tuple of all contacts\\n    }\\n    \\n    function addContact(string memory _name, string memory _phoneNumber) public {\\n        contact.push(Contact(_name, _phoneNumber)); //append to  Contact[] array\\n        nameToPhoneNumber[_name] = _phoneNumber; //use name to get phone number\\n    }\\n    \\n}'"
      ]
     },
     "execution_count": 27,
     "metadata": {},
     "output_type": "execute_result"
    }
   ],
   "source": [
    "with open(\"ContactList.sol\", \"r\") as file:\n",
    "    contact_list_file = file.read()\n",
    "contact_list_file"
   ]
  },
  {
   "cell_type": "code",
   "execution_count": 8,
   "id": "f1d772ad",
   "metadata": {},
   "outputs": [],
   "source": [
    "# install_solc('0.8.0')"
   ]
  },
  {
   "cell_type": "code",
   "execution_count": 9,
   "id": "c1ad6911",
   "metadata": {},
   "outputs": [
    {
     "name": "stdout",
     "output_type": "stream",
     "text": [
      "{'contracts': {'ContactList.sol': {'ContactList': {'abi': [{'inputs': [{'internalType': 'string', 'name': '_name', 'type': 'string'}, {'internalType': 'string', 'name': '_phoneNumber', 'type': 'string'}], 'name': 'addContact', 'outputs': [], 'stateMutability': 'nonpayable', 'type': 'function'}, {'inputs': [{'internalType': 'uint256', 'name': '', 'type': 'uint256'}], 'name': 'contact', 'outputs': [{'internalType': 'string', 'name': 'name', 'type': 'string'}, {'internalType': 'string', 'name': 'phoneNumber', 'type': 'string'}], 'stateMutability': 'view', 'type': 'function'}, {'inputs': [{'internalType': 'string', 'name': '', 'type': 'string'}], 'name': 'nameToPhoneNumber', 'outputs': [{'internalType': 'string', 'name': '', 'type': 'string'}], 'stateMutability': 'view', 'type': 'function'}, {'inputs': [], 'name': 'retrieve', 'outputs': [{'components': [{'internalType': 'string', 'name': 'name', 'type': 'string'}, {'internalType': 'string', 'name': 'phoneNumber', 'type': 'string'}], 'internalType': 'struct ContactList.Contact[]', 'name': '', 'type': 'tuple[]'}], 'stateMutability': 'view', 'type': 'function'}], 'evm': {'bytecode': {'generatedSources': [], 'linkReferences': {}, 'object': '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', 'opcodes': 'PUSH1 0x80 PUSH1 0x40 MSTORE CALLVALUE DUP1 ISZERO PUSH2 0x10 JUMPI PUSH1 0x0 DUP1 REVERT JUMPDEST POP PUSH2 0xB20 DUP1 PUSH2 0x20 PUSH1 0x0 CODECOPY PUSH1 0x0 RETURN INVALID PUSH1 0x80 PUSH1 0x40 MSTORE CALLVALUE DUP1 ISZERO PUSH2 0x10 JUMPI PUSH1 0x0 DUP1 REVERT JUMPDEST POP PUSH1 0x4 CALLDATASIZE LT PUSH2 0x4C JUMPI PUSH1 0x0 CALLDATALOAD PUSH1 0xE0 SHR DUP1 PUSH4 0xC1CC170 EQ PUSH2 0x51 JUMPI DUP1 PUSH4 0x2B6258B3 EQ PUSH2 0x82 JUMPI DUP1 PUSH4 0x2E64CEC1 EQ PUSH2 0x9E JUMPI DUP1 PUSH4 0x96A063F8 EQ PUSH2 0xBC JUMPI JUMPDEST PUSH1 0x0 DUP1 REVERT JUMPDEST PUSH2 0x6B PUSH1 0x4 DUP1 CALLDATASIZE SUB DUP2 ADD SWAP1 PUSH2 0x66 SWAP2 SWAP1 PUSH2 0x6E9 JUMP JUMPDEST PUSH2 0xEC JUMP JUMPDEST PUSH1 0x40 MLOAD PUSH2 0x79 SWAP3 SWAP2 SWAP1 PUSH2 0x8DD JUMP JUMPDEST PUSH1 0x40 MLOAD DUP1 SWAP2 SUB SWAP1 RETURN JUMPDEST PUSH2 0x9C PUSH1 0x4 DUP1 CALLDATASIZE SUB DUP2 ADD SWAP1 PUSH2 0x97 SWAP2 SWAP1 PUSH2 0x67D JUMP JUMPDEST PUSH2 0x230 JUMP JUMPDEST STOP JUMPDEST PUSH2 0xA6 PUSH2 0x2E3 JUMP JUMPDEST PUSH1 0x40 MLOAD PUSH2 0xB3 SWAP2 SWAP1 PUSH2 0x899 JUMP JUMPDEST PUSH1 0x40 MLOAD DUP1 SWAP2 SUB SWAP1 RETURN JUMPDEST PUSH2 0xD6 PUSH1 0x4 DUP1 CALLDATASIZE SUB DUP2 ADD SWAP1 PUSH2 0xD1 SWAP2 SWAP1 PUSH2 0x63C JUMP JUMPDEST PUSH2 0x466 JUMP JUMPDEST PUSH1 0x40 MLOAD PUSH2 0xE3 SWAP2 SWAP1 PUSH2 0x8BB JUMP JUMPDEST PUSH1 0x40 MLOAD DUP1 SWAP2 SUB SWAP1 RETURN JUMPDEST PUSH1 0x1 DUP2 DUP2 SLOAD DUP2 LT PUSH2 0xFC JUMPI PUSH1 0x0 DUP1 REVERT JUMPDEST SWAP1 PUSH1 0x0 MSTORE PUSH1 0x20 PUSH1 0x0 KECCAK256 SWAP1 PUSH1 0x2 MUL ADD PUSH1 0x0 SWAP2 POP SWAP1 POP DUP1 PUSH1 0x0 ADD DUP1 SLOAD PUSH2 0x11F SWAP1 PUSH2 0xA32 JUMP JUMPDEST DUP1 PUSH1 0x1F ADD PUSH1 0x20 DUP1 SWAP2 DIV MUL PUSH1 0x20 ADD PUSH1 0x40 MLOAD SWAP1 DUP2 ADD PUSH1 0x40 MSTORE DUP1 SWAP3 SWAP2 SWAP1 DUP2 DUP2 MSTORE PUSH1 0x20 ADD DUP3 DUP1 SLOAD PUSH2 0x14B SWAP1 PUSH2 0xA32 JUMP JUMPDEST DUP1 ISZERO PUSH2 0x198 JUMPI DUP1 PUSH1 0x1F LT PUSH2 0x16D JUMPI PUSH2 0x100 DUP1 DUP4 SLOAD DIV MUL DUP4 MSTORE SWAP2 PUSH1 0x20 ADD SWAP2 PUSH2 0x198 JUMP JUMPDEST DUP3 ADD SWAP2 SWAP1 PUSH1 0x0 MSTORE PUSH1 0x20 PUSH1 0x0 KECCAK256 SWAP1 JUMPDEST DUP2 SLOAD DUP2 MSTORE SWAP1 PUSH1 0x1 ADD SWAP1 PUSH1 0x20 ADD DUP1 DUP4 GT PUSH2 0x17B JUMPI DUP3 SWAP1 SUB PUSH1 0x1F AND DUP3 ADD SWAP2 JUMPDEST POP POP POP POP POP SWAP1 DUP1 PUSH1 0x1 ADD DUP1 SLOAD PUSH2 0x1AD SWAP1 PUSH2 0xA32 JUMP JUMPDEST DUP1 PUSH1 0x1F ADD PUSH1 0x20 DUP1 SWAP2 DIV MUL PUSH1 0x20 ADD PUSH1 0x40 MLOAD SWAP1 DUP2 ADD PUSH1 0x40 MSTORE DUP1 SWAP3 SWAP2 SWAP1 DUP2 DUP2 MSTORE PUSH1 0x20 ADD DUP3 DUP1 SLOAD PUSH2 0x1D9 SWAP1 PUSH2 0xA32 JUMP JUMPDEST DUP1 ISZERO PUSH2 0x226 JUMPI DUP1 PUSH1 0x1F LT PUSH2 0x1FB JUMPI PUSH2 0x100 DUP1 DUP4 SLOAD DIV MUL DUP4 MSTORE SWAP2 PUSH1 0x20 ADD SWAP2 PUSH2 0x226 JUMP JUMPDEST DUP3 ADD SWAP2 SWAP1 PUSH1 0x0 MSTORE PUSH1 0x20 PUSH1 0x0 KECCAK256 SWAP1 JUMPDEST DUP2 SLOAD DUP2 MSTORE SWAP1 PUSH1 0x1 ADD SWAP1 PUSH1 0x20 ADD DUP1 DUP4 GT PUSH2 0x209 JUMPI DUP3 SWAP1 SUB PUSH1 0x1F AND DUP3 ADD SWAP2 JUMPDEST POP POP POP POP POP SWAP1 POP DUP3 JUMP JUMPDEST PUSH1 0x1 PUSH1 0x40 MLOAD DUP1 PUSH1 0x40 ADD PUSH1 0x40 MSTORE DUP1 DUP5 DUP2 MSTORE PUSH1 0x20 ADD DUP4 DUP2 MSTORE POP SWAP1 DUP1 PUSH1 0x1 DUP2 SLOAD ADD DUP1 DUP3 SSTORE DUP1 SWAP2 POP POP PUSH1 0x1 SWAP1 SUB SWAP1 PUSH1 0x0 MSTORE PUSH1 0x20 PUSH1 0x0 KECCAK256 SWAP1 PUSH1 0x2 MUL ADD PUSH1 0x0 SWAP1 SWAP2 SWAP1 SWAP2 SWAP1 SWAP2 POP PUSH1 0x0 DUP3 ADD MLOAD DUP2 PUSH1 0x0 ADD SWAP1 DUP1 MLOAD SWAP1 PUSH1 0x20 ADD SWAP1 PUSH2 0x28C SWAP3 SWAP2 SWAP1 PUSH2 0x51C JUMP JUMPDEST POP PUSH1 0x20 DUP3 ADD MLOAD DUP2 PUSH1 0x1 ADD SWAP1 DUP1 MLOAD SWAP1 PUSH1 0x20 ADD SWAP1 PUSH2 0x2A9 SWAP3 SWAP2 SWAP1 PUSH2 0x51C JUMP JUMPDEST POP POP POP DUP1 PUSH1 0x2 DUP4 PUSH1 0x40 MLOAD PUSH2 0x2BD SWAP2 SWAP1 PUSH2 0x882 JUMP JUMPDEST SWAP1 DUP2 MSTORE PUSH1 0x20 ADD PUSH1 0x40 MLOAD DUP1 SWAP2 SUB SWAP1 KECCAK256 SWAP1 DUP1 MLOAD SWAP1 PUSH1 0x20 ADD SWAP1 PUSH2 0x2DE SWAP3 SWAP2 SWAP1 PUSH2 0x51C JUMP JUMPDEST POP POP POP JUMP JUMPDEST PUSH1 0x60 PUSH1 0x1 DUP1 SLOAD DUP1 PUSH1 0x20 MUL PUSH1 0x20 ADD PUSH1 0x40 MLOAD SWAP1 DUP2 ADD PUSH1 0x40 MSTORE DUP1 SWAP3 SWAP2 SWAP1 DUP2 DUP2 MSTORE PUSH1 0x20 ADD PUSH1 0x0 SWAP1 JUMPDEST DUP3 DUP3 LT ISZERO PUSH2 0x45D JUMPI DUP4 DUP3 SWAP1 PUSH1 0x0 MSTORE PUSH1 0x20 PUSH1 0x0 KECCAK256 SWAP1 PUSH1 0x2 MUL ADD PUSH1 0x40 MLOAD DUP1 PUSH1 0x40 ADD PUSH1 0x40 MSTORE SWAP1 DUP2 PUSH1 0x0 DUP3 ADD DUP1 SLOAD PUSH2 0x33A SWAP1 PUSH2 0xA32 JUMP JUMPDEST DUP1 PUSH1 0x1F ADD PUSH1 0x20 DUP1 SWAP2 DIV MUL PUSH1 0x20 ADD PUSH1 0x40 MLOAD SWAP1 DUP2 ADD PUSH1 0x40 MSTORE DUP1 SWAP3 SWAP2 SWAP1 DUP2 DUP2 MSTORE PUSH1 0x20 ADD DUP3 DUP1 SLOAD PUSH2 0x366 SWAP1 PUSH2 0xA32 JUMP JUMPDEST DUP1 ISZERO PUSH2 0x3B3 JUMPI DUP1 PUSH1 0x1F LT PUSH2 0x388 JUMPI PUSH2 0x100 DUP1 DUP4 SLOAD DIV MUL DUP4 MSTORE SWAP2 PUSH1 0x20 ADD SWAP2 PUSH2 0x3B3 JUMP JUMPDEST DUP3 ADD SWAP2 SWAP1 PUSH1 0x0 MSTORE PUSH1 0x20 PUSH1 0x0 KECCAK256 SWAP1 JUMPDEST DUP2 SLOAD DUP2 MSTORE SWAP1 PUSH1 0x1 ADD SWAP1 PUSH1 0x20 ADD DUP1 DUP4 GT PUSH2 0x396 JUMPI DUP3 SWAP1 SUB PUSH1 0x1F AND DUP3 ADD SWAP2 JUMPDEST POP POP POP POP POP DUP2 MSTORE PUSH1 0x20 ADD PUSH1 0x1 DUP3 ADD DUP1 SLOAD PUSH2 0x3CC SWAP1 PUSH2 0xA32 JUMP JUMPDEST DUP1 PUSH1 0x1F ADD PUSH1 0x20 DUP1 SWAP2 DIV MUL PUSH1 0x20 ADD PUSH1 0x40 MLOAD SWAP1 DUP2 ADD PUSH1 0x40 MSTORE DUP1 SWAP3 SWAP2 SWAP1 DUP2 DUP2 MSTORE PUSH1 0x20 ADD DUP3 DUP1 SLOAD PUSH2 0x3F8 SWAP1 PUSH2 0xA32 JUMP JUMPDEST DUP1 ISZERO PUSH2 0x445 JUMPI DUP1 PUSH1 0x1F LT PUSH2 0x41A JUMPI PUSH2 0x100 DUP1 DUP4 SLOAD DIV MUL DUP4 MSTORE SWAP2 PUSH1 0x20 ADD SWAP2 PUSH2 0x445 JUMP JUMPDEST DUP3 ADD SWAP2 SWAP1 PUSH1 0x0 MSTORE PUSH1 0x20 PUSH1 0x0 KECCAK256 SWAP1 JUMPDEST DUP2 SLOAD DUP2 MSTORE SWAP1 PUSH1 0x1 ADD SWAP1 PUSH1 0x20 ADD DUP1 DUP4 GT PUSH2 0x428 JUMPI DUP3 SWAP1 SUB PUSH1 0x1F AND DUP3 ADD SWAP2 JUMPDEST POP POP POP POP POP DUP2 MSTORE POP POP DUP2 MSTORE PUSH1 0x20 ADD SWAP1 PUSH1 0x1 ADD SWAP1 PUSH2 0x307 JUMP JUMPDEST POP POP POP POP SWAP1 POP SWAP1 JUMP JUMPDEST PUSH1 0x2 DUP2 DUP1 MLOAD PUSH1 0x20 DUP2 ADD DUP3 ADD DUP1 MLOAD DUP5 DUP3 MSTORE PUSH1 0x20 DUP4 ADD PUSH1 0x20 DUP6 ADD KECCAK256 DUP2 DUP4 MSTORE DUP1 SWAP6 POP POP POP POP POP POP PUSH1 0x0 SWAP2 POP SWAP1 POP DUP1 SLOAD PUSH2 0x49B SWAP1 PUSH2 0xA32 JUMP JUMPDEST DUP1 PUSH1 0x1F ADD PUSH1 0x20 DUP1 SWAP2 DIV MUL PUSH1 0x20 ADD PUSH1 0x40 MLOAD SWAP1 DUP2 ADD PUSH1 0x40 MSTORE DUP1 SWAP3 SWAP2 SWAP1 DUP2 DUP2 MSTORE PUSH1 0x20 ADD DUP3 DUP1 SLOAD PUSH2 0x4C7 SWAP1 PUSH2 0xA32 JUMP JUMPDEST DUP1 ISZERO PUSH2 0x514 JUMPI DUP1 PUSH1 0x1F LT PUSH2 0x4E9 JUMPI PUSH2 0x100 DUP1 DUP4 SLOAD DIV MUL DUP4 MSTORE SWAP2 PUSH1 0x20 ADD SWAP2 PUSH2 0x514 JUMP JUMPDEST DUP3 ADD SWAP2 SWAP1 PUSH1 0x0 MSTORE PUSH1 0x20 PUSH1 0x0 KECCAK256 SWAP1 JUMPDEST DUP2 SLOAD DUP2 MSTORE SWAP1 PUSH1 0x1 ADD SWAP1 PUSH1 0x20 ADD DUP1 DUP4 GT PUSH2 0x4F7 JUMPI DUP3 SWAP1 SUB PUSH1 0x1F AND DUP3 ADD SWAP2 JUMPDEST POP POP POP POP POP DUP2 JUMP JUMPDEST DUP3 DUP1 SLOAD PUSH2 0x528 SWAP1 PUSH2 0xA32 JUMP JUMPDEST SWAP1 PUSH1 0x0 MSTORE PUSH1 0x20 PUSH1 0x0 KECCAK256 SWAP1 PUSH1 0x1F ADD PUSH1 0x20 SWAP1 DIV DUP2 ADD SWAP3 DUP3 PUSH2 0x54A JUMPI PUSH1 0x0 DUP6 SSTORE PUSH2 0x591 JUMP JUMPDEST DUP3 PUSH1 0x1F LT PUSH2 0x563 JUMPI DUP1 MLOAD PUSH1 0xFF NOT AND DUP4 DUP1 ADD OR DUP6 SSTORE PUSH2 0x591 JUMP JUMPDEST DUP3 DUP1 ADD PUSH1 0x1 ADD DUP6 SSTORE DUP3 ISZERO PUSH2 0x591 JUMPI SWAP2 DUP3 ADD JUMPDEST DUP3 DUP2 GT ISZERO PUSH2 0x590 JUMPI DUP3 MLOAD DUP3 SSTORE SWAP2 PUSH1 0x20 ADD SWAP2 SWAP1 PUSH1 0x1 ADD SWAP1 PUSH2 0x575 JUMP JUMPDEST JUMPDEST POP SWAP1 POP PUSH2 0x59E SWAP2 SWAP1 PUSH2 0x5A2 JUMP JUMPDEST POP SWAP1 JUMP JUMPDEST JUMPDEST DUP1 DUP3 GT ISZERO PUSH2 0x5BB JUMPI PUSH1 0x0 DUP2 PUSH1 0x0 SWAP1 SSTORE POP PUSH1 0x1 ADD PUSH2 0x5A3 JUMP JUMPDEST POP SWAP1 JUMP JUMPDEST PUSH1 0x0 PUSH2 0x5D2 PUSH2 0x5CD DUP5 PUSH2 0x945 JUMP JUMPDEST PUSH2 0x914 JUMP JUMPDEST SWAP1 POP DUP3 DUP2 MSTORE PUSH1 0x20 DUP2 ADD DUP5 DUP5 DUP5 ADD GT ISZERO PUSH2 0x5EA JUMPI PUSH1 0x0 DUP1 REVERT JUMPDEST PUSH2 0x5F5 DUP5 DUP3 DUP6 PUSH2 0x9F0 JUMP JUMPDEST POP SWAP4 SWAP3 POP POP POP JUMP JUMPDEST PUSH1 0x0 DUP3 PUSH1 0x1F DUP4 ADD SLT PUSH2 0x60E JUMPI PUSH1 0x0 DUP1 REVERT JUMPDEST DUP2 CALLDATALOAD PUSH2 0x61E DUP5 DUP3 PUSH1 0x20 DUP7 ADD PUSH2 0x5BF JUMP JUMPDEST SWAP2 POP POP SWAP3 SWAP2 POP POP JUMP JUMPDEST PUSH1 0x0 DUP2 CALLDATALOAD SWAP1 POP PUSH2 0x636 DUP2 PUSH2 0xAD3 JUMP JUMPDEST SWAP3 SWAP2 POP POP JUMP JUMPDEST PUSH1 0x0 PUSH1 0x20 DUP3 DUP5 SUB SLT ISZERO PUSH2 0x64E JUMPI PUSH1 0x0 DUP1 REVERT JUMPDEST PUSH1 0x0 DUP3 ADD CALLDATALOAD PUSH8 0xFFFFFFFFFFFFFFFF DUP2 GT ISZERO PUSH2 0x668 JUMPI PUSH1 0x0 DUP1 REVERT JUMPDEST PUSH2 0x674 DUP5 DUP3 DUP6 ADD PUSH2 0x5FD JUMP JUMPDEST SWAP2 POP POP SWAP3 SWAP2 POP POP JUMP JUMPDEST PUSH1 0x0 DUP1 PUSH1 0x40 DUP4 DUP6 SUB SLT ISZERO PUSH2 0x690 JUMPI PUSH1 0x0 DUP1 REVERT JUMPDEST PUSH1 0x0 DUP4 ADD CALLDATALOAD PUSH8 0xFFFFFFFFFFFFFFFF DUP2 GT ISZERO PUSH2 0x6AA JUMPI PUSH1 0x0 DUP1 REVERT JUMPDEST PUSH2 0x6B6 DUP6 DUP3 DUP7 ADD PUSH2 0x5FD JUMP JUMPDEST SWAP3 POP POP PUSH1 0x20 DUP4 ADD CALLDATALOAD PUSH8 0xFFFFFFFFFFFFFFFF DUP2 GT ISZERO PUSH2 0x6D3 JUMPI PUSH1 0x0 DUP1 REVERT JUMPDEST PUSH2 0x6DF DUP6 DUP3 DUP7 ADD PUSH2 0x5FD JUMP JUMPDEST SWAP2 POP POP SWAP3 POP SWAP3 SWAP1 POP JUMP JUMPDEST PUSH1 0x0 PUSH1 0x20 DUP3 DUP5 SUB SLT ISZERO PUSH2 0x6FB JUMPI PUSH1 0x0 DUP1 REVERT JUMPDEST PUSH1 0x0 PUSH2 0x709 DUP5 DUP3 DUP6 ADD PUSH2 0x627 JUMP JUMPDEST SWAP2 POP POP SWAP3 SWAP2 POP POP JUMP JUMPDEST PUSH1 0x0 PUSH2 0x71E DUP4 DUP4 PUSH2 0x83E JUMP JUMPDEST SWAP1 POP SWAP3 SWAP2 POP POP JUMP JUMPDEST PUSH1 0x0 PUSH2 0x731 DUP3 PUSH2 0x985 JUMP JUMPDEST PUSH2 0x73B DUP2 DUP6 PUSH2 0x9A8 JUMP JUMPDEST SWAP4 POP DUP4 PUSH1 0x20 DUP3 MUL DUP6 ADD PUSH2 0x74D DUP6 PUSH2 0x975 JUMP JUMPDEST DUP1 PUSH1 0x0 JUMPDEST DUP6 DUP2 LT ISZERO PUSH2 0x789 JUMPI DUP5 DUP5 SUB DUP10 MSTORE DUP2 MLOAD PUSH2 0x76A DUP6 DUP3 PUSH2 0x712 JUMP JUMPDEST SWAP5 POP PUSH2 0x775 DUP4 PUSH2 0x99B JUMP JUMPDEST SWAP3 POP PUSH1 0x20 DUP11 ADD SWAP10 POP POP PUSH1 0x1 DUP2 ADD SWAP1 POP PUSH2 0x751 JUMP JUMPDEST POP DUP3 SWAP8 POP DUP8 SWAP6 POP POP POP POP POP POP SWAP3 SWAP2 POP POP JUMP JUMPDEST PUSH1 0x0 PUSH2 0x7A6 DUP3 PUSH2 0x990 JUMP JUMPDEST PUSH2 0x7B0 DUP2 DUP6 PUSH2 0x9B9 JUMP JUMPDEST SWAP4 POP PUSH2 0x7C0 DUP2 DUP6 PUSH1 0x20 DUP7 ADD PUSH2 0x9FF JUMP JUMPDEST PUSH2 0x7C9 DUP2 PUSH2 0xAC2 JUMP JUMPDEST DUP5 ADD SWAP2 POP POP SWAP3 SWAP2 POP POP JUMP JUMPDEST PUSH1 0x0 PUSH2 0x7DF DUP3 PUSH2 0x990 JUMP JUMPDEST PUSH2 0x7E9 DUP2 DUP6 PUSH2 0x9CA JUMP JUMPDEST SWAP4 POP PUSH2 0x7F9 DUP2 DUP6 PUSH1 0x20 DUP7 ADD PUSH2 0x9FF JUMP JUMPDEST PUSH2 0x802 DUP2 PUSH2 0xAC2 JUMP JUMPDEST DUP5 ADD SWAP2 POP POP SWAP3 SWAP2 POP POP JUMP JUMPDEST PUSH1 0x0 PUSH2 0x818 DUP3 PUSH2 0x990 JUMP JUMPDEST PUSH2 0x822 DUP2 DUP6 PUSH2 0x9DB JUMP JUMPDEST SWAP4 POP PUSH2 0x832 DUP2 DUP6 PUSH1 0x20 DUP7 ADD PUSH2 0x9FF JUMP JUMPDEST DUP1 DUP5 ADD SWAP2 POP POP SWAP3 SWAP2 POP POP JUMP JUMPDEST PUSH1 0x0 PUSH1 0x40 DUP4 ADD PUSH1 0x0 DUP4 ADD MLOAD DUP5 DUP3 SUB PUSH1 0x0 DUP7 ADD MSTORE PUSH2 0x85B DUP3 DUP3 PUSH2 0x79B JUMP JUMPDEST SWAP2 POP POP PUSH1 0x20 DUP4 ADD MLOAD DUP5 DUP3 SUB PUSH1 0x20 DUP7 ADD MSTORE PUSH2 0x875 DUP3 DUP3 PUSH2 0x79B JUMP JUMPDEST SWAP2 POP POP DUP1 SWAP2 POP POP SWAP3 SWAP2 POP POP JUMP JUMPDEST PUSH1 0x0 PUSH2 0x88E DUP3 DUP5 PUSH2 0x80D JUMP JUMPDEST SWAP2 POP DUP2 SWAP1 POP SWAP3 SWAP2 POP POP JUMP JUMPDEST PUSH1 0x0 PUSH1 0x20 DUP3 ADD SWAP1 POP DUP2 DUP2 SUB PUSH1 0x0 DUP4 ADD MSTORE PUSH2 0x8B3 DUP2 DUP5 PUSH2 0x726 JUMP JUMPDEST SWAP1 POP SWAP3 SWAP2 POP POP JUMP JUMPDEST PUSH1 0x0 PUSH1 0x20 DUP3 ADD SWAP1 POP DUP2 DUP2 SUB PUSH1 0x0 DUP4 ADD MSTORE PUSH2 0x8D5 DUP2 DUP5 PUSH2 0x7D4 JUMP JUMPDEST SWAP1 POP SWAP3 SWAP2 POP POP JUMP JUMPDEST PUSH1 0x0 PUSH1 0x40 DUP3 ADD SWAP1 POP DUP2 DUP2 SUB PUSH1 0x0 DUP4 ADD MSTORE PUSH2 0x8F7 DUP2 DUP6 PUSH2 0x7D4 JUMP JUMPDEST SWAP1 POP DUP2 DUP2 SUB PUSH1 0x20 DUP4 ADD MSTORE PUSH2 0x90B DUP2 DUP5 PUSH2 0x7D4 JUMP JUMPDEST SWAP1 POP SWAP4 SWAP3 POP POP POP JUMP JUMPDEST PUSH1 0x0 PUSH1 0x40 MLOAD SWAP1 POP DUP2 DUP2 ADD DUP2 DUP2 LT PUSH8 0xFFFFFFFFFFFFFFFF DUP3 GT OR ISZERO PUSH2 0x93B JUMPI PUSH2 0x93A PUSH2 0xA93 JUMP JUMPDEST JUMPDEST DUP1 PUSH1 0x40 MSTORE POP SWAP2 SWAP1 POP JUMP JUMPDEST PUSH1 0x0 PUSH8 0xFFFFFFFFFFFFFFFF DUP3 GT ISZERO PUSH2 0x960 JUMPI PUSH2 0x95F PUSH2 0xA93 JUMP JUMPDEST JUMPDEST PUSH1 0x1F NOT PUSH1 0x1F DUP4 ADD AND SWAP1 POP PUSH1 0x20 DUP2 ADD SWAP1 POP SWAP2 SWAP1 POP JUMP JUMPDEST PUSH1 0x0 DUP2 SWAP1 POP PUSH1 0x20 DUP3 ADD SWAP1 POP SWAP2 SWAP1 POP JUMP JUMPDEST PUSH1 0x0 DUP2 MLOAD SWAP1 POP SWAP2 SWAP1 POP JUMP JUMPDEST PUSH1 0x0 DUP2 MLOAD SWAP1 POP SWAP2 SWAP1 POP JUMP JUMPDEST PUSH1 0x0 PUSH1 0x20 DUP3 ADD SWAP1 POP SWAP2 SWAP1 POP JUMP JUMPDEST PUSH1 0x0 DUP3 DUP3 MSTORE PUSH1 0x20 DUP3 ADD SWAP1 POP SWAP3 SWAP2 POP POP JUMP JUMPDEST PUSH1 0x0 DUP3 DUP3 MSTORE PUSH1 0x20 DUP3 ADD SWAP1 POP SWAP3 SWAP2 POP POP JUMP JUMPDEST PUSH1 0x0 DUP3 DUP3 MSTORE PUSH1 0x20 DUP3 ADD SWAP1 POP SWAP3 SWAP2 POP POP JUMP JUMPDEST PUSH1 0x0 DUP2 SWAP1 POP SWAP3 SWAP2 POP POP JUMP JUMPDEST PUSH1 0x0 DUP2 SWAP1 POP SWAP2 SWAP1 POP JUMP JUMPDEST DUP3 DUP2 DUP4 CALLDATACOPY PUSH1 0x0 DUP4 DUP4 ADD MSTORE POP POP POP JUMP JUMPDEST PUSH1 0x0 JUMPDEST DUP4 DUP2 LT ISZERO PUSH2 0xA1D JUMPI DUP1 DUP3 ADD MLOAD DUP2 DUP5 ADD MSTORE PUSH1 0x20 DUP2 ADD SWAP1 POP PUSH2 0xA02 JUMP JUMPDEST DUP4 DUP2 GT ISZERO PUSH2 0xA2C JUMPI PUSH1 0x0 DUP5 DUP5 ADD MSTORE JUMPDEST POP POP POP POP JUMP JUMPDEST PUSH1 0x0 PUSH1 0x2 DUP3 DIV SWAP1 POP PUSH1 0x1 DUP3 AND DUP1 PUSH2 0xA4A JUMPI PUSH1 0x7F DUP3 AND SWAP2 POP JUMPDEST PUSH1 0x20 DUP3 LT DUP2 EQ ISZERO PUSH2 0xA5E JUMPI PUSH2 0xA5D PUSH2 0xA64 JUMP JUMPDEST JUMPDEST POP SWAP2 SWAP1 POP JUMP JUMPDEST PUSH32 0x4E487B7100000000000000000000000000000000000000000000000000000000 PUSH1 0x0 MSTORE PUSH1 0x22 PUSH1 0x4 MSTORE PUSH1 0x24 PUSH1 0x0 REVERT JUMPDEST PUSH32 0x4E487B7100000000000000000000000000000000000000000000000000000000 PUSH1 0x0 MSTORE PUSH1 0x41 PUSH1 0x4 MSTORE PUSH1 0x24 PUSH1 0x0 REVERT JUMPDEST PUSH1 0x0 PUSH1 0x1F NOT PUSH1 0x1F DUP4 ADD AND SWAP1 POP SWAP2 SWAP1 POP JUMP JUMPDEST PUSH2 0xADC DUP2 PUSH2 0x9E6 JUMP JUMPDEST DUP2 EQ PUSH2 0xAE7 JUMPI PUSH1 0x0 DUP1 REVERT JUMPDEST POP JUMP INVALID LOG2 PUSH5 0x6970667358 0x22 SLT KECCAK256 0x28 0x1F SLOAD 0xBD 0x4F 0xD3 0x21 PUSH18 0x3E72C98F8E577595BFB38EEB3B33F8D382E3 0xD0 DUP1 0xE4 ISZERO 0xBD 0xBF PUSH5 0x736F6C6343 STOP ADDMOD STOP STOP CALLER ', 'sourceMap': '55:781:0:-:0;;;;;;;;;;;;;;;;;;;'}}, 'metadata': '{\"compiler\":{\"version\":\"0.8.0+commit.c7dfd78e\"},\"language\":\"Solidity\",\"output\":{\"abi\":[{\"inputs\":[{\"internalType\":\"string\",\"name\":\"_name\",\"type\":\"string\"},{\"internalType\":\"string\",\"name\":\"_phoneNumber\",\"type\":\"string\"}],\"name\":\"addContact\",\"outputs\":[],\"stateMutability\":\"nonpayable\",\"type\":\"function\"},{\"inputs\":[{\"internalType\":\"uint256\",\"name\":\"\",\"type\":\"uint256\"}],\"name\":\"contact\",\"outputs\":[{\"internalType\":\"string\",\"name\":\"name\",\"type\":\"string\"},{\"internalType\":\"string\",\"name\":\"phoneNumber\",\"type\":\"string\"}],\"stateMutability\":\"view\",\"type\":\"function\"},{\"inputs\":[{\"internalType\":\"string\",\"name\":\"\",\"type\":\"string\"}],\"name\":\"nameToPhoneNumber\",\"outputs\":[{\"internalType\":\"string\",\"name\":\"\",\"type\":\"string\"}],\"stateMutability\":\"view\",\"type\":\"function\"},{\"inputs\":[],\"name\":\"retrieve\",\"outputs\":[{\"components\":[{\"internalType\":\"string\",\"name\":\"name\",\"type\":\"string\"},{\"internalType\":\"string\",\"name\":\"phoneNumber\",\"type\":\"string\"}],\"internalType\":\"struct ContactList.Contact[]\",\"name\":\"\",\"type\":\"tuple[]\"}],\"stateMutability\":\"view\",\"type\":\"function\"}],\"devdoc\":{\"kind\":\"dev\",\"methods\":{},\"version\":1},\"userdoc\":{\"kind\":\"user\",\"methods\":{},\"version\":1}},\"settings\":{\"compilationTarget\":{\"ContactList.sol\":\"ContactList\"},\"evmVersion\":\"istanbul\",\"libraries\":{},\"metadata\":{\"bytecodeHash\":\"ipfs\"},\"optimizer\":{\"enabled\":false,\"runs\":200},\"remappings\":[]},\"sources\":{\"ContactList.sol\":{\"keccak256\":\"0x80210fe9311b229ec7341cf488919319c6c06c235e16c78647f5f89e9678df46\",\"license\":\"MIT\",\"urls\":[\"bzz-raw://fcaccf5b257c84f8b98a4a8c4a54afc6e6a4bca3bb97d685e5c989aad20b1a48\",\"dweb:/ipfs/QmYhU88GQ91TUebieCrNkAnNTUDij3TC4FSWrBpiMzx3DC\"]}},\"version\":1}'}}}, 'sources': {'ContactList.sol': {'id': 0}}}\n"
     ]
    }
   ],
   "source": [
    "compiled_sol = compile_standard(\n",
    "    {\n",
    "        \"language\": \"Solidity\",\n",
    "        \"sources\": {\"ContactList.sol\": {\"content\": contact_list_file}},\n",
    "        \"settings\": {\n",
    "            \"outputSelection\": {\n",
    "                \"*\": {\n",
    "                    \"*\": [\"abi\", \"metadata\", \"evm.bytecode\", \"evm.bytecode.sourceMap\"] # output needed to interact with and deploy contract \n",
    "                }\n",
    "            }\n",
    "        },\n",
    "    },\n",
    "    solc_version=\"0.8.0\",\n",
    ")\n",
    "print(compiled_sol)\n",
    "with open(\"compiled_code.json\", \"w\") as file:\n",
    "    json.dump(compiled_sol, file)"
   ]
  },
  {
   "cell_type": "code",
   "execution_count": 10,
   "id": "9e0c61e6",
   "metadata": {
    "scrolled": true
   },
   "outputs": [
    {
     "data": {
      "text/plain": [
       "[{'inputs': [{'internalType': 'string', 'name': '_name', 'type': 'string'},\n",
       "   {'internalType': 'string', 'name': '_phoneNumber', 'type': 'string'}],\n",
       "  'name': 'addContact',\n",
       "  'outputs': [],\n",
       "  'stateMutability': 'nonpayable',\n",
       "  'type': 'function'},\n",
       " {'inputs': [{'internalType': 'uint256', 'name': '', 'type': 'uint256'}],\n",
       "  'name': 'contact',\n",
       "  'outputs': [{'internalType': 'string', 'name': 'name', 'type': 'string'},\n",
       "   {'internalType': 'string', 'name': 'phoneNumber', 'type': 'string'}],\n",
       "  'stateMutability': 'view',\n",
       "  'type': 'function'},\n",
       " {'inputs': [{'internalType': 'string', 'name': '', 'type': 'string'}],\n",
       "  'name': 'nameToPhoneNumber',\n",
       "  'outputs': [{'internalType': 'string', 'name': '', 'type': 'string'}],\n",
       "  'stateMutability': 'view',\n",
       "  'type': 'function'},\n",
       " {'inputs': [],\n",
       "  'name': 'retrieve',\n",
       "  'outputs': [{'components': [{'internalType': 'string',\n",
       "      'name': 'name',\n",
       "      'type': 'string'},\n",
       "     {'internalType': 'string', 'name': 'phoneNumber', 'type': 'string'}],\n",
       "    'internalType': 'struct ContactList.Contact[]',\n",
       "    'name': '',\n",
       "    'type': 'tuple[]'}],\n",
       "  'stateMutability': 'view',\n",
       "  'type': 'function'}]"
      ]
     },
     "execution_count": 10,
     "metadata": {},
     "output_type": "execute_result"
    }
   ],
   "source": [
    "# get bytecode\n",
    "bytecode = compiled_sol[\"contracts\"][\"ContactList.sol\"][\"ContactList\"][\"evm\"][\"bytecode\"][\"object\"]\n",
    "# get abi\n",
    "abi = json.loads(compiled_sol[\"contracts\"][\"ContactList.sol\"][\"ContactList\"][\"metadata\"])[\"output\"][\"abi\"]\n",
    "abi"
   ]
  },
  {
   "cell_type": "code",
   "execution_count": 11,
   "id": "257b94bb",
   "metadata": {},
   "outputs": [
    {
     "data": {
      "text/plain": [
       "'0x0F67463cCD017808ad987fb9Ee9A1aa3bD9eFBeb'"
      ]
     },
     "execution_count": 11,
     "metadata": {},
     "output_type": "execute_result"
    }
   ],
   "source": [
    "w3.eth.accounts[1]"
   ]
  },
  {
   "cell_type": "markdown",
   "id": "cfc3b3d3",
   "metadata": {},
   "source": [
    "# create SMART CONTRACT"
   ]
  },
  {
   "cell_type": "code",
   "execution_count": 12,
   "id": "7ea86d0d",
   "metadata": {},
   "outputs": [],
   "source": [
    "from eth_account import Account"
   ]
  },
  {
   "cell_type": "code",
   "execution_count": 13,
   "id": "256e8965",
   "metadata": {},
   "outputs": [
    {
     "data": {
      "text/plain": [
       "HexBytes('0x46644dc076d7864c1bdb2a7de19cbedb14ee42f6542fe8434371a4960973a424')"
      ]
     },
     "execution_count": 13,
     "metadata": {},
     "output_type": "execute_result"
    }
   ],
   "source": [
    "with open('UTC--2022-08-16T02-24-26.046033033Z--cf880b1340f3a127c3188b82f73aec111dac9835') as keyfile:\n",
    "    keyfile_json = keyfile.read()\n",
    "keyfile_json\n",
    "\n",
    "private_key = Account.decrypt(keyfile_json, 'mirae123!')\n",
    "private_key"
   ]
  },
  {
   "cell_type": "code",
   "execution_count": 14,
   "id": "8a039265",
   "metadata": {},
   "outputs": [
    {
     "data": {
      "text/plain": [
       "<eth_account.signers.local.LocalAccount at 0x7f3ad8f274f0>"
      ]
     },
     "execution_count": 14,
     "metadata": {},
     "output_type": "execute_result"
    }
   ],
   "source": [
    "acct = Account.privateKeyToAccount(private_key)\n",
    "acct"
   ]
  },
  {
   "cell_type": "code",
   "execution_count": 15,
   "id": "6311b37c",
   "metadata": {},
   "outputs": [
    {
     "data": {
      "text/plain": [
       "'0xcF880b1340f3a127C3188B82f73aeC111DaC9835'"
      ]
     },
     "execution_count": 15,
     "metadata": {},
     "output_type": "execute_result"
    }
   ],
   "source": [
    "ether_address = acct.address\n",
    "ether_address"
   ]
  },
  {
   "cell_type": "code",
   "execution_count": 70,
   "id": "d363b892",
   "metadata": {},
   "outputs": [
    {
     "data": {
      "text/plain": [
       "4"
      ]
     },
     "execution_count": 70,
     "metadata": {},
     "output_type": "execute_result"
    }
   ],
   "source": [
    "from web3 import Web3\n",
    "\n",
    "# For connecting to ganache\n",
    "w3 = Web3(Web3.HTTPProvider(\"http://175.45.201.73:8505\"))\n",
    "chain_id = 5777  # Network ID\n",
    "\n",
    "ContactList = w3.eth.contract(abi=abi, bytecode=bytecode)\n",
    "# Get the number of latest transaction\n",
    "nonce = w3.eth.getTransactionCount(ether_address)\n",
    "nonce"
   ]
  },
  {
   "cell_type": "code",
   "execution_count": 71,
   "id": "a63a6916",
   "metadata": {},
   "outputs": [
    {
     "data": {
      "text/plain": [
       "4"
      ]
     },
     "execution_count": 71,
     "metadata": {},
     "output_type": "execute_result"
    }
   ],
   "source": [
    "nonce = w3.eth.getTransactionCount(ether_address)\n",
    "nonce"
   ]
  },
  {
   "cell_type": "code",
   "execution_count": 18,
   "id": "9f868898",
   "metadata": {},
   "outputs": [
    {
     "data": {
      "text/plain": [
       "1234"
      ]
     },
     "execution_count": 18,
     "metadata": {},
     "output_type": "execute_result"
    }
   ],
   "source": [
    "chain_id"
   ]
  },
  {
   "cell_type": "code",
   "execution_count": 19,
   "id": "31028a88",
   "metadata": {},
   "outputs": [
    {
     "data": {
      "text/plain": [
       "1000000000"
      ]
     },
     "execution_count": 19,
     "metadata": {},
     "output_type": "execute_result"
    }
   ],
   "source": [
    " w3.eth.gas_price"
   ]
  },
  {
   "cell_type": "code",
   "execution_count": 20,
   "id": "39ee00ef",
   "metadata": {
    "scrolled": true
   },
   "outputs": [
    {
     "name": "stdout",
     "output_type": "stream",
     "text": [
      "Deploying Contract!\n",
      "Waiting for transaction to finish...\n",
      "Done! Contract deployed to 0x615da5CBf3C4733CEd9aC3073dcD17BF439c74F7\n"
     ]
    }
   ],
   "source": [
    "# build transaction\n",
    "transaction = ContactList.constructor().buildTransaction(\n",
    "    {\n",
    "        \"chainId\": chain_id,\n",
    "        \"gasPrice\": w3.eth.gas_price,\n",
    "        \"from\": ether_address,\n",
    "        \"nonce\": nonce,\n",
    "    }\n",
    ")\n",
    "# Sign the transaction\n",
    "sign_transaction = w3.eth.account.sign_transaction(transaction, private_key=private_key)\n",
    "print(\"Deploying Contract!\")\n",
    "# Send the transaction\n",
    "transaction_hash = w3.eth.send_raw_transaction(sign_transaction.rawTransaction)\n",
    "# Wait for the transaction to be mined, and get the transaction receipt\n",
    "print(\"Waiting for transaction to finish...\")\n",
    "transaction_receipt = w3.eth.wait_for_transaction_receipt(transaction_hash)\n",
    "print(f\"Done! Contract deployed to {transaction_receipt.contractAddress}\")"
   ]
  },
  {
   "cell_type": "code",
   "execution_count": 21,
   "id": "e1aa304a",
   "metadata": {},
   "outputs": [
    {
     "data": {
      "text/plain": [
       "AttributeDict({'blockHash': HexBytes('0xe203e50ceb21a9e04ce2296a2d56594eabc262e68ce22f61155eaa7e1633cf6b'),\n",
       " 'blockNumber': 250,\n",
       " 'contractAddress': '0x615da5CBf3C4733CEd9aC3073dcD17BF439c74F7',\n",
       " 'cumulativeGasUsed': 807840,\n",
       " 'effectiveGasPrice': 1000000000,\n",
       " 'from': '0xcF880b1340f3a127C3188B82f73aeC111DaC9835',\n",
       " 'gasUsed': 807840,\n",
       " 'logs': [],\n",
       " 'logsBloom': HexBytes('0x00000000000000000000000000000000000000000000000000000000000000000000000000000000000000000000000000000000000000000000000000000000000000000000000000000000000000000000000000000000000000000000000000000000000000000000000000000000000000000000000000000000000000000000000000000000000000000000000000000000000000000000000000000000000000000000000000000000000000000000000000000000000000000000000000000000000000000000000000000000000000000000000000000000000000000000000000000000000000000000000000000000000000000000000000000000'),\n",
       " 'root': '0xd15d2dee69fe8f26c985950dc2618b1cf2d4a19bca5745c892849cb128d7210b',\n",
       " 'to': None,\n",
       " 'transactionHash': HexBytes('0xa786312221f61a23b77ab35a2ada7bfdb4957a27a103525934dfdd9058f3c676'),\n",
       " 'transactionIndex': 0,\n",
       " 'type': '0x0'})"
      ]
     },
     "execution_count": 21,
     "metadata": {},
     "output_type": "execute_result"
    }
   ],
   "source": [
    "transaction_receipt"
   ]
  },
  {
   "cell_type": "markdown",
   "id": "fbe5979f",
   "metadata": {},
   "source": [
    "## Interacting with the Contract"
   ]
  },
  {
   "cell_type": "code",
   "execution_count": 22,
   "id": "1c1fff40",
   "metadata": {},
   "outputs": [
    {
     "data": {
      "text/plain": [
       "'0x615da5CBf3C4733CEd9aC3073dcD17BF439c74F7'"
      ]
     },
     "execution_count": 22,
     "metadata": {},
     "output_type": "execute_result"
    }
   ],
   "source": [
    "transaction_receipt.contractAddress"
   ]
  },
  {
   "cell_type": "code",
   "execution_count": 23,
   "id": "fb505af4",
   "metadata": {
    "scrolled": true
   },
   "outputs": [
    {
     "data": {
      "text/plain": [
       "[{'inputs': [{'internalType': 'string', 'name': '_name', 'type': 'string'},\n",
       "   {'internalType': 'string', 'name': '_phoneNumber', 'type': 'string'}],\n",
       "  'name': 'addContact',\n",
       "  'outputs': [],\n",
       "  'stateMutability': 'nonpayable',\n",
       "  'type': 'function'},\n",
       " {'inputs': [{'internalType': 'uint256', 'name': '', 'type': 'uint256'}],\n",
       "  'name': 'contact',\n",
       "  'outputs': [{'internalType': 'string', 'name': 'name', 'type': 'string'},\n",
       "   {'internalType': 'string', 'name': 'phoneNumber', 'type': 'string'}],\n",
       "  'stateMutability': 'view',\n",
       "  'type': 'function'},\n",
       " {'inputs': [{'internalType': 'string', 'name': '', 'type': 'string'}],\n",
       "  'name': 'nameToPhoneNumber',\n",
       "  'outputs': [{'internalType': 'string', 'name': '', 'type': 'string'}],\n",
       "  'stateMutability': 'view',\n",
       "  'type': 'function'},\n",
       " {'inputs': [],\n",
       "  'name': 'retrieve',\n",
       "  'outputs': [{'components': [{'internalType': 'string',\n",
       "      'name': 'name',\n",
       "      'type': 'string'},\n",
       "     {'internalType': 'string', 'name': 'phoneNumber', 'type': 'string'}],\n",
       "    'internalType': 'struct ContactList.Contact[]',\n",
       "    'name': '',\n",
       "    'type': 'tuple[]'}],\n",
       "  'stateMutability': 'view',\n",
       "  'type': 'function'}]"
      ]
     },
     "execution_count": 23,
     "metadata": {},
     "output_type": "execute_result"
    }
   ],
   "source": [
    "abi"
   ]
  },
  {
   "cell_type": "code",
   "execution_count": 24,
   "id": "2028c8cb",
   "metadata": {
    "scrolled": true
   },
   "outputs": [],
   "source": [
    "contact_list = w3.eth.contract(address=transaction_receipt.contractAddress, abi=abi)"
   ]
  },
  {
   "cell_type": "code",
   "execution_count": 25,
   "id": "45cb36ce",
   "metadata": {
    "scrolled": true
   },
   "outputs": [
    {
     "ename": "ValueError",
     "evalue": "{'code': -32000, 'message': 'invalid opcode: SHR'}",
     "output_type": "error",
     "traceback": [
      "\u001b[0;31m---------------------------------------------------------------------------\u001b[0m",
      "\u001b[0;31mValueError\u001b[0m                                Traceback (most recent call last)",
      "\u001b[0;32m/tmp/ipykernel_6064/1287951578.py\u001b[0m in \u001b[0;36m<module>\u001b[0;34m\u001b[0m\n\u001b[0;32m----> 1\u001b[0;31m \u001b[0mcontact_list\u001b[0m\u001b[0;34m.\u001b[0m\u001b[0mfunctions\u001b[0m\u001b[0;34m.\u001b[0m\u001b[0mretrieve\u001b[0m\u001b[0;34m(\u001b[0m\u001b[0;34m)\u001b[0m\u001b[0;34m.\u001b[0m\u001b[0mbuildTransaction\u001b[0m\u001b[0;34m(\u001b[0m\u001b[0;34m{\u001b[0m\u001b[0;34m\"chainId\"\u001b[0m\u001b[0;34m:\u001b[0m \u001b[0mchain_id\u001b[0m\u001b[0;34m,\u001b[0m \u001b[0;34m\"from\"\u001b[0m\u001b[0;34m:\u001b[0m \u001b[0mether_address\u001b[0m\u001b[0;34m,\u001b[0m \u001b[0;34m\"gasPrice\"\u001b[0m\u001b[0;34m:\u001b[0m \u001b[0mw3\u001b[0m\u001b[0;34m.\u001b[0m\u001b[0meth\u001b[0m\u001b[0;34m.\u001b[0m\u001b[0mgas_price\u001b[0m\u001b[0;34m,\u001b[0m \u001b[0;34m\"nonce\"\u001b[0m\u001b[0;34m:\u001b[0m \u001b[0mnonce\u001b[0m \u001b[0;34m+\u001b[0m \u001b[0;36m1\u001b[0m\u001b[0;34m}\u001b[0m\u001b[0;34m)\u001b[0m\u001b[0;34m\u001b[0m\u001b[0;34m\u001b[0m\u001b[0m\n\u001b[0m",
      "\u001b[0;32m~/anaconda3/lib/python3.9/site-packages/web3/_utils/decorators.py\u001b[0m in \u001b[0;36mwrapper\u001b[0;34m(*args, **kwargs)\u001b[0m\n\u001b[1;32m     49\u001b[0m                 \u001b[0;34mf\"{to_wrap.__name__} is deprecated in favor of {replace_message}\"\u001b[0m\u001b[0;34m,\u001b[0m\u001b[0;34m\u001b[0m\u001b[0;34m\u001b[0m\u001b[0m\n\u001b[1;32m     50\u001b[0m                 category=DeprecationWarning)\n\u001b[0;32m---> 51\u001b[0;31m             \u001b[0;32mreturn\u001b[0m \u001b[0mto_wrap\u001b[0m\u001b[0;34m(\u001b[0m\u001b[0;34m*\u001b[0m\u001b[0margs\u001b[0m\u001b[0;34m,\u001b[0m \u001b[0;34m**\u001b[0m\u001b[0mkwargs\u001b[0m\u001b[0;34m)\u001b[0m\u001b[0;34m\u001b[0m\u001b[0;34m\u001b[0m\u001b[0m\n\u001b[0m\u001b[1;32m     52\u001b[0m         \u001b[0;32mreturn\u001b[0m \u001b[0mcast\u001b[0m\u001b[0;34m(\u001b[0m\u001b[0mTFunc\u001b[0m\u001b[0;34m,\u001b[0m \u001b[0mwrapper\u001b[0m\u001b[0;34m)\u001b[0m\u001b[0;34m\u001b[0m\u001b[0;34m\u001b[0m\u001b[0m\n\u001b[1;32m     53\u001b[0m     \u001b[0;32mreturn\u001b[0m \u001b[0mdecorator\u001b[0m\u001b[0;34m\u001b[0m\u001b[0;34m\u001b[0m\u001b[0m\n",
      "\u001b[0;32m~/anaconda3/lib/python3.9/site-packages/web3/contract.py\u001b[0m in \u001b[0;36mbuildTransaction\u001b[0;34m(self, transaction)\u001b[0m\n\u001b[1;32m   1110\u001b[0m     \u001b[0;34m@\u001b[0m\u001b[0mdeprecated_for\u001b[0m\u001b[0;34m(\u001b[0m\u001b[0;34m\"build_transaction\"\u001b[0m\u001b[0;34m)\u001b[0m\u001b[0;34m\u001b[0m\u001b[0;34m\u001b[0m\u001b[0m\n\u001b[1;32m   1111\u001b[0m     \u001b[0;32mdef\u001b[0m \u001b[0mbuildTransaction\u001b[0m\u001b[0;34m(\u001b[0m\u001b[0mself\u001b[0m\u001b[0;34m,\u001b[0m \u001b[0mtransaction\u001b[0m\u001b[0;34m:\u001b[0m \u001b[0mOptional\u001b[0m\u001b[0;34m[\u001b[0m\u001b[0mTxParams\u001b[0m\u001b[0;34m]\u001b[0m \u001b[0;34m=\u001b[0m \u001b[0;32mNone\u001b[0m\u001b[0;34m)\u001b[0m \u001b[0;34m->\u001b[0m \u001b[0mTxParams\u001b[0m\u001b[0;34m:\u001b[0m\u001b[0;34m\u001b[0m\u001b[0;34m\u001b[0m\u001b[0m\n\u001b[0;32m-> 1112\u001b[0;31m         \u001b[0;32mreturn\u001b[0m \u001b[0mself\u001b[0m\u001b[0;34m.\u001b[0m\u001b[0mbuild_transaction\u001b[0m\u001b[0;34m(\u001b[0m\u001b[0mtransaction\u001b[0m\u001b[0;34m)\u001b[0m\u001b[0;34m\u001b[0m\u001b[0;34m\u001b[0m\u001b[0m\n\u001b[0m\u001b[1;32m   1113\u001b[0m \u001b[0;34m\u001b[0m\u001b[0m\n\u001b[1;32m   1114\u001b[0m     \u001b[0;34m@\u001b[0m\u001b[0mcombomethod\u001b[0m\u001b[0;34m\u001b[0m\u001b[0;34m\u001b[0m\u001b[0m\n",
      "\u001b[0;32m~/anaconda3/lib/python3.9/site-packages/web3/contract.py\u001b[0m in \u001b[0;36mbuild_transaction\u001b[0;34m(self, transaction)\u001b[0m\n\u001b[1;32m   1097\u001b[0m             )\n\u001b[1;32m   1098\u001b[0m \u001b[0;34m\u001b[0m\u001b[0m\n\u001b[0;32m-> 1099\u001b[0;31m         return build_transaction_for_function(\n\u001b[0m\u001b[1;32m   1100\u001b[0m             \u001b[0mself\u001b[0m\u001b[0;34m.\u001b[0m\u001b[0maddress\u001b[0m\u001b[0;34m,\u001b[0m\u001b[0;34m\u001b[0m\u001b[0;34m\u001b[0m\u001b[0m\n\u001b[1;32m   1101\u001b[0m             \u001b[0mself\u001b[0m\u001b[0;34m.\u001b[0m\u001b[0mweb3\u001b[0m\u001b[0;34m,\u001b[0m\u001b[0;34m\u001b[0m\u001b[0;34m\u001b[0m\u001b[0m\n",
      "\u001b[0;32m~/anaconda3/lib/python3.9/site-packages/web3/contract.py\u001b[0m in \u001b[0;36mbuild_transaction_for_function\u001b[0;34m(address, web3, function_name, transaction, contract_abi, fn_abi, *args, **kwargs)\u001b[0m\n\u001b[1;32m   1670\u001b[0m     )\n\u001b[1;32m   1671\u001b[0m \u001b[0;34m\u001b[0m\u001b[0m\n\u001b[0;32m-> 1672\u001b[0;31m     \u001b[0mprepared_transaction\u001b[0m \u001b[0;34m=\u001b[0m \u001b[0mfill_transaction_defaults\u001b[0m\u001b[0;34m(\u001b[0m\u001b[0mweb3\u001b[0m\u001b[0;34m,\u001b[0m \u001b[0mprepared_transaction\u001b[0m\u001b[0;34m)\u001b[0m\u001b[0;34m\u001b[0m\u001b[0;34m\u001b[0m\u001b[0m\n\u001b[0m\u001b[1;32m   1673\u001b[0m \u001b[0;34m\u001b[0m\u001b[0m\n\u001b[1;32m   1674\u001b[0m     \u001b[0;32mreturn\u001b[0m \u001b[0mprepared_transaction\u001b[0m\u001b[0;34m\u001b[0m\u001b[0;34m\u001b[0m\u001b[0m\n",
      "\u001b[0;32m~/anaconda3/lib/python3.9/site-packages/cytoolz/functoolz.pyx\u001b[0m in \u001b[0;36mcytoolz.functoolz.curry.__call__\u001b[0;34m()\u001b[0m\n",
      "\u001b[0;32m~/anaconda3/lib/python3.9/site-packages/web3/_utils/transactions.py\u001b[0m in \u001b[0;36mfill_transaction_defaults\u001b[0;34m(web3, transaction)\u001b[0m\n\u001b[1;32m    112\u001b[0m                 \u001b[0;32mif\u001b[0m \u001b[0mweb3\u001b[0m \u001b[0;32mis\u001b[0m \u001b[0;32mNone\u001b[0m\u001b[0;34m:\u001b[0m\u001b[0;34m\u001b[0m\u001b[0;34m\u001b[0m\u001b[0m\n\u001b[1;32m    113\u001b[0m                     \u001b[0;32mraise\u001b[0m \u001b[0mValueError\u001b[0m\u001b[0;34m(\u001b[0m\u001b[0;34m\"You must specify a '%s' value in the transaction\"\u001b[0m \u001b[0;34m%\u001b[0m \u001b[0mkey\u001b[0m\u001b[0;34m)\u001b[0m\u001b[0;34m\u001b[0m\u001b[0;34m\u001b[0m\u001b[0m\n\u001b[0;32m--> 114\u001b[0;31m                 \u001b[0mdefault_val\u001b[0m \u001b[0;34m=\u001b[0m \u001b[0mdefault_getter\u001b[0m\u001b[0;34m(\u001b[0m\u001b[0mweb3\u001b[0m\u001b[0;34m,\u001b[0m \u001b[0mtransaction\u001b[0m\u001b[0;34m)\u001b[0m\u001b[0;34m\u001b[0m\u001b[0;34m\u001b[0m\u001b[0m\n\u001b[0m\u001b[1;32m    115\u001b[0m             \u001b[0;32melse\u001b[0m\u001b[0;34m:\u001b[0m\u001b[0;34m\u001b[0m\u001b[0;34m\u001b[0m\u001b[0m\n\u001b[1;32m    116\u001b[0m                 \u001b[0mdefault_val\u001b[0m \u001b[0;34m=\u001b[0m \u001b[0mdefault_getter\u001b[0m\u001b[0;34m\u001b[0m\u001b[0;34m\u001b[0m\u001b[0m\n",
      "\u001b[0;32m~/anaconda3/lib/python3.9/site-packages/web3/_utils/transactions.py\u001b[0m in \u001b[0;36m<lambda>\u001b[0;34m(web3, tx)\u001b[0m\n\u001b[1;32m     58\u001b[0m     \u001b[0;34m'value'\u001b[0m\u001b[0;34m:\u001b[0m \u001b[0;36m0\u001b[0m\u001b[0;34m,\u001b[0m\u001b[0;34m\u001b[0m\u001b[0;34m\u001b[0m\u001b[0m\n\u001b[1;32m     59\u001b[0m     \u001b[0;34m'data'\u001b[0m\u001b[0;34m:\u001b[0m \u001b[0;34mb''\u001b[0m\u001b[0;34m,\u001b[0m\u001b[0;34m\u001b[0m\u001b[0;34m\u001b[0m\u001b[0m\n\u001b[0;32m---> 60\u001b[0;31m     \u001b[0;34m'gas'\u001b[0m\u001b[0;34m:\u001b[0m \u001b[0;32mlambda\u001b[0m \u001b[0mweb3\u001b[0m\u001b[0;34m,\u001b[0m \u001b[0mtx\u001b[0m\u001b[0;34m:\u001b[0m \u001b[0mweb3\u001b[0m\u001b[0;34m.\u001b[0m\u001b[0meth\u001b[0m\u001b[0;34m.\u001b[0m\u001b[0mestimate_gas\u001b[0m\u001b[0;34m(\u001b[0m\u001b[0mtx\u001b[0m\u001b[0;34m)\u001b[0m\u001b[0;34m,\u001b[0m\u001b[0;34m\u001b[0m\u001b[0;34m\u001b[0m\u001b[0m\n\u001b[0m\u001b[1;32m     61\u001b[0m     \u001b[0;34m'gasPrice'\u001b[0m\u001b[0;34m:\u001b[0m \u001b[0;32mlambda\u001b[0m \u001b[0mweb3\u001b[0m\u001b[0;34m,\u001b[0m \u001b[0mtx\u001b[0m\u001b[0;34m:\u001b[0m \u001b[0mweb3\u001b[0m\u001b[0;34m.\u001b[0m\u001b[0meth\u001b[0m\u001b[0;34m.\u001b[0m\u001b[0mgenerate_gas_price\u001b[0m\u001b[0;34m(\u001b[0m\u001b[0mtx\u001b[0m\u001b[0;34m)\u001b[0m \u001b[0;32mor\u001b[0m \u001b[0mweb3\u001b[0m\u001b[0;34m.\u001b[0m\u001b[0meth\u001b[0m\u001b[0;34m.\u001b[0m\u001b[0mgas_price\u001b[0m\u001b[0;34m,\u001b[0m\u001b[0;34m\u001b[0m\u001b[0;34m\u001b[0m\u001b[0m\n\u001b[1;32m     62\u001b[0m     'maxFeePerGas': (\n",
      "\u001b[0;32m~/anaconda3/lib/python3.9/site-packages/web3/eth.py\u001b[0m in \u001b[0;36mestimate_gas\u001b[0;34m(self, transaction, block_identifier)\u001b[0m\n\u001b[1;32m    866\u001b[0m         \u001b[0mblock_identifier\u001b[0m\u001b[0;34m:\u001b[0m \u001b[0mOptional\u001b[0m\u001b[0;34m[\u001b[0m\u001b[0mBlockIdentifier\u001b[0m\u001b[0;34m]\u001b[0m \u001b[0;34m=\u001b[0m \u001b[0;32mNone\u001b[0m\u001b[0;34m\u001b[0m\u001b[0;34m\u001b[0m\u001b[0m\n\u001b[1;32m    867\u001b[0m     ) -> Wei:\n\u001b[0;32m--> 868\u001b[0;31m         \u001b[0;32mreturn\u001b[0m \u001b[0mself\u001b[0m\u001b[0;34m.\u001b[0m\u001b[0m_estimate_gas\u001b[0m\u001b[0;34m(\u001b[0m\u001b[0mtransaction\u001b[0m\u001b[0;34m,\u001b[0m \u001b[0mblock_identifier\u001b[0m\u001b[0;34m)\u001b[0m\u001b[0;34m\u001b[0m\u001b[0;34m\u001b[0m\u001b[0m\n\u001b[0m\u001b[1;32m    869\u001b[0m \u001b[0;34m\u001b[0m\u001b[0m\n\u001b[1;32m    870\u001b[0m     def fee_history(\n",
      "\u001b[0;32m~/anaconda3/lib/python3.9/site-packages/web3/module.py\u001b[0m in \u001b[0;36mcaller\u001b[0;34m(*args, **kwargs)\u001b[0m\n\u001b[1;32m     55\u001b[0m             \u001b[0;32mreturn\u001b[0m \u001b[0mLogFilter\u001b[0m\u001b[0;34m(\u001b[0m\u001b[0meth_module\u001b[0m\u001b[0;34m=\u001b[0m\u001b[0mmodule\u001b[0m\u001b[0;34m,\u001b[0m \u001b[0mfilter_id\u001b[0m\u001b[0;34m=\u001b[0m\u001b[0merr\u001b[0m\u001b[0;34m.\u001b[0m\u001b[0mfilter_id\u001b[0m\u001b[0;34m)\u001b[0m\u001b[0;34m\u001b[0m\u001b[0;34m\u001b[0m\u001b[0m\n\u001b[1;32m     56\u001b[0m         \u001b[0mresult_formatters\u001b[0m\u001b[0;34m,\u001b[0m \u001b[0merror_formatters\u001b[0m\u001b[0;34m,\u001b[0m \u001b[0mnull_result_formatters\u001b[0m \u001b[0;34m=\u001b[0m \u001b[0mresponse_formatters\u001b[0m\u001b[0;34m\u001b[0m\u001b[0;34m\u001b[0m\u001b[0m\n\u001b[0;32m---> 57\u001b[0;31m         result = w3.manager.request_blocking(method_str,\n\u001b[0m\u001b[1;32m     58\u001b[0m                                              \u001b[0mparams\u001b[0m\u001b[0;34m,\u001b[0m\u001b[0;34m\u001b[0m\u001b[0;34m\u001b[0m\u001b[0m\n\u001b[1;32m     59\u001b[0m                                              \u001b[0merror_formatters\u001b[0m\u001b[0;34m,\u001b[0m\u001b[0;34m\u001b[0m\u001b[0;34m\u001b[0m\u001b[0m\n",
      "\u001b[0;32m~/anaconda3/lib/python3.9/site-packages/web3/manager.py\u001b[0m in \u001b[0;36mrequest_blocking\u001b[0;34m(self, method, params, error_formatters, null_result_formatters)\u001b[0m\n\u001b[1;32m    196\u001b[0m         \"\"\"\n\u001b[1;32m    197\u001b[0m         \u001b[0mresponse\u001b[0m \u001b[0;34m=\u001b[0m \u001b[0mself\u001b[0m\u001b[0;34m.\u001b[0m\u001b[0m_make_request\u001b[0m\u001b[0;34m(\u001b[0m\u001b[0mmethod\u001b[0m\u001b[0;34m,\u001b[0m \u001b[0mparams\u001b[0m\u001b[0;34m)\u001b[0m\u001b[0;34m\u001b[0m\u001b[0;34m\u001b[0m\u001b[0m\n\u001b[0;32m--> 198\u001b[0;31m         return self.formatted_response(response,\n\u001b[0m\u001b[1;32m    199\u001b[0m                                        \u001b[0mparams\u001b[0m\u001b[0;34m,\u001b[0m\u001b[0;34m\u001b[0m\u001b[0;34m\u001b[0m\u001b[0m\n\u001b[1;32m    200\u001b[0m                                        \u001b[0merror_formatters\u001b[0m\u001b[0;34m,\u001b[0m\u001b[0;34m\u001b[0m\u001b[0;34m\u001b[0m\u001b[0m\n",
      "\u001b[0;32m~/anaconda3/lib/python3.9/site-packages/web3/manager.py\u001b[0m in \u001b[0;36mformatted_response\u001b[0;34m(response, params, error_formatters, null_result_formatters)\u001b[0m\n\u001b[1;32m    169\u001b[0m         \u001b[0;32mif\u001b[0m \u001b[0;34m\"error\"\u001b[0m \u001b[0;32min\u001b[0m \u001b[0mresponse\u001b[0m\u001b[0;34m:\u001b[0m\u001b[0;34m\u001b[0m\u001b[0;34m\u001b[0m\u001b[0m\n\u001b[1;32m    170\u001b[0m             \u001b[0mapply_error_formatters\u001b[0m\u001b[0;34m(\u001b[0m\u001b[0merror_formatters\u001b[0m\u001b[0;34m,\u001b[0m \u001b[0mresponse\u001b[0m\u001b[0;34m)\u001b[0m\u001b[0;34m\u001b[0m\u001b[0;34m\u001b[0m\u001b[0m\n\u001b[0;32m--> 171\u001b[0;31m             \u001b[0;32mraise\u001b[0m \u001b[0mValueError\u001b[0m\u001b[0;34m(\u001b[0m\u001b[0mresponse\u001b[0m\u001b[0;34m[\u001b[0m\u001b[0;34m\"error\"\u001b[0m\u001b[0;34m]\u001b[0m\u001b[0;34m)\u001b[0m\u001b[0;34m\u001b[0m\u001b[0;34m\u001b[0m\u001b[0m\n\u001b[0m\u001b[1;32m    172\u001b[0m         \u001b[0;31m# NULL_RESPONSES includes None, so return False here as the default\u001b[0m\u001b[0;34m\u001b[0m\u001b[0;34m\u001b[0m\u001b[0m\n\u001b[1;32m    173\u001b[0m         \u001b[0;31m# so we don't apply the null_result_formatters if there is no 'result' key\u001b[0m\u001b[0;34m\u001b[0m\u001b[0;34m\u001b[0m\u001b[0m\n",
      "\u001b[0;31mValueError\u001b[0m: {'code': -32000, 'message': 'invalid opcode: SHR'}"
     ]
    }
   ],
   "source": [
    "## 요기서의 에러는 GENESIS BLOCK의 이더리움 버젼이 달라셔그럼!! 이후에 추가된 OPCODE(SHR)이 반영안댐\n",
    "contact_list.functions.retrieve().buildTransaction({\"chainId\": chain_id, \"from\": ether_address, \"gasPrice\": w3.eth.gas_price, \"nonce\": nonce + 1})"
   ]
  },
  {
   "cell_type": "code",
   "execution_count": 175,
   "id": "f9464453",
   "metadata": {
    "scrolled": true
   },
   "outputs": [
    {
     "ename": "ValueError",
     "evalue": "{'code': -32000, 'message': 'invalid opcode: SHR'}",
     "output_type": "error",
     "traceback": [
      "\u001b[0;31m---------------------------------------------------------------------------\u001b[0m",
      "\u001b[0;31mValueError\u001b[0m                                Traceback (most recent call last)",
      "\u001b[0;32m/tmp/ipykernel_2745/3419481118.py\u001b[0m in \u001b[0;36m<module>\u001b[0;34m\u001b[0m\n\u001b[0;32m----> 1\u001b[0;31m store_contact = contact_list.functions.addContact(\n\u001b[0m\u001b[1;32m      2\u001b[0m     \u001b[0;34m\"name\"\u001b[0m\u001b[0;34m,\u001b[0m \u001b[0;34m\"+2348112398610\"\u001b[0m\u001b[0;34m\u001b[0m\u001b[0;34m\u001b[0m\u001b[0m\n\u001b[1;32m      3\u001b[0m ).buildTransaction({\"chainId\": chain_id, \"from\": ether_address, \"gasPrice\": w3.eth.gas_price, \"nonce\": nonce + 1})\n",
      "\u001b[0;32m~/anaconda3/lib/python3.9/site-packages/web3/_utils/decorators.py\u001b[0m in \u001b[0;36mwrapper\u001b[0;34m(*args, **kwargs)\u001b[0m\n\u001b[1;32m     49\u001b[0m                 \u001b[0;34mf\"{to_wrap.__name__} is deprecated in favor of {replace_message}\"\u001b[0m\u001b[0;34m,\u001b[0m\u001b[0;34m\u001b[0m\u001b[0;34m\u001b[0m\u001b[0m\n\u001b[1;32m     50\u001b[0m                 category=DeprecationWarning)\n\u001b[0;32m---> 51\u001b[0;31m             \u001b[0;32mreturn\u001b[0m \u001b[0mto_wrap\u001b[0m\u001b[0;34m(\u001b[0m\u001b[0;34m*\u001b[0m\u001b[0margs\u001b[0m\u001b[0;34m,\u001b[0m \u001b[0;34m**\u001b[0m\u001b[0mkwargs\u001b[0m\u001b[0;34m)\u001b[0m\u001b[0;34m\u001b[0m\u001b[0;34m\u001b[0m\u001b[0m\n\u001b[0m\u001b[1;32m     52\u001b[0m         \u001b[0;32mreturn\u001b[0m \u001b[0mcast\u001b[0m\u001b[0;34m(\u001b[0m\u001b[0mTFunc\u001b[0m\u001b[0;34m,\u001b[0m \u001b[0mwrapper\u001b[0m\u001b[0;34m)\u001b[0m\u001b[0;34m\u001b[0m\u001b[0;34m\u001b[0m\u001b[0m\n\u001b[1;32m     53\u001b[0m     \u001b[0;32mreturn\u001b[0m \u001b[0mdecorator\u001b[0m\u001b[0;34m\u001b[0m\u001b[0;34m\u001b[0m\u001b[0m\n",
      "\u001b[0;32m~/anaconda3/lib/python3.9/site-packages/web3/contract.py\u001b[0m in \u001b[0;36mbuildTransaction\u001b[0;34m(self, transaction)\u001b[0m\n\u001b[1;32m   1110\u001b[0m     \u001b[0;34m@\u001b[0m\u001b[0mdeprecated_for\u001b[0m\u001b[0;34m(\u001b[0m\u001b[0;34m\"build_transaction\"\u001b[0m\u001b[0;34m)\u001b[0m\u001b[0;34m\u001b[0m\u001b[0;34m\u001b[0m\u001b[0m\n\u001b[1;32m   1111\u001b[0m     \u001b[0;32mdef\u001b[0m \u001b[0mbuildTransaction\u001b[0m\u001b[0;34m(\u001b[0m\u001b[0mself\u001b[0m\u001b[0;34m,\u001b[0m \u001b[0mtransaction\u001b[0m\u001b[0;34m:\u001b[0m \u001b[0mOptional\u001b[0m\u001b[0;34m[\u001b[0m\u001b[0mTxParams\u001b[0m\u001b[0;34m]\u001b[0m \u001b[0;34m=\u001b[0m \u001b[0;32mNone\u001b[0m\u001b[0;34m)\u001b[0m \u001b[0;34m->\u001b[0m \u001b[0mTxParams\u001b[0m\u001b[0;34m:\u001b[0m\u001b[0;34m\u001b[0m\u001b[0;34m\u001b[0m\u001b[0m\n\u001b[0;32m-> 1112\u001b[0;31m         \u001b[0;32mreturn\u001b[0m \u001b[0mself\u001b[0m\u001b[0;34m.\u001b[0m\u001b[0mbuild_transaction\u001b[0m\u001b[0;34m(\u001b[0m\u001b[0mtransaction\u001b[0m\u001b[0;34m)\u001b[0m\u001b[0;34m\u001b[0m\u001b[0;34m\u001b[0m\u001b[0m\n\u001b[0m\u001b[1;32m   1113\u001b[0m \u001b[0;34m\u001b[0m\u001b[0m\n\u001b[1;32m   1114\u001b[0m     \u001b[0;34m@\u001b[0m\u001b[0mcombomethod\u001b[0m\u001b[0;34m\u001b[0m\u001b[0;34m\u001b[0m\u001b[0m\n",
      "\u001b[0;32m~/anaconda3/lib/python3.9/site-packages/web3/contract.py\u001b[0m in \u001b[0;36mbuild_transaction\u001b[0;34m(self, transaction)\u001b[0m\n\u001b[1;32m   1097\u001b[0m             )\n\u001b[1;32m   1098\u001b[0m \u001b[0;34m\u001b[0m\u001b[0m\n\u001b[0;32m-> 1099\u001b[0;31m         return build_transaction_for_function(\n\u001b[0m\u001b[1;32m   1100\u001b[0m             \u001b[0mself\u001b[0m\u001b[0;34m.\u001b[0m\u001b[0maddress\u001b[0m\u001b[0;34m,\u001b[0m\u001b[0;34m\u001b[0m\u001b[0;34m\u001b[0m\u001b[0m\n\u001b[1;32m   1101\u001b[0m             \u001b[0mself\u001b[0m\u001b[0;34m.\u001b[0m\u001b[0mweb3\u001b[0m\u001b[0;34m,\u001b[0m\u001b[0;34m\u001b[0m\u001b[0;34m\u001b[0m\u001b[0m\n",
      "\u001b[0;32m~/anaconda3/lib/python3.9/site-packages/web3/contract.py\u001b[0m in \u001b[0;36mbuild_transaction_for_function\u001b[0;34m(address, web3, function_name, transaction, contract_abi, fn_abi, *args, **kwargs)\u001b[0m\n\u001b[1;32m   1670\u001b[0m     )\n\u001b[1;32m   1671\u001b[0m \u001b[0;34m\u001b[0m\u001b[0m\n\u001b[0;32m-> 1672\u001b[0;31m     \u001b[0mprepared_transaction\u001b[0m \u001b[0;34m=\u001b[0m \u001b[0mfill_transaction_defaults\u001b[0m\u001b[0;34m(\u001b[0m\u001b[0mweb3\u001b[0m\u001b[0;34m,\u001b[0m \u001b[0mprepared_transaction\u001b[0m\u001b[0;34m)\u001b[0m\u001b[0;34m\u001b[0m\u001b[0;34m\u001b[0m\u001b[0m\n\u001b[0m\u001b[1;32m   1673\u001b[0m \u001b[0;34m\u001b[0m\u001b[0m\n\u001b[1;32m   1674\u001b[0m     \u001b[0;32mreturn\u001b[0m \u001b[0mprepared_transaction\u001b[0m\u001b[0;34m\u001b[0m\u001b[0;34m\u001b[0m\u001b[0m\n",
      "\u001b[0;32m~/anaconda3/lib/python3.9/site-packages/cytoolz/functoolz.pyx\u001b[0m in \u001b[0;36mcytoolz.functoolz.curry.__call__\u001b[0;34m()\u001b[0m\n",
      "\u001b[0;32m~/anaconda3/lib/python3.9/site-packages/web3/_utils/transactions.py\u001b[0m in \u001b[0;36mfill_transaction_defaults\u001b[0;34m(web3, transaction)\u001b[0m\n\u001b[1;32m    112\u001b[0m                 \u001b[0;32mif\u001b[0m \u001b[0mweb3\u001b[0m \u001b[0;32mis\u001b[0m \u001b[0;32mNone\u001b[0m\u001b[0;34m:\u001b[0m\u001b[0;34m\u001b[0m\u001b[0;34m\u001b[0m\u001b[0m\n\u001b[1;32m    113\u001b[0m                     \u001b[0;32mraise\u001b[0m \u001b[0mValueError\u001b[0m\u001b[0;34m(\u001b[0m\u001b[0;34m\"You must specify a '%s' value in the transaction\"\u001b[0m \u001b[0;34m%\u001b[0m \u001b[0mkey\u001b[0m\u001b[0;34m)\u001b[0m\u001b[0;34m\u001b[0m\u001b[0;34m\u001b[0m\u001b[0m\n\u001b[0;32m--> 114\u001b[0;31m                 \u001b[0mdefault_val\u001b[0m \u001b[0;34m=\u001b[0m \u001b[0mdefault_getter\u001b[0m\u001b[0;34m(\u001b[0m\u001b[0mweb3\u001b[0m\u001b[0;34m,\u001b[0m \u001b[0mtransaction\u001b[0m\u001b[0;34m)\u001b[0m\u001b[0;34m\u001b[0m\u001b[0;34m\u001b[0m\u001b[0m\n\u001b[0m\u001b[1;32m    115\u001b[0m             \u001b[0;32melse\u001b[0m\u001b[0;34m:\u001b[0m\u001b[0;34m\u001b[0m\u001b[0;34m\u001b[0m\u001b[0m\n\u001b[1;32m    116\u001b[0m                 \u001b[0mdefault_val\u001b[0m \u001b[0;34m=\u001b[0m \u001b[0mdefault_getter\u001b[0m\u001b[0;34m\u001b[0m\u001b[0;34m\u001b[0m\u001b[0m\n",
      "\u001b[0;32m~/anaconda3/lib/python3.9/site-packages/web3/_utils/transactions.py\u001b[0m in \u001b[0;36m<lambda>\u001b[0;34m(web3, tx)\u001b[0m\n\u001b[1;32m     58\u001b[0m     \u001b[0;34m'value'\u001b[0m\u001b[0;34m:\u001b[0m \u001b[0;36m0\u001b[0m\u001b[0;34m,\u001b[0m\u001b[0;34m\u001b[0m\u001b[0;34m\u001b[0m\u001b[0m\n\u001b[1;32m     59\u001b[0m     \u001b[0;34m'data'\u001b[0m\u001b[0;34m:\u001b[0m \u001b[0;34mb''\u001b[0m\u001b[0;34m,\u001b[0m\u001b[0;34m\u001b[0m\u001b[0;34m\u001b[0m\u001b[0m\n\u001b[0;32m---> 60\u001b[0;31m     \u001b[0;34m'gas'\u001b[0m\u001b[0;34m:\u001b[0m \u001b[0;32mlambda\u001b[0m \u001b[0mweb3\u001b[0m\u001b[0;34m,\u001b[0m \u001b[0mtx\u001b[0m\u001b[0;34m:\u001b[0m \u001b[0mweb3\u001b[0m\u001b[0;34m.\u001b[0m\u001b[0meth\u001b[0m\u001b[0;34m.\u001b[0m\u001b[0mestimate_gas\u001b[0m\u001b[0;34m(\u001b[0m\u001b[0mtx\u001b[0m\u001b[0;34m)\u001b[0m\u001b[0;34m,\u001b[0m\u001b[0;34m\u001b[0m\u001b[0;34m\u001b[0m\u001b[0m\n\u001b[0m\u001b[1;32m     61\u001b[0m     \u001b[0;34m'gasPrice'\u001b[0m\u001b[0;34m:\u001b[0m \u001b[0;32mlambda\u001b[0m \u001b[0mweb3\u001b[0m\u001b[0;34m,\u001b[0m \u001b[0mtx\u001b[0m\u001b[0;34m:\u001b[0m \u001b[0mweb3\u001b[0m\u001b[0;34m.\u001b[0m\u001b[0meth\u001b[0m\u001b[0;34m.\u001b[0m\u001b[0mgenerate_gas_price\u001b[0m\u001b[0;34m(\u001b[0m\u001b[0mtx\u001b[0m\u001b[0;34m)\u001b[0m \u001b[0;32mor\u001b[0m \u001b[0mweb3\u001b[0m\u001b[0;34m.\u001b[0m\u001b[0meth\u001b[0m\u001b[0;34m.\u001b[0m\u001b[0mgas_price\u001b[0m\u001b[0;34m,\u001b[0m\u001b[0;34m\u001b[0m\u001b[0;34m\u001b[0m\u001b[0m\n\u001b[1;32m     62\u001b[0m     'maxFeePerGas': (\n",
      "\u001b[0;32m~/anaconda3/lib/python3.9/site-packages/web3/eth.py\u001b[0m in \u001b[0;36mestimate_gas\u001b[0;34m(self, transaction, block_identifier)\u001b[0m\n\u001b[1;32m    866\u001b[0m         \u001b[0mblock_identifier\u001b[0m\u001b[0;34m:\u001b[0m \u001b[0mOptional\u001b[0m\u001b[0;34m[\u001b[0m\u001b[0mBlockIdentifier\u001b[0m\u001b[0;34m]\u001b[0m \u001b[0;34m=\u001b[0m \u001b[0;32mNone\u001b[0m\u001b[0;34m\u001b[0m\u001b[0;34m\u001b[0m\u001b[0m\n\u001b[1;32m    867\u001b[0m     ) -> Wei:\n\u001b[0;32m--> 868\u001b[0;31m         \u001b[0;32mreturn\u001b[0m \u001b[0mself\u001b[0m\u001b[0;34m.\u001b[0m\u001b[0m_estimate_gas\u001b[0m\u001b[0;34m(\u001b[0m\u001b[0mtransaction\u001b[0m\u001b[0;34m,\u001b[0m \u001b[0mblock_identifier\u001b[0m\u001b[0;34m)\u001b[0m\u001b[0;34m\u001b[0m\u001b[0;34m\u001b[0m\u001b[0m\n\u001b[0m\u001b[1;32m    869\u001b[0m \u001b[0;34m\u001b[0m\u001b[0m\n\u001b[1;32m    870\u001b[0m     def fee_history(\n",
      "\u001b[0;32m~/anaconda3/lib/python3.9/site-packages/web3/module.py\u001b[0m in \u001b[0;36mcaller\u001b[0;34m(*args, **kwargs)\u001b[0m\n\u001b[1;32m     55\u001b[0m             \u001b[0;32mreturn\u001b[0m \u001b[0mLogFilter\u001b[0m\u001b[0;34m(\u001b[0m\u001b[0meth_module\u001b[0m\u001b[0;34m=\u001b[0m\u001b[0mmodule\u001b[0m\u001b[0;34m,\u001b[0m \u001b[0mfilter_id\u001b[0m\u001b[0;34m=\u001b[0m\u001b[0merr\u001b[0m\u001b[0;34m.\u001b[0m\u001b[0mfilter_id\u001b[0m\u001b[0;34m)\u001b[0m\u001b[0;34m\u001b[0m\u001b[0;34m\u001b[0m\u001b[0m\n\u001b[1;32m     56\u001b[0m         \u001b[0mresult_formatters\u001b[0m\u001b[0;34m,\u001b[0m \u001b[0merror_formatters\u001b[0m\u001b[0;34m,\u001b[0m \u001b[0mnull_result_formatters\u001b[0m \u001b[0;34m=\u001b[0m \u001b[0mresponse_formatters\u001b[0m\u001b[0;34m\u001b[0m\u001b[0;34m\u001b[0m\u001b[0m\n\u001b[0;32m---> 57\u001b[0;31m         result = w3.manager.request_blocking(method_str,\n\u001b[0m\u001b[1;32m     58\u001b[0m                                              \u001b[0mparams\u001b[0m\u001b[0;34m,\u001b[0m\u001b[0;34m\u001b[0m\u001b[0;34m\u001b[0m\u001b[0m\n\u001b[1;32m     59\u001b[0m                                              \u001b[0merror_formatters\u001b[0m\u001b[0;34m,\u001b[0m\u001b[0;34m\u001b[0m\u001b[0;34m\u001b[0m\u001b[0m\n",
      "\u001b[0;32m~/anaconda3/lib/python3.9/site-packages/web3/manager.py\u001b[0m in \u001b[0;36mrequest_blocking\u001b[0;34m(self, method, params, error_formatters, null_result_formatters)\u001b[0m\n\u001b[1;32m    196\u001b[0m         \"\"\"\n\u001b[1;32m    197\u001b[0m         \u001b[0mresponse\u001b[0m \u001b[0;34m=\u001b[0m \u001b[0mself\u001b[0m\u001b[0;34m.\u001b[0m\u001b[0m_make_request\u001b[0m\u001b[0;34m(\u001b[0m\u001b[0mmethod\u001b[0m\u001b[0;34m,\u001b[0m \u001b[0mparams\u001b[0m\u001b[0;34m)\u001b[0m\u001b[0;34m\u001b[0m\u001b[0;34m\u001b[0m\u001b[0m\n\u001b[0;32m--> 198\u001b[0;31m         return self.formatted_response(response,\n\u001b[0m\u001b[1;32m    199\u001b[0m                                        \u001b[0mparams\u001b[0m\u001b[0;34m,\u001b[0m\u001b[0;34m\u001b[0m\u001b[0;34m\u001b[0m\u001b[0m\n\u001b[1;32m    200\u001b[0m                                        \u001b[0merror_formatters\u001b[0m\u001b[0;34m,\u001b[0m\u001b[0;34m\u001b[0m\u001b[0;34m\u001b[0m\u001b[0m\n",
      "\u001b[0;32m~/anaconda3/lib/python3.9/site-packages/web3/manager.py\u001b[0m in \u001b[0;36mformatted_response\u001b[0;34m(response, params, error_formatters, null_result_formatters)\u001b[0m\n\u001b[1;32m    169\u001b[0m         \u001b[0;32mif\u001b[0m \u001b[0;34m\"error\"\u001b[0m \u001b[0;32min\u001b[0m \u001b[0mresponse\u001b[0m\u001b[0;34m:\u001b[0m\u001b[0;34m\u001b[0m\u001b[0;34m\u001b[0m\u001b[0m\n\u001b[1;32m    170\u001b[0m             \u001b[0mapply_error_formatters\u001b[0m\u001b[0;34m(\u001b[0m\u001b[0merror_formatters\u001b[0m\u001b[0;34m,\u001b[0m \u001b[0mresponse\u001b[0m\u001b[0;34m)\u001b[0m\u001b[0;34m\u001b[0m\u001b[0;34m\u001b[0m\u001b[0m\n\u001b[0;32m--> 171\u001b[0;31m             \u001b[0;32mraise\u001b[0m \u001b[0mValueError\u001b[0m\u001b[0;34m(\u001b[0m\u001b[0mresponse\u001b[0m\u001b[0;34m[\u001b[0m\u001b[0;34m\"error\"\u001b[0m\u001b[0;34m]\u001b[0m\u001b[0;34m)\u001b[0m\u001b[0;34m\u001b[0m\u001b[0;34m\u001b[0m\u001b[0m\n\u001b[0m\u001b[1;32m    172\u001b[0m         \u001b[0;31m# NULL_RESPONSES includes None, so return False here as the default\u001b[0m\u001b[0;34m\u001b[0m\u001b[0;34m\u001b[0m\u001b[0m\n\u001b[1;32m    173\u001b[0m         \u001b[0;31m# so we don't apply the null_result_formatters if there is no 'result' key\u001b[0m\u001b[0;34m\u001b[0m\u001b[0;34m\u001b[0m\u001b[0m\n",
      "\u001b[0;31mValueError\u001b[0m: {'code': -32000, 'message': 'invalid opcode: SHR'}"
     ]
    }
   ],
   "source": [
    "store_contact = contact_list.functions.addContact(\n",
    "    \"name\", \"+2348112398610\"\n",
    ").buildTransaction({\"chainId\": chain_id, \"from\": ether_address, \"gasPrice\": w3.eth.gas_price, \"nonce\": nonce + 1})"
   ]
  },
  {
   "cell_type": "code",
   "execution_count": null,
   "id": "dbeb06e7",
   "metadata": {},
   "outputs": [],
   "source": [
    "# Sign the transaction\n",
    "sign_store_contact = w3.eth.account.sign_transaction(\n",
    "    store_contact, private_key=private_key\n",
    ")\n",
    "# Send the transaction\n",
    "send_store_contact = w3.eth.send_raw_transaction(sign_store_contact.rawTransaction)\n",
    "transaction_receipt = w3.eth.wait_for_transaction_receipt(send_store_contact)\n",
    "\n",
    "print(contact_list.functions.retrieve().call())"
   ]
  },
  {
   "cell_type": "code",
   "execution_count": null,
   "id": "0b526ed3",
   "metadata": {},
   "outputs": [],
   "source": []
  },
  {
   "cell_type": "markdown",
   "id": "0b5fbd9c",
   "metadata": {},
   "source": [
    "## Create My Own Smart Contract : Hello World함수!!\n",
    "####https://solidity-by-example.org/"
   ]
  },
  {
   "cell_type": "code",
   "execution_count": 73,
   "id": "67f65954",
   "metadata": {},
   "outputs": [],
   "source": [
    "# install_solc('0.8.13')"
   ]
  },
  {
   "cell_type": "code",
   "execution_count": 104,
   "id": "8164bfd3",
   "metadata": {},
   "outputs": [],
   "source": [
    "contact_list_file2  = '''\n",
    "pragma solidity ^0.8.13;\n",
    "\n",
    "contract HelloWorld {\n",
    "    string public greet = \"Hello World!\";\n",
    "}\n",
    "'''"
   ]
  },
  {
   "cell_type": "code",
   "execution_count": 105,
   "id": "25075298",
   "metadata": {},
   "outputs": [
    {
     "data": {
      "text/plain": [
       "'\\npragma solidity ^0.8.13;\\n\\ncontract HelloWorld {\\n    string public greet = \"Hello World!\";\\n}\\n'"
      ]
     },
     "execution_count": 105,
     "metadata": {},
     "output_type": "execute_result"
    }
   ],
   "source": [
    "contact_list_file2"
   ]
  },
  {
   "cell_type": "code",
   "execution_count": 106,
   "id": "bd65b319",
   "metadata": {
    "scrolled": true
   },
   "outputs": [
    {
     "name": "stdout",
     "output_type": "stream",
     "text": [
      "{'contracts': {'Hello.sol': {'HelloWorld': {'abi': [{'inputs': [], 'name': 'greet', 'outputs': [{'internalType': 'string', 'name': '', 'type': 'string'}], 'stateMutability': 'view', 'type': 'function'}], 'evm': {'bytecode': {'functionDebugData': {'extract_byte_array_length': {'entryPoint': 308, 'id': None, 'parameterSlots': 1, 'returnSlots': 1}, 'panic_error_0x22': {'entryPoint': 261, 'id': None, 'parameterSlots': 0, 'returnSlots': 0}}, 'generatedSources': [{'ast': {'nodeType': 'YulBlock', 'src': '0:516:1', 'statements': [{'body': {'nodeType': 'YulBlock', 'src': '35:152:1', 'statements': [{'expression': {'arguments': [{'kind': 'number', 'nodeType': 'YulLiteral', 'src': '52:1:1', 'type': '', 'value': '0'}, {'kind': 'number', 'nodeType': 'YulLiteral', 'src': '55:77:1', 'type': '', 'value': '35408467139433450592217433187231851964531694900788300625387963629091585785856'}], 'functionName': {'name': 'mstore', 'nodeType': 'YulIdentifier', 'src': '45:6:1'}, 'nodeType': 'YulFunctionCall', 'src': '45:88:1'}, 'nodeType': 'YulExpressionStatement', 'src': '45:88:1'}, {'expression': {'arguments': [{'kind': 'number', 'nodeType': 'YulLiteral', 'src': '149:1:1', 'type': '', 'value': '4'}, {'kind': 'number', 'nodeType': 'YulLiteral', 'src': '152:4:1', 'type': '', 'value': '0x22'}], 'functionName': {'name': 'mstore', 'nodeType': 'YulIdentifier', 'src': '142:6:1'}, 'nodeType': 'YulFunctionCall', 'src': '142:15:1'}, 'nodeType': 'YulExpressionStatement', 'src': '142:15:1'}, {'expression': {'arguments': [{'kind': 'number', 'nodeType': 'YulLiteral', 'src': '173:1:1', 'type': '', 'value': '0'}, {'kind': 'number', 'nodeType': 'YulLiteral', 'src': '176:4:1', 'type': '', 'value': '0x24'}], 'functionName': {'name': 'revert', 'nodeType': 'YulIdentifier', 'src': '166:6:1'}, 'nodeType': 'YulFunctionCall', 'src': '166:15:1'}, 'nodeType': 'YulExpressionStatement', 'src': '166:15:1'}]}, 'name': 'panic_error_0x22', 'nodeType': 'YulFunctionDefinition', 'src': '7:180:1'}, {'body': {'nodeType': 'YulBlock', 'src': '244:269:1', 'statements': [{'nodeType': 'YulAssignment', 'src': '254:22:1', 'value': {'arguments': [{'name': 'data', 'nodeType': 'YulIdentifier', 'src': '268:4:1'}, {'kind': 'number', 'nodeType': 'YulLiteral', 'src': '274:1:1', 'type': '', 'value': '2'}], 'functionName': {'name': 'div', 'nodeType': 'YulIdentifier', 'src': '264:3:1'}, 'nodeType': 'YulFunctionCall', 'src': '264:12:1'}, 'variableNames': [{'name': 'length', 'nodeType': 'YulIdentifier', 'src': '254:6:1'}]}, {'nodeType': 'YulVariableDeclaration', 'src': '285:38:1', 'value': {'arguments': [{'name': 'data', 'nodeType': 'YulIdentifier', 'src': '315:4:1'}, {'kind': 'number', 'nodeType': 'YulLiteral', 'src': '321:1:1', 'type': '', 'value': '1'}], 'functionName': {'name': 'and', 'nodeType': 'YulIdentifier', 'src': '311:3:1'}, 'nodeType': 'YulFunctionCall', 'src': '311:12:1'}, 'variables': [{'name': 'outOfPlaceEncoding', 'nodeType': 'YulTypedName', 'src': '289:18:1', 'type': ''}]}, {'body': {'nodeType': 'YulBlock', 'src': '362:51:1', 'statements': [{'nodeType': 'YulAssignment', 'src': '376:27:1', 'value': {'arguments': [{'name': 'length', 'nodeType': 'YulIdentifier', 'src': '390:6:1'}, {'kind': 'number', 'nodeType': 'YulLiteral', 'src': '398:4:1', 'type': '', 'value': '0x7f'}], 'functionName': {'name': 'and', 'nodeType': 'YulIdentifier', 'src': '386:3:1'}, 'nodeType': 'YulFunctionCall', 'src': '386:17:1'}, 'variableNames': [{'name': 'length', 'nodeType': 'YulIdentifier', 'src': '376:6:1'}]}]}, 'condition': {'arguments': [{'name': 'outOfPlaceEncoding', 'nodeType': 'YulIdentifier', 'src': '342:18:1'}], 'functionName': {'name': 'iszero', 'nodeType': 'YulIdentifier', 'src': '335:6:1'}, 'nodeType': 'YulFunctionCall', 'src': '335:26:1'}, 'nodeType': 'YulIf', 'src': '332:81:1'}, {'body': {'nodeType': 'YulBlock', 'src': '465:42:1', 'statements': [{'expression': {'arguments': [], 'functionName': {'name': 'panic_error_0x22', 'nodeType': 'YulIdentifier', 'src': '479:16:1'}, 'nodeType': 'YulFunctionCall', 'src': '479:18:1'}, 'nodeType': 'YulExpressionStatement', 'src': '479:18:1'}]}, 'condition': {'arguments': [{'name': 'outOfPlaceEncoding', 'nodeType': 'YulIdentifier', 'src': '429:18:1'}, {'arguments': [{'name': 'length', 'nodeType': 'YulIdentifier', 'src': '452:6:1'}, {'kind': 'number', 'nodeType': 'YulLiteral', 'src': '460:2:1', 'type': '', 'value': '32'}], 'functionName': {'name': 'lt', 'nodeType': 'YulIdentifier', 'src': '449:2:1'}, 'nodeType': 'YulFunctionCall', 'src': '449:14:1'}], 'functionName': {'name': 'eq', 'nodeType': 'YulIdentifier', 'src': '426:2:1'}, 'nodeType': 'YulFunctionCall', 'src': '426:38:1'}, 'nodeType': 'YulIf', 'src': '423:84:1'}]}, 'name': 'extract_byte_array_length', 'nodeType': 'YulFunctionDefinition', 'parameters': [{'name': 'data', 'nodeType': 'YulTypedName', 'src': '228:4:1', 'type': ''}], 'returnVariables': [{'name': 'length', 'nodeType': 'YulTypedName', 'src': '237:6:1', 'type': ''}], 'src': '193:320:1'}]}, 'contents': '{\\n\\n    function panic_error_0x22() {\\n        mstore(0, 35408467139433450592217433187231851964531694900788300625387963629091585785856)\\n        mstore(4, 0x22)\\n        revert(0, 0x24)\\n    }\\n\\n    function extract_byte_array_length(data) -> length {\\n        length := div(data, 2)\\n        let outOfPlaceEncoding := and(data, 1)\\n        if iszero(outOfPlaceEncoding) {\\n            length := and(length, 0x7f)\\n        }\\n\\n        if eq(outOfPlaceEncoding, lt(length, 32)) {\\n            panic_error_0x22()\\n        }\\n    }\\n\\n}\\n', 'id': 1, 'language': 'Yul', 'name': '#utility.yul'}], 'linkReferences': {}, 'object': '60806040526040518060400160405280600c81526020017f48656c6c6f20576f726c642100000000000000000000000000000000000000008152506000908051906020019061004f929190610062565b5034801561005c57600080fd5b50610165565b82805461006e90610134565b90600052602060002090601f01602090048101928261009057600085556100d7565b82601f106100a957805160ff19168380011785556100d7565b828001600101855582156100d7579182015b828111156100d65782518255916020019190600101906100bb565b5b5090506100e491906100e8565b5090565b5b808211156101015760008160009055506001016100e9565b5090565b7f4e487b7100000000000000000000000000000000000000000000000000000000600052602260045260246000fd5b6000600282049050600182168061014c57607f821691505b60208210810361015f5761015e610105565b5b50919050565b61022d806101746000396000f3fe608060405234801561001057600080fd5b506004361061002b5760003560e01c8063cfae321714610030575b600080fd5b61003861004e565b6040516100459190610175565b60405180910390f35b6000805461005b906101c6565b80601f0160208091040260200160405190810160405280929190818152602001828054610087906101c6565b80156100d45780601f106100a9576101008083540402835291602001916100d4565b820191906000526020600020905b8154815290600101906020018083116100b757829003601f168201915b505050505081565b600081519050919050565b600082825260208201905092915050565b60005b838110156101165780820151818401526020810190506100fb565b83811115610125576000848401525b50505050565b6000601f19601f8301169050919050565b6000610147826100dc565b61015181856100e7565b93506101618185602086016100f8565b61016a8161012b565b840191505092915050565b6000602082019050818103600083015261018f818461013c565b905092915050565b7f4e487b7100000000000000000000000000000000000000000000000000000000600052602260045260246000fd5b600060028204905060018216806101de57607f821691505b6020821081036101f1576101f0610197565b5b5091905056fea2646970667358221220b25a949ba8cdcd4dce5ff2cf8574fd60f742022c5b670d9a896109b4728bca2964736f6c634300080d0033', 'opcodes': 'PUSH1 0x80 PUSH1 0x40 MSTORE PUSH1 0x40 MLOAD DUP1 PUSH1 0x40 ADD PUSH1 0x40 MSTORE DUP1 PUSH1 0xC DUP2 MSTORE PUSH1 0x20 ADD PUSH32 0x48656C6C6F20576F726C64210000000000000000000000000000000000000000 DUP2 MSTORE POP PUSH1 0x0 SWAP1 DUP1 MLOAD SWAP1 PUSH1 0x20 ADD SWAP1 PUSH2 0x4F SWAP3 SWAP2 SWAP1 PUSH2 0x62 JUMP JUMPDEST POP CALLVALUE DUP1 ISZERO PUSH2 0x5C JUMPI PUSH1 0x0 DUP1 REVERT JUMPDEST POP PUSH2 0x165 JUMP JUMPDEST DUP3 DUP1 SLOAD PUSH2 0x6E SWAP1 PUSH2 0x134 JUMP JUMPDEST SWAP1 PUSH1 0x0 MSTORE PUSH1 0x20 PUSH1 0x0 KECCAK256 SWAP1 PUSH1 0x1F ADD PUSH1 0x20 SWAP1 DIV DUP2 ADD SWAP3 DUP3 PUSH2 0x90 JUMPI PUSH1 0x0 DUP6 SSTORE PUSH2 0xD7 JUMP JUMPDEST DUP3 PUSH1 0x1F LT PUSH2 0xA9 JUMPI DUP1 MLOAD PUSH1 0xFF NOT AND DUP4 DUP1 ADD OR DUP6 SSTORE PUSH2 0xD7 JUMP JUMPDEST DUP3 DUP1 ADD PUSH1 0x1 ADD DUP6 SSTORE DUP3 ISZERO PUSH2 0xD7 JUMPI SWAP2 DUP3 ADD JUMPDEST DUP3 DUP2 GT ISZERO PUSH2 0xD6 JUMPI DUP3 MLOAD DUP3 SSTORE SWAP2 PUSH1 0x20 ADD SWAP2 SWAP1 PUSH1 0x1 ADD SWAP1 PUSH2 0xBB JUMP JUMPDEST JUMPDEST POP SWAP1 POP PUSH2 0xE4 SWAP2 SWAP1 PUSH2 0xE8 JUMP JUMPDEST POP SWAP1 JUMP JUMPDEST JUMPDEST DUP1 DUP3 GT ISZERO PUSH2 0x101 JUMPI PUSH1 0x0 DUP2 PUSH1 0x0 SWAP1 SSTORE POP PUSH1 0x1 ADD PUSH2 0xE9 JUMP JUMPDEST POP SWAP1 JUMP JUMPDEST PUSH32 0x4E487B7100000000000000000000000000000000000000000000000000000000 PUSH1 0x0 MSTORE PUSH1 0x22 PUSH1 0x4 MSTORE PUSH1 0x24 PUSH1 0x0 REVERT JUMPDEST PUSH1 0x0 PUSH1 0x2 DUP3 DIV SWAP1 POP PUSH1 0x1 DUP3 AND DUP1 PUSH2 0x14C JUMPI PUSH1 0x7F DUP3 AND SWAP2 POP JUMPDEST PUSH1 0x20 DUP3 LT DUP2 SUB PUSH2 0x15F JUMPI PUSH2 0x15E PUSH2 0x105 JUMP JUMPDEST JUMPDEST POP SWAP2 SWAP1 POP JUMP JUMPDEST PUSH2 0x22D DUP1 PUSH2 0x174 PUSH1 0x0 CODECOPY PUSH1 0x0 RETURN INVALID PUSH1 0x80 PUSH1 0x40 MSTORE CALLVALUE DUP1 ISZERO PUSH2 0x10 JUMPI PUSH1 0x0 DUP1 REVERT JUMPDEST POP PUSH1 0x4 CALLDATASIZE LT PUSH2 0x2B JUMPI PUSH1 0x0 CALLDATALOAD PUSH1 0xE0 SHR DUP1 PUSH4 0xCFAE3217 EQ PUSH2 0x30 JUMPI JUMPDEST PUSH1 0x0 DUP1 REVERT JUMPDEST PUSH2 0x38 PUSH2 0x4E JUMP JUMPDEST PUSH1 0x40 MLOAD PUSH2 0x45 SWAP2 SWAP1 PUSH2 0x175 JUMP JUMPDEST PUSH1 0x40 MLOAD DUP1 SWAP2 SUB SWAP1 RETURN JUMPDEST PUSH1 0x0 DUP1 SLOAD PUSH2 0x5B SWAP1 PUSH2 0x1C6 JUMP JUMPDEST DUP1 PUSH1 0x1F ADD PUSH1 0x20 DUP1 SWAP2 DIV MUL PUSH1 0x20 ADD PUSH1 0x40 MLOAD SWAP1 DUP2 ADD PUSH1 0x40 MSTORE DUP1 SWAP3 SWAP2 SWAP1 DUP2 DUP2 MSTORE PUSH1 0x20 ADD DUP3 DUP1 SLOAD PUSH2 0x87 SWAP1 PUSH2 0x1C6 JUMP JUMPDEST DUP1 ISZERO PUSH2 0xD4 JUMPI DUP1 PUSH1 0x1F LT PUSH2 0xA9 JUMPI PUSH2 0x100 DUP1 DUP4 SLOAD DIV MUL DUP4 MSTORE SWAP2 PUSH1 0x20 ADD SWAP2 PUSH2 0xD4 JUMP JUMPDEST DUP3 ADD SWAP2 SWAP1 PUSH1 0x0 MSTORE PUSH1 0x20 PUSH1 0x0 KECCAK256 SWAP1 JUMPDEST DUP2 SLOAD DUP2 MSTORE SWAP1 PUSH1 0x1 ADD SWAP1 PUSH1 0x20 ADD DUP1 DUP4 GT PUSH2 0xB7 JUMPI DUP3 SWAP1 SUB PUSH1 0x1F AND DUP3 ADD SWAP2 JUMPDEST POP POP POP POP POP DUP2 JUMP JUMPDEST PUSH1 0x0 DUP2 MLOAD SWAP1 POP SWAP2 SWAP1 POP JUMP JUMPDEST PUSH1 0x0 DUP3 DUP3 MSTORE PUSH1 0x20 DUP3 ADD SWAP1 POP SWAP3 SWAP2 POP POP JUMP JUMPDEST PUSH1 0x0 JUMPDEST DUP4 DUP2 LT ISZERO PUSH2 0x116 JUMPI DUP1 DUP3 ADD MLOAD DUP2 DUP5 ADD MSTORE PUSH1 0x20 DUP2 ADD SWAP1 POP PUSH2 0xFB JUMP JUMPDEST DUP4 DUP2 GT ISZERO PUSH2 0x125 JUMPI PUSH1 0x0 DUP5 DUP5 ADD MSTORE JUMPDEST POP POP POP POP JUMP JUMPDEST PUSH1 0x0 PUSH1 0x1F NOT PUSH1 0x1F DUP4 ADD AND SWAP1 POP SWAP2 SWAP1 POP JUMP JUMPDEST PUSH1 0x0 PUSH2 0x147 DUP3 PUSH2 0xDC JUMP JUMPDEST PUSH2 0x151 DUP2 DUP6 PUSH2 0xE7 JUMP JUMPDEST SWAP4 POP PUSH2 0x161 DUP2 DUP6 PUSH1 0x20 DUP7 ADD PUSH2 0xF8 JUMP JUMPDEST PUSH2 0x16A DUP2 PUSH2 0x12B JUMP JUMPDEST DUP5 ADD SWAP2 POP POP SWAP3 SWAP2 POP POP JUMP JUMPDEST PUSH1 0x0 PUSH1 0x20 DUP3 ADD SWAP1 POP DUP2 DUP2 SUB PUSH1 0x0 DUP4 ADD MSTORE PUSH2 0x18F DUP2 DUP5 PUSH2 0x13C JUMP JUMPDEST SWAP1 POP SWAP3 SWAP2 POP POP JUMP JUMPDEST PUSH32 0x4E487B7100000000000000000000000000000000000000000000000000000000 PUSH1 0x0 MSTORE PUSH1 0x22 PUSH1 0x4 MSTORE PUSH1 0x24 PUSH1 0x0 REVERT JUMPDEST PUSH1 0x0 PUSH1 0x2 DUP3 DIV SWAP1 POP PUSH1 0x1 DUP3 AND DUP1 PUSH2 0x1DE JUMPI PUSH1 0x7F DUP3 AND SWAP2 POP JUMPDEST PUSH1 0x20 DUP3 LT DUP2 SUB PUSH2 0x1F1 JUMPI PUSH2 0x1F0 PUSH2 0x197 JUMP JUMPDEST JUMPDEST POP SWAP2 SWAP1 POP JUMP INVALID LOG2 PUSH5 0x6970667358 0x22 SLT KECCAK256 0xB2 GAS SWAP5 SWAP12 0xA8 0xCD 0xCD 0x4D 0xCE 0x5F CALLCODE 0xCF DUP6 PUSH21 0xFD60F742022C5B670D9A896109B4728BCA2964736F PUSH13 0x634300080D0033000000000000 ', 'sourceMap': '27:65:0:-:0;;;53:36;;;;;;;;;;;;;;;;;;;;;;;;;;;;;;:::i;:::-;;27:65;;;;;;;;;;;;;;;;;;;:::i;:::-;;;;;;;;;;;;;;;;;;;;;;;;;;;;;;;;;;;;;;;;;;;;;;;;;;;;;;;;;;;;;;;;;;;;;;;;;;;;;;;;;;;;;;;;:::i;:::-;;;:::o;:::-;;;;;;;;;;;;;;;;;;;;;:::o;7:180:1:-;55:77;52:1;45:88;152:4;149:1;142:15;176:4;173:1;166:15;193:320;237:6;274:1;268:4;264:12;254:22;;321:1;315:4;311:12;342:18;332:81;;398:4;390:6;386:17;376:27;;332:81;460:2;452:6;449:14;429:18;426:38;423:84;;479:18;;:::i;:::-;423:84;244:269;193:320;;;:::o;27:65:0:-;;;;;;;'}}, 'metadata': '{\"compiler\":{\"version\":\"0.8.13+commit.abaa5c0e\"},\"language\":\"Solidity\",\"output\":{\"abi\":[{\"inputs\":[],\"name\":\"greet\",\"outputs\":[{\"internalType\":\"string\",\"name\":\"\",\"type\":\"string\"}],\"stateMutability\":\"view\",\"type\":\"function\"}],\"devdoc\":{\"kind\":\"dev\",\"methods\":{},\"version\":1},\"userdoc\":{\"kind\":\"user\",\"methods\":{},\"version\":1}},\"settings\":{\"compilationTarget\":{\"Hello.sol\":\"HelloWorld\"},\"evmVersion\":\"london\",\"libraries\":{},\"metadata\":{\"bytecodeHash\":\"ipfs\"},\"optimizer\":{\"enabled\":false,\"runs\":200},\"remappings\":[]},\"sources\":{\"Hello.sol\":{\"keccak256\":\"0xe722d2446c8a30994e713029a3b78cfbb6bdd6ecdc591cb23521ed2e8237a724\",\"urls\":[\"bzz-raw://13b17482ee2e8205cd2b947a0c7e2a763c817e6b5c87ee21a46f9b0106113bb9\",\"dweb:/ipfs/Qma4nrhaK6LAT6cMHjx2DE9y6TX26gE5GKiDpk1gU3HkAt\"]}},\"version\":1}'}}}, 'errors': [{'component': 'general', 'errorCode': '1878', 'formattedMessage': 'Warning: SPDX license identifier not provided in source file. Before publishing, consider adding a comment containing \"SPDX-License-Identifier: <SPDX-License>\" to each source file. Use \"SPDX-License-Identifier: UNLICENSED\" for non-open-source code. Please see https://spdx.org for more information.\\n--> Hello.sol\\n\\n', 'message': 'SPDX license identifier not provided in source file. Before publishing, consider adding a comment containing \"SPDX-License-Identifier: <SPDX-License>\" to each source file. Use \"SPDX-License-Identifier: UNLICENSED\" for non-open-source code. Please see https://spdx.org for more information.', 'severity': 'warning', 'sourceLocation': {'end': -1, 'file': 'Hello.sol', 'start': -1}, 'type': 'Warning'}], 'sources': {'Hello.sol': {'id': 0}}}\n"
     ]
    }
   ],
   "source": [
    "compiled_sol = compile_standard(\n",
    "    {\n",
    "        \"language\": \"Solidity\",\n",
    "        \"sources\": {\"Hello.sol\": {\"content\": contact_list_file2}},\n",
    "        \"settings\": {\n",
    "            \"outputSelection\": {\n",
    "                \"*\": {\n",
    "                    \"*\": [\"abi\", \"metadata\", \"evm.bytecode\", \"evm.bytecode.sourceMap\"] # output needed to interact with and deploy contract \n",
    "                }\n",
    "            }\n",
    "        },\n",
    "    },\n",
    "    solc_version=\"0.8.13\",\n",
    ")\n",
    "print(compiled_sol)\n",
    "# with open(\"compiled_code.json\", \"w\") as file:\n",
    "#     json.dump(compiled_sol, file)"
   ]
  },
  {
   "cell_type": "code",
   "execution_count": 107,
   "id": "8eee5b79",
   "metadata": {},
   "outputs": [
    {
     "data": {
      "text/plain": [
       "{'contracts': {'Hello.sol': {'HelloWorld': {'abi': [{'inputs': [],\n",
       "      'name': 'greet',\n",
       "      'outputs': [{'internalType': 'string', 'name': '', 'type': 'string'}],\n",
       "      'stateMutability': 'view',\n",
       "      'type': 'function'}],\n",
       "    'evm': {'bytecode': {'functionDebugData': {'extract_byte_array_length': {'entryPoint': 308,\n",
       "        'id': None,\n",
       "        'parameterSlots': 1,\n",
       "        'returnSlots': 1},\n",
       "       'panic_error_0x22': {'entryPoint': 261,\n",
       "        'id': None,\n",
       "        'parameterSlots': 0,\n",
       "        'returnSlots': 0}},\n",
       "      'generatedSources': [{'ast': {'nodeType': 'YulBlock',\n",
       "         'src': '0:516:1',\n",
       "         'statements': [{'body': {'nodeType': 'YulBlock',\n",
       "            'src': '35:152:1',\n",
       "            'statements': [{'expression': {'arguments': [{'kind': 'number',\n",
       "                 'nodeType': 'YulLiteral',\n",
       "                 'src': '52:1:1',\n",
       "                 'type': '',\n",
       "                 'value': '0'},\n",
       "                {'kind': 'number',\n",
       "                 'nodeType': 'YulLiteral',\n",
       "                 'src': '55:77:1',\n",
       "                 'type': '',\n",
       "                 'value': '35408467139433450592217433187231851964531694900788300625387963629091585785856'}],\n",
       "               'functionName': {'name': 'mstore',\n",
       "                'nodeType': 'YulIdentifier',\n",
       "                'src': '45:6:1'},\n",
       "               'nodeType': 'YulFunctionCall',\n",
       "               'src': '45:88:1'},\n",
       "              'nodeType': 'YulExpressionStatement',\n",
       "              'src': '45:88:1'},\n",
       "             {'expression': {'arguments': [{'kind': 'number',\n",
       "                 'nodeType': 'YulLiteral',\n",
       "                 'src': '149:1:1',\n",
       "                 'type': '',\n",
       "                 'value': '4'},\n",
       "                {'kind': 'number',\n",
       "                 'nodeType': 'YulLiteral',\n",
       "                 'src': '152:4:1',\n",
       "                 'type': '',\n",
       "                 'value': '0x22'}],\n",
       "               'functionName': {'name': 'mstore',\n",
       "                'nodeType': 'YulIdentifier',\n",
       "                'src': '142:6:1'},\n",
       "               'nodeType': 'YulFunctionCall',\n",
       "               'src': '142:15:1'},\n",
       "              'nodeType': 'YulExpressionStatement',\n",
       "              'src': '142:15:1'},\n",
       "             {'expression': {'arguments': [{'kind': 'number',\n",
       "                 'nodeType': 'YulLiteral',\n",
       "                 'src': '173:1:1',\n",
       "                 'type': '',\n",
       "                 'value': '0'},\n",
       "                {'kind': 'number',\n",
       "                 'nodeType': 'YulLiteral',\n",
       "                 'src': '176:4:1',\n",
       "                 'type': '',\n",
       "                 'value': '0x24'}],\n",
       "               'functionName': {'name': 'revert',\n",
       "                'nodeType': 'YulIdentifier',\n",
       "                'src': '166:6:1'},\n",
       "               'nodeType': 'YulFunctionCall',\n",
       "               'src': '166:15:1'},\n",
       "              'nodeType': 'YulExpressionStatement',\n",
       "              'src': '166:15:1'}]},\n",
       "           'name': 'panic_error_0x22',\n",
       "           'nodeType': 'YulFunctionDefinition',\n",
       "           'src': '7:180:1'},\n",
       "          {'body': {'nodeType': 'YulBlock',\n",
       "            'src': '244:269:1',\n",
       "            'statements': [{'nodeType': 'YulAssignment',\n",
       "              'src': '254:22:1',\n",
       "              'value': {'arguments': [{'name': 'data',\n",
       "                 'nodeType': 'YulIdentifier',\n",
       "                 'src': '268:4:1'},\n",
       "                {'kind': 'number',\n",
       "                 'nodeType': 'YulLiteral',\n",
       "                 'src': '274:1:1',\n",
       "                 'type': '',\n",
       "                 'value': '2'}],\n",
       "               'functionName': {'name': 'div',\n",
       "                'nodeType': 'YulIdentifier',\n",
       "                'src': '264:3:1'},\n",
       "               'nodeType': 'YulFunctionCall',\n",
       "               'src': '264:12:1'},\n",
       "              'variableNames': [{'name': 'length',\n",
       "                'nodeType': 'YulIdentifier',\n",
       "                'src': '254:6:1'}]},\n",
       "             {'nodeType': 'YulVariableDeclaration',\n",
       "              'src': '285:38:1',\n",
       "              'value': {'arguments': [{'name': 'data',\n",
       "                 'nodeType': 'YulIdentifier',\n",
       "                 'src': '315:4:1'},\n",
       "                {'kind': 'number',\n",
       "                 'nodeType': 'YulLiteral',\n",
       "                 'src': '321:1:1',\n",
       "                 'type': '',\n",
       "                 'value': '1'}],\n",
       "               'functionName': {'name': 'and',\n",
       "                'nodeType': 'YulIdentifier',\n",
       "                'src': '311:3:1'},\n",
       "               'nodeType': 'YulFunctionCall',\n",
       "               'src': '311:12:1'},\n",
       "              'variables': [{'name': 'outOfPlaceEncoding',\n",
       "                'nodeType': 'YulTypedName',\n",
       "                'src': '289:18:1',\n",
       "                'type': ''}]},\n",
       "             {'body': {'nodeType': 'YulBlock',\n",
       "               'src': '362:51:1',\n",
       "               'statements': [{'nodeType': 'YulAssignment',\n",
       "                 'src': '376:27:1',\n",
       "                 'value': {'arguments': [{'name': 'length',\n",
       "                    'nodeType': 'YulIdentifier',\n",
       "                    'src': '390:6:1'},\n",
       "                   {'kind': 'number',\n",
       "                    'nodeType': 'YulLiteral',\n",
       "                    'src': '398:4:1',\n",
       "                    'type': '',\n",
       "                    'value': '0x7f'}],\n",
       "                  'functionName': {'name': 'and',\n",
       "                   'nodeType': 'YulIdentifier',\n",
       "                   'src': '386:3:1'},\n",
       "                  'nodeType': 'YulFunctionCall',\n",
       "                  'src': '386:17:1'},\n",
       "                 'variableNames': [{'name': 'length',\n",
       "                   'nodeType': 'YulIdentifier',\n",
       "                   'src': '376:6:1'}]}]},\n",
       "              'condition': {'arguments': [{'name': 'outOfPlaceEncoding',\n",
       "                 'nodeType': 'YulIdentifier',\n",
       "                 'src': '342:18:1'}],\n",
       "               'functionName': {'name': 'iszero',\n",
       "                'nodeType': 'YulIdentifier',\n",
       "                'src': '335:6:1'},\n",
       "               'nodeType': 'YulFunctionCall',\n",
       "               'src': '335:26:1'},\n",
       "              'nodeType': 'YulIf',\n",
       "              'src': '332:81:1'},\n",
       "             {'body': {'nodeType': 'YulBlock',\n",
       "               'src': '465:42:1',\n",
       "               'statements': [{'expression': {'arguments': [],\n",
       "                  'functionName': {'name': 'panic_error_0x22',\n",
       "                   'nodeType': 'YulIdentifier',\n",
       "                   'src': '479:16:1'},\n",
       "                  'nodeType': 'YulFunctionCall',\n",
       "                  'src': '479:18:1'},\n",
       "                 'nodeType': 'YulExpressionStatement',\n",
       "                 'src': '479:18:1'}]},\n",
       "              'condition': {'arguments': [{'name': 'outOfPlaceEncoding',\n",
       "                 'nodeType': 'YulIdentifier',\n",
       "                 'src': '429:18:1'},\n",
       "                {'arguments': [{'name': 'length',\n",
       "                   'nodeType': 'YulIdentifier',\n",
       "                   'src': '452:6:1'},\n",
       "                  {'kind': 'number',\n",
       "                   'nodeType': 'YulLiteral',\n",
       "                   'src': '460:2:1',\n",
       "                   'type': '',\n",
       "                   'value': '32'}],\n",
       "                 'functionName': {'name': 'lt',\n",
       "                  'nodeType': 'YulIdentifier',\n",
       "                  'src': '449:2:1'},\n",
       "                 'nodeType': 'YulFunctionCall',\n",
       "                 'src': '449:14:1'}],\n",
       "               'functionName': {'name': 'eq',\n",
       "                'nodeType': 'YulIdentifier',\n",
       "                'src': '426:2:1'},\n",
       "               'nodeType': 'YulFunctionCall',\n",
       "               'src': '426:38:1'},\n",
       "              'nodeType': 'YulIf',\n",
       "              'src': '423:84:1'}]},\n",
       "           'name': 'extract_byte_array_length',\n",
       "           'nodeType': 'YulFunctionDefinition',\n",
       "           'parameters': [{'name': 'data',\n",
       "             'nodeType': 'YulTypedName',\n",
       "             'src': '228:4:1',\n",
       "             'type': ''}],\n",
       "           'returnVariables': [{'name': 'length',\n",
       "             'nodeType': 'YulTypedName',\n",
       "             'src': '237:6:1',\n",
       "             'type': ''}],\n",
       "           'src': '193:320:1'}]},\n",
       "        'contents': '{\\n\\n    function panic_error_0x22() {\\n        mstore(0, 35408467139433450592217433187231851964531694900788300625387963629091585785856)\\n        mstore(4, 0x22)\\n        revert(0, 0x24)\\n    }\\n\\n    function extract_byte_array_length(data) -> length {\\n        length := div(data, 2)\\n        let outOfPlaceEncoding := and(data, 1)\\n        if iszero(outOfPlaceEncoding) {\\n            length := and(length, 0x7f)\\n        }\\n\\n        if eq(outOfPlaceEncoding, lt(length, 32)) {\\n            panic_error_0x22()\\n        }\\n    }\\n\\n}\\n',\n",
       "        'id': 1,\n",
       "        'language': 'Yul',\n",
       "        'name': '#utility.yul'}],\n",
       "      'linkReferences': {},\n",
       "      'object': '60806040526040518060400160405280600c81526020017f48656c6c6f20576f726c642100000000000000000000000000000000000000008152506000908051906020019061004f929190610062565b5034801561005c57600080fd5b50610165565b82805461006e90610134565b90600052602060002090601f01602090048101928261009057600085556100d7565b82601f106100a957805160ff19168380011785556100d7565b828001600101855582156100d7579182015b828111156100d65782518255916020019190600101906100bb565b5b5090506100e491906100e8565b5090565b5b808211156101015760008160009055506001016100e9565b5090565b7f4e487b7100000000000000000000000000000000000000000000000000000000600052602260045260246000fd5b6000600282049050600182168061014c57607f821691505b60208210810361015f5761015e610105565b5b50919050565b61022d806101746000396000f3fe608060405234801561001057600080fd5b506004361061002b5760003560e01c8063cfae321714610030575b600080fd5b61003861004e565b6040516100459190610175565b60405180910390f35b6000805461005b906101c6565b80601f0160208091040260200160405190810160405280929190818152602001828054610087906101c6565b80156100d45780601f106100a9576101008083540402835291602001916100d4565b820191906000526020600020905b8154815290600101906020018083116100b757829003601f168201915b505050505081565b600081519050919050565b600082825260208201905092915050565b60005b838110156101165780820151818401526020810190506100fb565b83811115610125576000848401525b50505050565b6000601f19601f8301169050919050565b6000610147826100dc565b61015181856100e7565b93506101618185602086016100f8565b61016a8161012b565b840191505092915050565b6000602082019050818103600083015261018f818461013c565b905092915050565b7f4e487b7100000000000000000000000000000000000000000000000000000000600052602260045260246000fd5b600060028204905060018216806101de57607f821691505b6020821081036101f1576101f0610197565b5b5091905056fea2646970667358221220b25a949ba8cdcd4dce5ff2cf8574fd60f742022c5b670d9a896109b4728bca2964736f6c634300080d0033',\n",
       "      'opcodes': 'PUSH1 0x80 PUSH1 0x40 MSTORE PUSH1 0x40 MLOAD DUP1 PUSH1 0x40 ADD PUSH1 0x40 MSTORE DUP1 PUSH1 0xC DUP2 MSTORE PUSH1 0x20 ADD PUSH32 0x48656C6C6F20576F726C64210000000000000000000000000000000000000000 DUP2 MSTORE POP PUSH1 0x0 SWAP1 DUP1 MLOAD SWAP1 PUSH1 0x20 ADD SWAP1 PUSH2 0x4F SWAP3 SWAP2 SWAP1 PUSH2 0x62 JUMP JUMPDEST POP CALLVALUE DUP1 ISZERO PUSH2 0x5C JUMPI PUSH1 0x0 DUP1 REVERT JUMPDEST POP PUSH2 0x165 JUMP JUMPDEST DUP3 DUP1 SLOAD PUSH2 0x6E SWAP1 PUSH2 0x134 JUMP JUMPDEST SWAP1 PUSH1 0x0 MSTORE PUSH1 0x20 PUSH1 0x0 KECCAK256 SWAP1 PUSH1 0x1F ADD PUSH1 0x20 SWAP1 DIV DUP2 ADD SWAP3 DUP3 PUSH2 0x90 JUMPI PUSH1 0x0 DUP6 SSTORE PUSH2 0xD7 JUMP JUMPDEST DUP3 PUSH1 0x1F LT PUSH2 0xA9 JUMPI DUP1 MLOAD PUSH1 0xFF NOT AND DUP4 DUP1 ADD OR DUP6 SSTORE PUSH2 0xD7 JUMP JUMPDEST DUP3 DUP1 ADD PUSH1 0x1 ADD DUP6 SSTORE DUP3 ISZERO PUSH2 0xD7 JUMPI SWAP2 DUP3 ADD JUMPDEST DUP3 DUP2 GT ISZERO PUSH2 0xD6 JUMPI DUP3 MLOAD DUP3 SSTORE SWAP2 PUSH1 0x20 ADD SWAP2 SWAP1 PUSH1 0x1 ADD SWAP1 PUSH2 0xBB JUMP JUMPDEST JUMPDEST POP SWAP1 POP PUSH2 0xE4 SWAP2 SWAP1 PUSH2 0xE8 JUMP JUMPDEST POP SWAP1 JUMP JUMPDEST JUMPDEST DUP1 DUP3 GT ISZERO PUSH2 0x101 JUMPI PUSH1 0x0 DUP2 PUSH1 0x0 SWAP1 SSTORE POP PUSH1 0x1 ADD PUSH2 0xE9 JUMP JUMPDEST POP SWAP1 JUMP JUMPDEST PUSH32 0x4E487B7100000000000000000000000000000000000000000000000000000000 PUSH1 0x0 MSTORE PUSH1 0x22 PUSH1 0x4 MSTORE PUSH1 0x24 PUSH1 0x0 REVERT JUMPDEST PUSH1 0x0 PUSH1 0x2 DUP3 DIV SWAP1 POP PUSH1 0x1 DUP3 AND DUP1 PUSH2 0x14C JUMPI PUSH1 0x7F DUP3 AND SWAP2 POP JUMPDEST PUSH1 0x20 DUP3 LT DUP2 SUB PUSH2 0x15F JUMPI PUSH2 0x15E PUSH2 0x105 JUMP JUMPDEST JUMPDEST POP SWAP2 SWAP1 POP JUMP JUMPDEST PUSH2 0x22D DUP1 PUSH2 0x174 PUSH1 0x0 CODECOPY PUSH1 0x0 RETURN INVALID PUSH1 0x80 PUSH1 0x40 MSTORE CALLVALUE DUP1 ISZERO PUSH2 0x10 JUMPI PUSH1 0x0 DUP1 REVERT JUMPDEST POP PUSH1 0x4 CALLDATASIZE LT PUSH2 0x2B JUMPI PUSH1 0x0 CALLDATALOAD PUSH1 0xE0 SHR DUP1 PUSH4 0xCFAE3217 EQ PUSH2 0x30 JUMPI JUMPDEST PUSH1 0x0 DUP1 REVERT JUMPDEST PUSH2 0x38 PUSH2 0x4E JUMP JUMPDEST PUSH1 0x40 MLOAD PUSH2 0x45 SWAP2 SWAP1 PUSH2 0x175 JUMP JUMPDEST PUSH1 0x40 MLOAD DUP1 SWAP2 SUB SWAP1 RETURN JUMPDEST PUSH1 0x0 DUP1 SLOAD PUSH2 0x5B SWAP1 PUSH2 0x1C6 JUMP JUMPDEST DUP1 PUSH1 0x1F ADD PUSH1 0x20 DUP1 SWAP2 DIV MUL PUSH1 0x20 ADD PUSH1 0x40 MLOAD SWAP1 DUP2 ADD PUSH1 0x40 MSTORE DUP1 SWAP3 SWAP2 SWAP1 DUP2 DUP2 MSTORE PUSH1 0x20 ADD DUP3 DUP1 SLOAD PUSH2 0x87 SWAP1 PUSH2 0x1C6 JUMP JUMPDEST DUP1 ISZERO PUSH2 0xD4 JUMPI DUP1 PUSH1 0x1F LT PUSH2 0xA9 JUMPI PUSH2 0x100 DUP1 DUP4 SLOAD DIV MUL DUP4 MSTORE SWAP2 PUSH1 0x20 ADD SWAP2 PUSH2 0xD4 JUMP JUMPDEST DUP3 ADD SWAP2 SWAP1 PUSH1 0x0 MSTORE PUSH1 0x20 PUSH1 0x0 KECCAK256 SWAP1 JUMPDEST DUP2 SLOAD DUP2 MSTORE SWAP1 PUSH1 0x1 ADD SWAP1 PUSH1 0x20 ADD DUP1 DUP4 GT PUSH2 0xB7 JUMPI DUP3 SWAP1 SUB PUSH1 0x1F AND DUP3 ADD SWAP2 JUMPDEST POP POP POP POP POP DUP2 JUMP JUMPDEST PUSH1 0x0 DUP2 MLOAD SWAP1 POP SWAP2 SWAP1 POP JUMP JUMPDEST PUSH1 0x0 DUP3 DUP3 MSTORE PUSH1 0x20 DUP3 ADD SWAP1 POP SWAP3 SWAP2 POP POP JUMP JUMPDEST PUSH1 0x0 JUMPDEST DUP4 DUP2 LT ISZERO PUSH2 0x116 JUMPI DUP1 DUP3 ADD MLOAD DUP2 DUP5 ADD MSTORE PUSH1 0x20 DUP2 ADD SWAP1 POP PUSH2 0xFB JUMP JUMPDEST DUP4 DUP2 GT ISZERO PUSH2 0x125 JUMPI PUSH1 0x0 DUP5 DUP5 ADD MSTORE JUMPDEST POP POP POP POP JUMP JUMPDEST PUSH1 0x0 PUSH1 0x1F NOT PUSH1 0x1F DUP4 ADD AND SWAP1 POP SWAP2 SWAP1 POP JUMP JUMPDEST PUSH1 0x0 PUSH2 0x147 DUP3 PUSH2 0xDC JUMP JUMPDEST PUSH2 0x151 DUP2 DUP6 PUSH2 0xE7 JUMP JUMPDEST SWAP4 POP PUSH2 0x161 DUP2 DUP6 PUSH1 0x20 DUP7 ADD PUSH2 0xF8 JUMP JUMPDEST PUSH2 0x16A DUP2 PUSH2 0x12B JUMP JUMPDEST DUP5 ADD SWAP2 POP POP SWAP3 SWAP2 POP POP JUMP JUMPDEST PUSH1 0x0 PUSH1 0x20 DUP3 ADD SWAP1 POP DUP2 DUP2 SUB PUSH1 0x0 DUP4 ADD MSTORE PUSH2 0x18F DUP2 DUP5 PUSH2 0x13C JUMP JUMPDEST SWAP1 POP SWAP3 SWAP2 POP POP JUMP JUMPDEST PUSH32 0x4E487B7100000000000000000000000000000000000000000000000000000000 PUSH1 0x0 MSTORE PUSH1 0x22 PUSH1 0x4 MSTORE PUSH1 0x24 PUSH1 0x0 REVERT JUMPDEST PUSH1 0x0 PUSH1 0x2 DUP3 DIV SWAP1 POP PUSH1 0x1 DUP3 AND DUP1 PUSH2 0x1DE JUMPI PUSH1 0x7F DUP3 AND SWAP2 POP JUMPDEST PUSH1 0x20 DUP3 LT DUP2 SUB PUSH2 0x1F1 JUMPI PUSH2 0x1F0 PUSH2 0x197 JUMP JUMPDEST JUMPDEST POP SWAP2 SWAP1 POP JUMP INVALID LOG2 PUSH5 0x6970667358 0x22 SLT KECCAK256 0xB2 GAS SWAP5 SWAP12 0xA8 0xCD 0xCD 0x4D 0xCE 0x5F CALLCODE 0xCF DUP6 PUSH21 0xFD60F742022C5B670D9A896109B4728BCA2964736F PUSH13 0x634300080D0033000000000000 ',\n",
       "      'sourceMap': '27:65:0:-:0;;;53:36;;;;;;;;;;;;;;;;;;;;;;;;;;;;;;:::i;:::-;;27:65;;;;;;;;;;;;;;;;;;;:::i;:::-;;;;;;;;;;;;;;;;;;;;;;;;;;;;;;;;;;;;;;;;;;;;;;;;;;;;;;;;;;;;;;;;;;;;;;;;;;;;;;;;;;;;;;;;:::i;:::-;;;:::o;:::-;;;;;;;;;;;;;;;;;;;;;:::o;7:180:1:-;55:77;52:1;45:88;152:4;149:1;142:15;176:4;173:1;166:15;193:320;237:6;274:1;268:4;264:12;254:22;;321:1;315:4;311:12;342:18;332:81;;398:4;390:6;386:17;376:27;;332:81;460:2;452:6;449:14;429:18;426:38;423:84;;479:18;;:::i;:::-;423:84;244:269;193:320;;;:::o;27:65:0:-;;;;;;;'}},\n",
       "    'metadata': '{\"compiler\":{\"version\":\"0.8.13+commit.abaa5c0e\"},\"language\":\"Solidity\",\"output\":{\"abi\":[{\"inputs\":[],\"name\":\"greet\",\"outputs\":[{\"internalType\":\"string\",\"name\":\"\",\"type\":\"string\"}],\"stateMutability\":\"view\",\"type\":\"function\"}],\"devdoc\":{\"kind\":\"dev\",\"methods\":{},\"version\":1},\"userdoc\":{\"kind\":\"user\",\"methods\":{},\"version\":1}},\"settings\":{\"compilationTarget\":{\"Hello.sol\":\"HelloWorld\"},\"evmVersion\":\"london\",\"libraries\":{},\"metadata\":{\"bytecodeHash\":\"ipfs\"},\"optimizer\":{\"enabled\":false,\"runs\":200},\"remappings\":[]},\"sources\":{\"Hello.sol\":{\"keccak256\":\"0xe722d2446c8a30994e713029a3b78cfbb6bdd6ecdc591cb23521ed2e8237a724\",\"urls\":[\"bzz-raw://13b17482ee2e8205cd2b947a0c7e2a763c817e6b5c87ee21a46f9b0106113bb9\",\"dweb:/ipfs/Qma4nrhaK6LAT6cMHjx2DE9y6TX26gE5GKiDpk1gU3HkAt\"]}},\"version\":1}'}}},\n",
       " 'errors': [{'component': 'general',\n",
       "   'errorCode': '1878',\n",
       "   'formattedMessage': 'Warning: SPDX license identifier not provided in source file. Before publishing, consider adding a comment containing \"SPDX-License-Identifier: <SPDX-License>\" to each source file. Use \"SPDX-License-Identifier: UNLICENSED\" for non-open-source code. Please see https://spdx.org for more information.\\n--> Hello.sol\\n\\n',\n",
       "   'message': 'SPDX license identifier not provided in source file. Before publishing, consider adding a comment containing \"SPDX-License-Identifier: <SPDX-License>\" to each source file. Use \"SPDX-License-Identifier: UNLICENSED\" for non-open-source code. Please see https://spdx.org for more information.',\n",
       "   'severity': 'warning',\n",
       "   'sourceLocation': {'end': -1, 'file': 'Hello.sol', 'start': -1},\n",
       "   'type': 'Warning'}],\n",
       " 'sources': {'Hello.sol': {'id': 0}}}"
      ]
     },
     "execution_count": 107,
     "metadata": {},
     "output_type": "execute_result"
    }
   ],
   "source": [
    "compiled_sol"
   ]
  },
  {
   "cell_type": "code",
   "execution_count": 108,
   "id": "61604cf7",
   "metadata": {},
   "outputs": [],
   "source": [
    "# get bytecode\n",
    "bytecode = compiled_sol[\"contracts\"][\"Hello.sol\"][\"HelloWorld\"][\"evm\"][\"bytecode\"][\"object\"]\n",
    "# get abia\n",
    "abi = json.loads(compiled_sol[\"contracts\"][\"Hello.sol\"][\"HelloWorld\"][\"metadata\"])[\"output\"][\"abi\"]"
   ]
  },
  {
   "cell_type": "code",
   "execution_count": 109,
   "id": "d3018872",
   "metadata": {},
   "outputs": [
    {
     "data": {
      "text/plain": [
       "'0xcF880b1340f3a127C3188B82f73aeC111DaC9835'"
      ]
     },
     "execution_count": 109,
     "metadata": {},
     "output_type": "execute_result"
    }
   ],
   "source": [
    "with open('UTC--2022-08-16T02-24-26.046033033Z--cf880b1340f3a127c3188b82f73aec111dac9835') as keyfile:\n",
    "    keyfile_json = keyfile.read()\n",
    "keyfile_json\n",
    "\n",
    "private_key = Account.decrypt(keyfile_json, 'mirae123!')\n",
    "private_key\n",
    "\n",
    "acct = Account.privateKeyToAccount(private_key)\n",
    "acct\n",
    "\n",
    "ether_address = acct.address\n",
    "ether_address"
   ]
  },
  {
   "cell_type": "code",
   "execution_count": 110,
   "id": "2100129b",
   "metadata": {},
   "outputs": [
    {
     "name": "stdout",
     "output_type": "stream",
     "text": [
      "Deploying Contract!\n",
      "Waiting for transaction to finish...\n",
      "Done! Contract deployed to 0x5cDd62fc69e5aF04788485CE668FfB41973588D6\n"
     ]
    }
   ],
   "source": [
    "# For connecting to ganache\n",
    "w3 = Web3(Web3.HTTPProvider(\"http://175.45.201.73:8505\"))\n",
    "chain_id = 1235\n",
    "\n",
    "ContactList = w3.eth.contract(abi=abi, bytecode=bytecode)\n",
    "# Get the number of latest transaction\n",
    "nonce = w3.eth.getTransactionCount(ether_address)\n",
    "\n",
    "\n",
    "# build transaction\n",
    "transaction = ContactList.constructor().buildTransaction(\n",
    "    {\n",
    "        \"chainId\": chain_id,\n",
    "        \"gasPrice\": w3.eth.gas_price,\n",
    "        \"from\": ether_address,\n",
    "        \"nonce\": nonce,\n",
    "    }\n",
    ")\n",
    "# Sign the transaction\n",
    "sign_transaction = w3.eth.account.sign_transaction(transaction, private_key=private_key)\n",
    "print(\"Deploying Contract!\")\n",
    "# Send the transaction\n",
    "transaction_hash = w3.eth.send_raw_transaction(sign_transaction.rawTransaction)\n",
    "# Wait for the transaction to be mined, and get the transaction receipt\n",
    "print(\"Waiting for transaction to finish...\")\n",
    "transaction_receipt = w3.eth.wait_for_transaction_receipt(transaction_hash)\n",
    "print(f\"Done! Contract deployed to {transaction_receipt.contractAddress}\")"
   ]
  },
  {
   "cell_type": "code",
   "execution_count": 111,
   "id": "4012a494",
   "metadata": {},
   "outputs": [
    {
     "data": {
      "text/plain": [
       "AttributeDict({'blockHash': HexBytes('0x9b78d751554cf12a5a5dbf903897ff001a0a586f42721fb511421e2effa12aaf'),\n",
       " 'blockNumber': 258,\n",
       " 'contractAddress': '0x5cDd62fc69e5aF04788485CE668FfB41973588D6',\n",
       " 'cumulativeGasUsed': 239586,\n",
       " 'effectiveGasPrice': 1000000000,\n",
       " 'from': '0xcF880b1340f3a127C3188B82f73aeC111DaC9835',\n",
       " 'gasUsed': 239586,\n",
       " 'logs': [],\n",
       " 'logsBloom': HexBytes('0x00000000000000000000000000000000000000000000000000000000000000000000000000000000000000000000000000000000000000000000000000000000000000000000000000000000000000000000000000000000000000000000000000000000000000000000000000000000000000000000000000000000000000000000000000000000000000000000000000000000000000000000000000000000000000000000000000000000000000000000000000000000000000000000000000000000000000000000000000000000000000000000000000000000000000000000000000000000000000000000000000000000000000000000000000000000'),\n",
       " 'status': 1,\n",
       " 'to': None,\n",
       " 'transactionHash': HexBytes('0x53fcf83e2f80a5f297c625d895e88cd600c5fda397f401c66342dbdf0d2b402c'),\n",
       " 'transactionIndex': 0,\n",
       " 'type': '0x0'})"
      ]
     },
     "execution_count": 111,
     "metadata": {},
     "output_type": "execute_result"
    }
   ],
   "source": [
    "transaction_receipt"
   ]
  },
  {
   "cell_type": "code",
   "execution_count": 113,
   "id": "1c0d1ce7",
   "metadata": {},
   "outputs": [],
   "source": [
    "contact_list = w3.eth.contract(address=transaction_receipt.contractAddress, abi=abi)"
   ]
  },
  {
   "cell_type": "code",
   "execution_count": 114,
   "id": "ed6deddc",
   "metadata": {},
   "outputs": [],
   "source": [
    "store_contact = contact_list.functions.greet(\n",
    "            ).buildTransaction({\"chainId\": chain_id, \"from\": ether_address, \"gasPrice\": w3.eth.gas_price, \"nonce\": nonce + 1})"
   ]
  },
  {
   "cell_type": "code",
   "execution_count": 115,
   "id": "3f84f7b4",
   "metadata": {},
   "outputs": [],
   "source": [
    "# Sign the transaction\n",
    "sign_store_contact = w3.eth.account.sign_transaction(\n",
    "    store_contact, private_key=private_key\n",
    ")\n",
    "# Send the transaction\n",
    "send_store_contact = w3.eth.send_raw_transaction(sign_store_contact.rawTransaction)\n",
    "transaction_receipt = w3.eth.wait_for_transaction_receipt(send_store_contact)"
   ]
  },
  {
   "cell_type": "code",
   "execution_count": 116,
   "id": "93cb8a6e",
   "metadata": {},
   "outputs": [
    {
     "data": {
      "text/plain": [
       "HexBytes('0x2e577afe73c4715c08c1618fdc8f70515e88fd4c8b18abc44f05813a2e5d0642')"
      ]
     },
     "execution_count": 116,
     "metadata": {},
     "output_type": "execute_result"
    }
   ],
   "source": [
    "send_store_contact"
   ]
  },
  {
   "cell_type": "code",
   "execution_count": 117,
   "id": "dfb6885f",
   "metadata": {},
   "outputs": [
    {
     "data": {
      "text/plain": [
       "AttributeDict({'blockHash': HexBytes('0xb34756d17b1d628b95d7f711a68f02c28c95f2db13f545db364db09775620e73'),\n",
       " 'blockNumber': 261,\n",
       " 'contractAddress': None,\n",
       " 'cumulativeGasUsed': 22999,\n",
       " 'effectiveGasPrice': 1000000000,\n",
       " 'from': '0xcF880b1340f3a127C3188B82f73aeC111DaC9835',\n",
       " 'gasUsed': 22999,\n",
       " 'logs': [],\n",
       " 'logsBloom': HexBytes('0x00000000000000000000000000000000000000000000000000000000000000000000000000000000000000000000000000000000000000000000000000000000000000000000000000000000000000000000000000000000000000000000000000000000000000000000000000000000000000000000000000000000000000000000000000000000000000000000000000000000000000000000000000000000000000000000000000000000000000000000000000000000000000000000000000000000000000000000000000000000000000000000000000000000000000000000000000000000000000000000000000000000000000000000000000000000'),\n",
       " 'status': 1,\n",
       " 'to': '0x5cDd62fc69e5aF04788485CE668FfB41973588D6',\n",
       " 'transactionHash': HexBytes('0x2e577afe73c4715c08c1618fdc8f70515e88fd4c8b18abc44f05813a2e5d0642'),\n",
       " 'transactionIndex': 0,\n",
       " 'type': '0x0'})"
      ]
     },
     "execution_count": 117,
     "metadata": {},
     "output_type": "execute_result"
    }
   ],
   "source": [
    "transaction_receipt"
   ]
  },
  {
   "cell_type": "code",
   "execution_count": 118,
   "id": "d1932250",
   "metadata": {},
   "outputs": [
    {
     "name": "stdout",
     "output_type": "stream",
     "text": [
      "Hello World!\n"
     ]
    }
   ],
   "source": [
    "print(contact_list.functions.greet().call())"
   ]
  },
  {
   "cell_type": "markdown",
   "id": "6e73bac7",
   "metadata": {},
   "source": [
    "## Create My Own Smart Contract : 덧샘 함수!!"
   ]
  },
  {
   "cell_type": "code",
   "execution_count": 90,
   "id": "ca2a2c0b",
   "metadata": {},
   "outputs": [],
   "source": [
    "contact_list_file3  = '''\n",
    "// SPDX-License-Identifier: MIT\n",
    "pragma solidity ^0.8.13;\n",
    "\n",
    "contract ViewAndPure {\n",
    "    uint public x = 1;\n",
    "\n",
    "    // Promise not to modify the state.\n",
    "    function addToX(uint y) public view returns (uint) {\n",
    "        return x + y;\n",
    "    }\n",
    "\n",
    "    // Promise not to modify or read from the state.\n",
    "    function add(uint i, uint j) public pure returns (uint) {\n",
    "        return i + j;\n",
    "    }\n",
    "}\n",
    "\n",
    "'''"
   ]
  },
  {
   "cell_type": "code",
   "execution_count": 93,
   "id": "21c5818f",
   "metadata": {
    "scrolled": true
   },
   "outputs": [
    {
     "name": "stdout",
     "output_type": "stream",
     "text": [
      "{'contracts': {'plus.sol': {'ViewAndPure': {'abi': [{'inputs': [{'internalType': 'uint256', 'name': 'i', 'type': 'uint256'}, {'internalType': 'uint256', 'name': 'j', 'type': 'uint256'}], 'name': 'add', 'outputs': [{'internalType': 'uint256', 'name': '', 'type': 'uint256'}], 'stateMutability': 'pure', 'type': 'function'}, {'inputs': [{'internalType': 'uint256', 'name': 'y', 'type': 'uint256'}], 'name': 'addToX', 'outputs': [{'internalType': 'uint256', 'name': '', 'type': 'uint256'}], 'stateMutability': 'view', 'type': 'function'}, {'inputs': [], 'name': 'x', 'outputs': [{'internalType': 'uint256', 'name': '', 'type': 'uint256'}], 'stateMutability': 'view', 'type': 'function'}], 'evm': {'bytecode': {'functionDebugData': {}, 'generatedSources': [], 'linkReferences': {}, 'object': '6080604052600160005534801561001557600080fd5b50610284806100256000396000f3fe608060405234801561001057600080fd5b50600436106100415760003560e01c80630c55699c146100465780635965da7714610064578063771602f714610094575b600080fd5b61004e6100c4565b60405161005b9190610110565b60405180910390f35b61007e6004803603810190610079919061015c565b6100ca565b60405161008b9190610110565b60405180910390f35b6100ae60048036038101906100a99190610189565b6100e1565b6040516100bb9190610110565b60405180910390f35b60005481565b6000816000546100da91906101f8565b9050919050565b600081836100ef91906101f8565b905092915050565b6000819050919050565b61010a816100f7565b82525050565b60006020820190506101256000830184610101565b92915050565b600080fd5b610139816100f7565b811461014457600080fd5b50565b60008135905061015681610130565b92915050565b6000602082840312156101725761017161012b565b5b600061018084828501610147565b91505092915050565b600080604083850312156101a05761019f61012b565b5b60006101ae85828601610147565b92505060206101bf85828601610147565b9150509250929050565b7f4e487b7100000000000000000000000000000000000000000000000000000000600052601160045260246000fd5b6000610203826100f7565b915061020e836100f7565b9250827fffffffffffffffffffffffffffffffffffffffffffffffffffffffffffffffff03821115610243576102426101c9565b5b82820190509291505056fea26469706673582212207a06ff44b441a550ccc898f1957e816e70372410432c5366f3138da06f4aa99064736f6c634300080d0033', 'opcodes': 'PUSH1 0x80 PUSH1 0x40 MSTORE PUSH1 0x1 PUSH1 0x0 SSTORE CALLVALUE DUP1 ISZERO PUSH2 0x15 JUMPI PUSH1 0x0 DUP1 REVERT JUMPDEST POP PUSH2 0x284 DUP1 PUSH2 0x25 PUSH1 0x0 CODECOPY PUSH1 0x0 RETURN INVALID PUSH1 0x80 PUSH1 0x40 MSTORE CALLVALUE DUP1 ISZERO PUSH2 0x10 JUMPI PUSH1 0x0 DUP1 REVERT JUMPDEST POP PUSH1 0x4 CALLDATASIZE LT PUSH2 0x41 JUMPI PUSH1 0x0 CALLDATALOAD PUSH1 0xE0 SHR DUP1 PUSH4 0xC55699C EQ PUSH2 0x46 JUMPI DUP1 PUSH4 0x5965DA77 EQ PUSH2 0x64 JUMPI DUP1 PUSH4 0x771602F7 EQ PUSH2 0x94 JUMPI JUMPDEST PUSH1 0x0 DUP1 REVERT JUMPDEST PUSH2 0x4E PUSH2 0xC4 JUMP JUMPDEST PUSH1 0x40 MLOAD PUSH2 0x5B SWAP2 SWAP1 PUSH2 0x110 JUMP JUMPDEST PUSH1 0x40 MLOAD DUP1 SWAP2 SUB SWAP1 RETURN JUMPDEST PUSH2 0x7E PUSH1 0x4 DUP1 CALLDATASIZE SUB DUP2 ADD SWAP1 PUSH2 0x79 SWAP2 SWAP1 PUSH2 0x15C JUMP JUMPDEST PUSH2 0xCA JUMP JUMPDEST PUSH1 0x40 MLOAD PUSH2 0x8B SWAP2 SWAP1 PUSH2 0x110 JUMP JUMPDEST PUSH1 0x40 MLOAD DUP1 SWAP2 SUB SWAP1 RETURN JUMPDEST PUSH2 0xAE PUSH1 0x4 DUP1 CALLDATASIZE SUB DUP2 ADD SWAP1 PUSH2 0xA9 SWAP2 SWAP1 PUSH2 0x189 JUMP JUMPDEST PUSH2 0xE1 JUMP JUMPDEST PUSH1 0x40 MLOAD PUSH2 0xBB SWAP2 SWAP1 PUSH2 0x110 JUMP JUMPDEST PUSH1 0x40 MLOAD DUP1 SWAP2 SUB SWAP1 RETURN JUMPDEST PUSH1 0x0 SLOAD DUP2 JUMP JUMPDEST PUSH1 0x0 DUP2 PUSH1 0x0 SLOAD PUSH2 0xDA SWAP2 SWAP1 PUSH2 0x1F8 JUMP JUMPDEST SWAP1 POP SWAP2 SWAP1 POP JUMP JUMPDEST PUSH1 0x0 DUP2 DUP4 PUSH2 0xEF SWAP2 SWAP1 PUSH2 0x1F8 JUMP JUMPDEST SWAP1 POP SWAP3 SWAP2 POP POP JUMP JUMPDEST PUSH1 0x0 DUP2 SWAP1 POP SWAP2 SWAP1 POP JUMP JUMPDEST PUSH2 0x10A DUP2 PUSH2 0xF7 JUMP JUMPDEST DUP3 MSTORE POP POP JUMP JUMPDEST PUSH1 0x0 PUSH1 0x20 DUP3 ADD SWAP1 POP PUSH2 0x125 PUSH1 0x0 DUP4 ADD DUP5 PUSH2 0x101 JUMP JUMPDEST SWAP3 SWAP2 POP POP JUMP JUMPDEST PUSH1 0x0 DUP1 REVERT JUMPDEST PUSH2 0x139 DUP2 PUSH2 0xF7 JUMP JUMPDEST DUP2 EQ PUSH2 0x144 JUMPI PUSH1 0x0 DUP1 REVERT JUMPDEST POP JUMP JUMPDEST PUSH1 0x0 DUP2 CALLDATALOAD SWAP1 POP PUSH2 0x156 DUP2 PUSH2 0x130 JUMP JUMPDEST SWAP3 SWAP2 POP POP JUMP JUMPDEST PUSH1 0x0 PUSH1 0x20 DUP3 DUP5 SUB SLT ISZERO PUSH2 0x172 JUMPI PUSH2 0x171 PUSH2 0x12B JUMP JUMPDEST JUMPDEST PUSH1 0x0 PUSH2 0x180 DUP5 DUP3 DUP6 ADD PUSH2 0x147 JUMP JUMPDEST SWAP2 POP POP SWAP3 SWAP2 POP POP JUMP JUMPDEST PUSH1 0x0 DUP1 PUSH1 0x40 DUP4 DUP6 SUB SLT ISZERO PUSH2 0x1A0 JUMPI PUSH2 0x19F PUSH2 0x12B JUMP JUMPDEST JUMPDEST PUSH1 0x0 PUSH2 0x1AE DUP6 DUP3 DUP7 ADD PUSH2 0x147 JUMP JUMPDEST SWAP3 POP POP PUSH1 0x20 PUSH2 0x1BF DUP6 DUP3 DUP7 ADD PUSH2 0x147 JUMP JUMPDEST SWAP2 POP POP SWAP3 POP SWAP3 SWAP1 POP JUMP JUMPDEST PUSH32 0x4E487B7100000000000000000000000000000000000000000000000000000000 PUSH1 0x0 MSTORE PUSH1 0x11 PUSH1 0x4 MSTORE PUSH1 0x24 PUSH1 0x0 REVERT JUMPDEST PUSH1 0x0 PUSH2 0x203 DUP3 PUSH2 0xF7 JUMP JUMPDEST SWAP2 POP PUSH2 0x20E DUP4 PUSH2 0xF7 JUMP JUMPDEST SWAP3 POP DUP3 PUSH32 0xFFFFFFFFFFFFFFFFFFFFFFFFFFFFFFFFFFFFFFFFFFFFFFFFFFFFFFFFFFFFFFFF SUB DUP3 GT ISZERO PUSH2 0x243 JUMPI PUSH2 0x242 PUSH2 0x1C9 JUMP JUMPDEST JUMPDEST DUP3 DUP3 ADD SWAP1 POP SWAP3 SWAP2 POP POP JUMP INVALID LOG2 PUSH5 0x6970667358 0x22 SLT KECCAK256 PUSH27 0x6FF44B441A550CCC898F1957E816E70372410432C5366F3138DA0 PUSH16 0x4AA99064736F6C634300080D00330000 ', 'sourceMap': '59:317:0:-:0;;;102:1;86:17;;59:317;;;;;;;;;;;;;;;;'}}, 'metadata': '{\"compiler\":{\"version\":\"0.8.13+commit.abaa5c0e\"},\"language\":\"Solidity\",\"output\":{\"abi\":[{\"inputs\":[{\"internalType\":\"uint256\",\"name\":\"i\",\"type\":\"uint256\"},{\"internalType\":\"uint256\",\"name\":\"j\",\"type\":\"uint256\"}],\"name\":\"add\",\"outputs\":[{\"internalType\":\"uint256\",\"name\":\"\",\"type\":\"uint256\"}],\"stateMutability\":\"pure\",\"type\":\"function\"},{\"inputs\":[{\"internalType\":\"uint256\",\"name\":\"y\",\"type\":\"uint256\"}],\"name\":\"addToX\",\"outputs\":[{\"internalType\":\"uint256\",\"name\":\"\",\"type\":\"uint256\"}],\"stateMutability\":\"view\",\"type\":\"function\"},{\"inputs\":[],\"name\":\"x\",\"outputs\":[{\"internalType\":\"uint256\",\"name\":\"\",\"type\":\"uint256\"}],\"stateMutability\":\"view\",\"type\":\"function\"}],\"devdoc\":{\"kind\":\"dev\",\"methods\":{},\"version\":1},\"userdoc\":{\"kind\":\"user\",\"methods\":{},\"version\":1}},\"settings\":{\"compilationTarget\":{\"plus.sol\":\"ViewAndPure\"},\"evmVersion\":\"london\",\"libraries\":{},\"metadata\":{\"bytecodeHash\":\"ipfs\"},\"optimizer\":{\"enabled\":false,\"runs\":200},\"remappings\":[]},\"sources\":{\"plus.sol\":{\"keccak256\":\"0x6c605ab4f7da00b3a2c2c030502ec336f87d52f0c6eb8850e4f2c3ab2f71ce38\",\"license\":\"MIT\",\"urls\":[\"bzz-raw://d8c84d1bdc00e0da75a53b7656d6b333b29708b7b5ec54abdcfb1f16c9e6d50b\",\"dweb:/ipfs/QmULjkfPWxd3ChZgnDj3jMTv9TVGsjN15QH3TjM83jt1vL\"]}},\"version\":1}'}}}, 'sources': {'plus.sol': {'id': 0}}}\n"
     ]
    }
   ],
   "source": [
    "compiled_sol = compile_standard(\n",
    "    {\n",
    "        \"language\": \"Solidity\",\n",
    "        \"sources\": {\"plus.sol\": {\"content\": contact_list_file3}},\n",
    "        \"settings\": {\n",
    "            \"outputSelection\": {\n",
    "                \"*\": {\n",
    "                    \"*\": [\"abi\", \"metadata\", \"evm.bytecode\", \"evm.bytecode.sourceMap\"] # output needed to interact with and deploy contract \n",
    "                }\n",
    "            }\n",
    "        },\n",
    "    },\n",
    "    solc_version=\"0.8.13\",\n",
    ")\n",
    "print(compiled_sol)\n",
    "# with open(\"compiled_code.json\", \"w\") as file:\n",
    "#     json.dump(compiled_sol, file)"
   ]
  },
  {
   "cell_type": "code",
   "execution_count": 94,
   "id": "97aaad42",
   "metadata": {},
   "outputs": [],
   "source": [
    "# get bytecode\n",
    "bytecode = compiled_sol[\"contracts\"][\"plus.sol\"][\"ViewAndPure\"][\"evm\"][\"bytecode\"][\"object\"]\n",
    "# get abia\n",
    "abi = json.loads(compiled_sol[\"contracts\"][\"plus.sol\"][\"ViewAndPure\"][\"metadata\"])[\"output\"][\"abi\"]"
   ]
  },
  {
   "cell_type": "code",
   "execution_count": 95,
   "id": "b68e9add",
   "metadata": {},
   "outputs": [
    {
     "data": {
      "text/plain": [
       "'0xcF880b1340f3a127C3188B82f73aeC111DaC9835'"
      ]
     },
     "execution_count": 95,
     "metadata": {},
     "output_type": "execute_result"
    }
   ],
   "source": [
    "with open('UTC--2022-08-16T02-24-26.046033033Z--cf880b1340f3a127c3188b82f73aec111dac9835') as keyfile:\n",
    "    keyfile_json = keyfile.read()\n",
    "keyfile_json\n",
    "\n",
    "private_key = Account.decrypt(keyfile_json, 'mirae123!')\n",
    "private_key\n",
    "\n",
    "acct = Account.privateKeyToAccount(private_key)\n",
    "acct\n",
    "\n",
    "ether_address = acct.address\n",
    "ether_address"
   ]
  },
  {
   "cell_type": "code",
   "execution_count": 96,
   "id": "82db21f2",
   "metadata": {},
   "outputs": [
    {
     "name": "stdout",
     "output_type": "stream",
     "text": [
      "Deploying Contract!\n",
      "Waiting for transaction to finish...\n",
      "Done! Contract deployed to 0xBFeff9c0401C352DCFC36C21e1fbb76e5AD9CB9f\n"
     ]
    }
   ],
   "source": [
    "# For connecting to ganache\n",
    "w3 = Web3(Web3.HTTPProvider(\"http://175.45.201.73:8505\"))\n",
    "chain_id = 1235\n",
    "\n",
    "ContactList = w3.eth.contract(abi=abi, bytecode=bytecode)\n",
    "# Get the number of latest transaction\n",
    "nonce = w3.eth.getTransactionCount(ether_address)\n",
    "\n",
    "\n",
    "# build transaction\n",
    "transaction = ContactList.constructor().buildTransaction(\n",
    "    {\n",
    "        \"chainId\": chain_id,\n",
    "        \"gasPrice\": w3.eth.gas_price,\n",
    "        \"from\": ether_address,\n",
    "        \"nonce\": nonce,\n",
    "    }\n",
    ")\n",
    "# Sign the transaction\n",
    "sign_transaction = w3.eth.account.sign_transaction(transaction, private_key=private_key)\n",
    "print(\"Deploying Contract!\")\n",
    "# Send the transaction\n",
    "transaction_hash = w3.eth.send_raw_transaction(sign_transaction.rawTransaction)\n",
    "# Wait for the transaction to be mined, and get the transaction receipt\n",
    "print(\"Waiting for transaction to finish...\")\n",
    "transaction_receipt = w3.eth.wait_for_transaction_receipt(transaction_hash)\n",
    "print(f\"Done! Contract deployed to {transaction_receipt.contractAddress}\")"
   ]
  },
  {
   "cell_type": "code",
   "execution_count": 97,
   "id": "ec4d922b",
   "metadata": {},
   "outputs": [],
   "source": [
    "contact_list = w3.eth.contract(address=transaction_receipt.contractAddress, abi=abi)"
   ]
  },
  {
   "cell_type": "code",
   "execution_count": 99,
   "id": "8e0c7080",
   "metadata": {},
   "outputs": [],
   "source": [
    "store_contact = contact_list.functions.add(1,5\n",
    "            ).buildTransaction({\"chainId\": chain_id, \"from\": ether_address, \"gasPrice\": w3.eth.gas_price, \"nonce\": nonce + 1})"
   ]
  },
  {
   "cell_type": "code",
   "execution_count": 100,
   "id": "0f63128f",
   "metadata": {},
   "outputs": [],
   "source": [
    "# Sign the transaction\n",
    "sign_store_contact = w3.eth.account.sign_transaction(\n",
    "    store_contact, private_key=private_key\n",
    ")\n",
    "# Send the transaction\n",
    "send_store_contact = w3.eth.send_raw_transaction(sign_store_contact.rawTransaction)\n",
    "transaction_receipt = w3.eth.wait_for_transaction_receipt(send_store_contact)"
   ]
  },
  {
   "cell_type": "code",
   "execution_count": 103,
   "id": "78bb3291",
   "metadata": {},
   "outputs": [
    {
     "name": "stdout",
     "output_type": "stream",
     "text": [
      "9\n"
     ]
    }
   ],
   "source": [
    "print(contact_list.functions.add(1,8).call())"
   ]
  },
  {
   "cell_type": "code",
   "execution_count": null,
   "id": "141e9d6f",
   "metadata": {},
   "outputs": [],
   "source": [
    "https://solidity-by-example.org/"
   ]
  }
 ],
 "metadata": {
  "kernelspec": {
   "display_name": "Python 3",
   "language": "python",
   "name": "python3"
  },
  "language_info": {
   "codemirror_mode": {
    "name": "ipython",
    "version": 3
   },
   "file_extension": ".py",
   "mimetype": "text/x-python",
   "name": "python",
   "nbconvert_exporter": "python",
   "pygments_lexer": "ipython3",
   "version": "3.8.10"
  }
 },
 "nbformat": 4,
 "nbformat_minor": 5
}
